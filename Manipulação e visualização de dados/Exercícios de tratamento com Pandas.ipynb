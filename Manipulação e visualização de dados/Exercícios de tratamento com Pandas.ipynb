{
 "cells": [
  {
   "cell_type": "markdown",
   "id": "b10a5bcb",
   "metadata": {},
   "source": [
    "### Manipulação de dados com Pandas"
   ]
  },
  {
   "cell_type": "code",
   "execution_count": 1,
   "id": "2f39430f",
   "metadata": {},
   "outputs": [],
   "source": [
    "import pandas as pd\n",
    "import random"
   ]
  },
  {
   "cell_type": "code",
   "execution_count": 3,
   "id": "84acfd97",
   "metadata": {},
   "outputs": [
    {
     "name": "stdout",
     "output_type": "stream",
     "text": [
      "   ID do Cliente       Nome  Idade     Cidade  Valor Total Gasto\n",
      "0              1  Cliente 1     51   Cidade 3             887.55\n",
      "1              2  Cliente 2     37   Cidade 2             986.91\n",
      "2              3  Cliente 3     45   Cidade 9             949.40\n",
      "3              4  Cliente 4     20  Cidade 10             225.37\n",
      "4              5  Cliente 5     49   Cidade 2             316.13\n"
     ]
    }
   ],
   "source": [
    "# Definindo a quantidade de registros\n",
    "num_records = 100\n",
    "\n",
    "# Gerando dados fictícios\n",
    "data = {\n",
    "    'ID do Cliente': [i+1 for i in range(num_records)],\n",
    "    'Nome': ['Cliente ' + str(i+1) for i in range(num_records)],\n",
    "    'Idade': [random.randint(18, 65) for _ in range(num_records)],\n",
    "    'Cidade': ['Cidade ' + str(random.randint(1, 10)) for _ in range(num_records)],\n",
    "    'Valor Total Gasto': [round(random.uniform(50, 1000), 2) for _ in range(num_records)]\n",
    "}\n",
    "\n",
    "# Criando o DataFrame\n",
    "df = pd.DataFrame(data)\n",
    "\n",
    "# Exibindo as primeiras linhas do DataFrame\n",
    "print(df.head())"
   ]
  },
  {
   "cell_type": "markdown",
   "id": "0a47b846",
   "metadata": {},
   "source": [
    "### Ex 1: Carregue uma base de dados CSV usando o Pandas."
   ]
  },
  {
   "cell_type": "code",
   "execution_count": null,
   "id": "de61f414",
   "metadata": {},
   "outputs": [],
   "source": [
    "df = pd.read_csv(r'caminho/do/arquivo.csv')"
   ]
  },
  {
   "cell_type": "markdown",
   "id": "a7d66f91",
   "metadata": {},
   "source": [
    "### Ex 2: Exiba as primeiras 5 linhas de um DataFrame."
   ]
  },
  {
   "cell_type": "code",
   "execution_count": null,
   "id": "502eed96",
   "metadata": {},
   "outputs": [],
   "source": [
    "df.head(5)"
   ]
  },
  {
   "cell_type": "markdown",
   "id": "82e69b29",
   "metadata": {},
   "source": [
    "### Ex 3: Selecione uma coluna específica de um DataFrame."
   ]
  },
  {
   "cell_type": "code",
   "execution_count": null,
   "id": "67fa4696",
   "metadata": {},
   "outputs": [],
   "source": [
    "df['ID do Cliente']"
   ]
  },
  {
   "cell_type": "markdown",
   "id": "3ada0bb7",
   "metadata": {},
   "source": [
    "### Ex 4: Calcule a média de uma coluna numérica."
   ]
  },
  {
   "cell_type": "code",
   "execution_count": null,
   "id": "70afa26b",
   "metadata": {},
   "outputs": [],
   "source": [
    "df['Valor Total Gasto'].mean()"
   ]
  },
  {
   "cell_type": "markdown",
   "id": "7c325ac3",
   "metadata": {},
   "source": [
    "### Ex 5: Conte o número de valores únicos em uma coluna."
   ]
  },
  {
   "cell_type": "code",
   "execution_count": null,
   "id": "bb18a537",
   "metadata": {},
   "outputs": [],
   "source": [
    "df['ID do Cliente'].drop_duplicates().count()"
   ]
  },
  {
   "cell_type": "markdown",
   "id": "94b1176a",
   "metadata": {},
   "source": [
    "### Ex 6: Filtre linhas com base em uma condição."
   ]
  },
  {
   "cell_type": "code",
   "execution_count": null,
   "id": "1f4c12a6",
   "metadata": {},
   "outputs": [],
   "source": [
    "df.loc[ df['ID do Cliente'] > 20 ]"
   ]
  },
  {
   "cell_type": "markdown",
   "id": "3d83bd3d",
   "metadata": {},
   "source": [
    "### Ex 7: Preencha valores faltantes com a média de uma coluna."
   ]
  },
  {
   "cell_type": "code",
   "execution_count": null,
   "id": "7824ce5f",
   "metadata": {},
   "outputs": [],
   "source": [
    "df['Valor Total Gasto'].fillna( df['Valor Total Gasto'].mean() )"
   ]
  },
  {
   "cell_type": "markdown",
   "id": "ca79f627",
   "metadata": {},
   "source": [
    "### Ex 8: Crie uma nova coluna calculada a partir de outras colunas."
   ]
  },
  {
   "cell_type": "code",
   "execution_count": null,
   "id": "71ce999a",
   "metadata": {},
   "outputs": [],
   "source": [
    "df['Media Tres Anteriores'] = df.rolling(window=3).mean()"
   ]
  },
  {
   "cell_type": "markdown",
   "id": "c3596caa",
   "metadata": {},
   "source": [
    "### Ex 9: Ordene o DataFrame com base em uma coluna."
   ]
  },
  {
   "cell_type": "code",
   "execution_count": null,
   "id": "af4cca66",
   "metadata": {},
   "outputs": [],
   "source": [
    "df.sort_values(by='Cidade')"
   ]
  },
  {
   "cell_type": "markdown",
   "id": "25b2487b",
   "metadata": {},
   "source": [
    "### Ex 10: Agrupe dados por uma coluna e calcule a soma."
   ]
  },
  {
   "cell_type": "code",
   "execution_count": null,
   "id": "cc25bc53",
   "metadata": {},
   "outputs": [],
   "source": [
    "df.groupby('ID do Cliente').sum()"
   ]
  },
  {
   "cell_type": "markdown",
   "id": "bb398bd5",
   "metadata": {},
   "source": [
    "### Ex 11: Crie um gráfico de barras mostrando contagem de valores em uma coluna."
   ]
  },
  {
   "cell_type": "code",
   "execution_count": null,
   "id": "24142546",
   "metadata": {},
   "outputs": [],
   "source": [
    "import matplotlib.pyplot as plt\n",
    "\n",
    "janela = plt.figure(figsize=(15, 7))\n",
    "plt.bar(df['Cidade'], df['Valor Total Gasto'])"
   ]
  },
  {
   "cell_type": "markdown",
   "id": "2110f74d",
   "metadata": {},
   "source": [
    "### Ex 12: Realize um merge entre dois DataFrames."
   ]
  },
  {
   "cell_type": "code",
   "execution_count": null,
   "id": "7abce9b9",
   "metadata": {},
   "outputs": [],
   "source": [
    "# Gerando dados fictícios para o df2\n",
    "data2 = {\n",
    "    'ID do Cliente': [i+1 for i in range(num_records)],\n",
    "    'Nome': ['Cliente ' + str(i+1) for i in range(num_records)],\n",
    "    'Idade': [random.randint(18, 65) for _ in range(num_records)],\n",
    "    'Cidade': ['Cidade ' + str(random.randint(1, 10)) for _ in range(num_records)],\n",
    "    'Valor Total Gasto': [round(random.uniform(50, 1000), 2) for _ in range(num_records)]\n",
    "}\n",
    "\n",
    "# Criando o DataFrame\n",
    "df2 = pd.DataFrame(data2)\n",
    "\n",
    "merge_df = df.merge(df2, on='ID do Cliente', how='inner')"
   ]
  },
  {
   "cell_type": "markdown",
   "id": "25215709",
   "metadata": {},
   "source": [
    "### Ex 13: Remova duplicatas de um DataFrame."
   ]
  },
  {
   "cell_type": "code",
   "execution_count": null,
   "id": "ed3f201a",
   "metadata": {},
   "outputs": [],
   "source": [
    "df = df.drop_duplicates()"
   ]
  },
  {
   "cell_type": "markdown",
   "id": "35d0ed0f",
   "metadata": {},
   "source": [
    "### Ex 14: Pivote um DataFrame para transformar valores em colunas."
   ]
  },
  {
   "cell_type": "code",
   "execution_count": null,
   "id": "b6be6d2d",
   "metadata": {},
   "outputs": [],
   "source": [
    "df.pivot_table(index='Cidade', columns=['ID do Cliente', 'Nome'], values='Valor Total Gasto')"
   ]
  },
  {
   "cell_type": "markdown",
   "id": "ad2fb53c",
   "metadata": {},
   "source": [
    "### Ex 15: Use uma função de agregação personalizada em um grupo de dados."
   ]
  },
  {
   "cell_type": "code",
   "execution_count": null,
   "id": "a3fe677f",
   "metadata": {},
   "outputs": [],
   "source": [
    "def media_ponderada_ficticia(df_func):\n",
    "    resultado = df_func['Idade'].corr(df['Valor Total Gasto'])\n",
    "    return pd.Series({'Correlação Idade - V Total Gasto': resultado})\n",
    "\n",
    "df.groupby('Cidade').apply(media_ponderada_ficticia)"
   ]
  },
  {
   "cell_type": "markdown",
   "id": "153d46e8",
   "metadata": {},
   "source": [
    "### Ex 16: Transforme valores de uma coluna aplicando uma função lambda."
   ]
  },
  {
   "cell_type": "code",
   "execution_count": null,
   "id": "46304777",
   "metadata": {},
   "outputs": [],
   "source": [
    "df.groupby('Cidade').apply(lambda x: {'Idade max - min': pd.Series(x['Idade']).min() - pd.Series(x['Idade']).max()})"
   ]
  },
  {
   "cell_type": "markdown",
   "id": "c940619e",
   "metadata": {},
   "source": [
    "### Ex 17: Converta dados de string para datetime."
   ]
  },
  {
   "cell_type": "code",
   "execution_count": null,
   "id": "24548534",
   "metadata": {},
   "outputs": [],
   "source": [
    "from datetime import date\n",
    "\n",
    "data_atual_str = str(date.today())\n",
    "\n",
    "df['Data'] = pd.to_datetime( data_atual_str )"
   ]
  },
  {
   "cell_type": "markdown",
   "id": "b429c354",
   "metadata": {},
   "source": [
    "### Ex 18: Faça um plot de dispersão (scatter plot) entre duas colunas."
   ]
  },
  {
   "cell_type": "code",
   "execution_count": null,
   "id": "953dfc62",
   "metadata": {},
   "outputs": [],
   "source": [
    "import matplotlib.pyplot as plt\n",
    "\n",
    "plt.scatter( df['Cidade'], df['Valor Total Gasto'] )\n",
    "plt.xticks(rotation=45)"
   ]
  },
  {
   "cell_type": "markdown",
   "id": "8810b8da",
   "metadata": {},
   "source": [
    "### Ex 19: Crie uma tabela dinâmica (pivot table) com agregações."
   ]
  },
  {
   "cell_type": "code",
   "execution_count": null,
   "id": "2e2c2bf5",
   "metadata": {},
   "outputs": [],
   "source": [
    "pivot = df.pivot_table(index='Cidade', columns='Nome', values='Valor Total Gasto' )\n",
    "pivot2 = pivot.applymap(lambda x: x * 2)"
   ]
  },
  {
   "cell_type": "markdown",
   "id": "fb2a9892",
   "metadata": {},
   "source": [
    "### Ex 20: Calcule a correlação entre colunas numéricas."
   ]
  },
  {
   "cell_type": "code",
   "execution_count": null,
   "id": "c3836fd1",
   "metadata": {},
   "outputs": [],
   "source": [
    "df['Idade'].corr(df['Valor Total Gasto'])"
   ]
  },
  {
   "cell_type": "markdown",
   "id": "530afdc7",
   "metadata": {},
   "source": [
    "### Ex 21: Lide com dados em formato JSON, normalizando-os em um DataFrame."
   ]
  },
  {
   "cell_type": "code",
   "execution_count": null,
   "id": "09d4bb8b",
   "metadata": {},
   "outputs": [],
   "source": [
    "\n",
    "dados_json = {\n",
    "  \"nome\": \"João da Silva\",\n",
    "  \"idade\": 30,\n",
    "  \"cidade\": \"São Paulo\",\n",
    "  \"interesses\": [\"leitura\", \"esportes\", \"viagens\"],\n",
    "  \"contato\": {\n",
    "    \"email\": \"joao@example.com\",\n",
    "    \"telefone\": \"123-456-7890\"\n",
    "  }\n",
    "}\n",
    "\n",
    "dados_normalizados = pd.json_normalize(\n",
    "    dados_json, # Base de dados\n",
    "    'interesses', # Coluna para expandir\n",
    "    ['nome', 'idade', 'cidade', ['contato', 'email'], ['contato', 'telefone'] ], # Seleção de colunas\n",
    "    record_prefix='i' \n",
    ")\n",
    "\n",
    "dados_normalizados.rename( columns={'i0':'Interesse'}, inplace=True  )\n"
   ]
  },
  {
   "cell_type": "markdown",
   "id": "4110e519",
   "metadata": {},
   "source": [
    "### Ex 22: Faça operações em grupos de dados com transform."
   ]
  },
  {
   "cell_type": "code",
   "execution_count": null,
   "id": "19b74aa4",
   "metadata": {},
   "outputs": [],
   "source": [
    "dados_normalizados['Tipo de interesse'] = dados_normalizados['Interesse'].transform(lambda x: 'Legal' if x in ('leitura', 'esportes') else 'Chato')\n"
   ]
  },
  {
   "cell_type": "markdown",
   "id": "ec10825f",
   "metadata": {},
   "source": [
    "### Ex 23: Utilize a função apply para realizar operações complexas em um DataFrame."
   ]
  },
  {
   "cell_type": "code",
   "execution_count": null,
   "id": "32a121d2",
   "metadata": {},
   "outputs": [],
   "source": [
    "df.groupby('Cidade').apply(lambda x: x['Idade'].mean())\n",
    "df.groupby('Cidade')['Idade'].mean() # A de cima e essa são a mesma coisa"
   ]
  }
 ],
 "metadata": {
  "kernelspec": {
   "display_name": "Python 3 (ipykernel)",
   "language": "python",
   "name": "python3"
  },
  "language_info": {
   "codemirror_mode": {
    "name": "ipython",
    "version": 3
   },
   "file_extension": ".py",
   "mimetype": "text/x-python",
   "name": "python",
   "nbconvert_exporter": "python",
   "pygments_lexer": "ipython3",
   "version": "3.10.9"
  }
 },
 "nbformat": 4,
 "nbformat_minor": 5
}
