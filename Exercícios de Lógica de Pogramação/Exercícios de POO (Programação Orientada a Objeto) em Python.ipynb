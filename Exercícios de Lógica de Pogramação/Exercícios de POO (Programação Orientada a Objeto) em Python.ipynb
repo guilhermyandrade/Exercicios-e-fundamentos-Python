{
 "cells": [
  {
   "cell_type": "markdown",
   "id": "490b419d",
   "metadata": {},
   "source": [
    "# Prática de Programação Orientada a Objetos em Python"
   ]
  },
  {
   "cell_type": "markdown",
   "id": "cb19e4a7",
   "metadata": {},
   "source": [
    "### Exercício 1: Criar uma Classe Básica\n",
    "Crie uma classe chamada Pessoa com atributos nome e idade. Crie um objeto dessa classe e imprima seus atributos."
   ]
  },
  {
   "cell_type": "code",
   "execution_count": 134,
   "id": "0f31b237",
   "metadata": {},
   "outputs": [],
   "source": [
    "class Pessoa():\n",
    "    \n",
    "    nome = str()\n",
    "    idade = int()\n",
    "    \n",
    "    \n",
    "    def __init__(self, nome, idade):\n",
    "        self.nome = nome\n",
    "        self.idade = idade\n",
    "    \n",
    "    \n",
    "    def get_caracteristicas(self):\n",
    "        print(self.nome, self.idade)"
   ]
  },
  {
   "cell_type": "code",
   "execution_count": 135,
   "id": "b6d95480",
   "metadata": {},
   "outputs": [],
   "source": [
    "pessoa1 = Pessoa('John', 29)"
   ]
  },
  {
   "cell_type": "code",
   "execution_count": 136,
   "id": "01e12209",
   "metadata": {},
   "outputs": [
    {
     "name": "stdout",
     "output_type": "stream",
     "text": [
      "John 29\n"
     ]
    }
   ],
   "source": [
    "pessoa1.get_caracteristicas()"
   ]
  },
  {
   "cell_type": "markdown",
   "id": "005a720a",
   "metadata": {},
   "source": [
    "### Exercício 2: Herança\n",
    "Crie uma classe chamada Aluno que herda da classe Pessoa (do exercício anterior). Adicione um atributo adicional chamado matricula à classe Aluno."
   ]
  },
  {
   "cell_type": "code",
   "execution_count": 137,
   "id": "03882bbe",
   "metadata": {},
   "outputs": [],
   "source": [
    "class Aluno(Pessoa):\n",
    "    \n",
    "    matricula = int()\n",
    "    \n",
    "    \n",
    "    def __init__(self, matricula, nome, idade):\n",
    "        super().__init__(nome, idade)\n",
    "        self.matricula = matricula\n",
    "    \n",
    "    \n",
    "    def get_caracteristicas(self):\n",
    "        print(self.nome, self.idade, self.matricula)"
   ]
  },
  {
   "cell_type": "code",
   "execution_count": 138,
   "id": "0a9b89b6",
   "metadata": {},
   "outputs": [],
   "source": [
    "aluno = Aluno('123', 'John Peter', 16)"
   ]
  },
  {
   "cell_type": "code",
   "execution_count": 139,
   "id": "b8bd9989",
   "metadata": {},
   "outputs": [
    {
     "name": "stdout",
     "output_type": "stream",
     "text": [
      "John Peter 16 123\n"
     ]
    }
   ],
   "source": [
    "aluno.get_caracteristicas()"
   ]
  },
  {
   "cell_type": "markdown",
   "id": "b419f369",
   "metadata": {},
   "source": [
    "### Exercício 3: Método Personalizado\n",
    "Adicione um método chamado saudacao à classe Pessoa que imprime uma saudação personalizada com o nome da pessoa."
   ]
  },
  {
   "cell_type": "code",
   "execution_count": 140,
   "id": "86d63b86",
   "metadata": {},
   "outputs": [],
   "source": [
    "class Pessoa():\n",
    "    \n",
    "    nome = str()\n",
    "    idade = int()\n",
    "    \n",
    "    \n",
    "    def __init__(self, nome, idade):\n",
    "        self.nome = nome\n",
    "        self.idade = idade\n",
    "    \n",
    "    \n",
    "    def get_caracteristicas(self):\n",
    "        print(self.nome, self.idade)\n",
    "    \n",
    "    \n",
    "    def saudacao(self):\n",
    "        print(f'Saudações donzelas e cavalheiros! Meu nome é {self.nome}!')"
   ]
  },
  {
   "cell_type": "code",
   "execution_count": 141,
   "id": "18899357",
   "metadata": {},
   "outputs": [],
   "source": [
    "pessoa2 = Pessoa('Joao', 25)"
   ]
  },
  {
   "cell_type": "code",
   "execution_count": 142,
   "id": "7410b61e",
   "metadata": {},
   "outputs": [
    {
     "name": "stdout",
     "output_type": "stream",
     "text": [
      "Saudações donzelas e cavalheiros! Meu nome é Joao!\n"
     ]
    }
   ],
   "source": [
    "pessoa2.saudacao()"
   ]
  },
  {
   "cell_type": "markdown",
   "id": "112693fb",
   "metadata": {},
   "source": [
    "### Exercício 4: Encapsulamento\n",
    "Adicione um atributo privado __senha à classe Pessoa e um método para definir essa senha."
   ]
  },
  {
   "cell_type": "code",
   "execution_count": 143,
   "id": "af36ac47",
   "metadata": {},
   "outputs": [],
   "source": [
    "class Pessoa():\n",
    "    \n",
    "    nome = str()\n",
    "    idade = int()\n",
    "    __senha = str()\n",
    "    \n",
    "    def __init__(self, nome, idade):\n",
    "        self.nome = nome\n",
    "        self.idade = idade\n",
    "    \n",
    "    \n",
    "    def get_caracteristicas(self):\n",
    "        print(self.nome, self.idade)\n",
    "    \n",
    "    \n",
    "    def saudacao(self):\n",
    "        print(f'Saudações donzelas e cavalheiros! Meu nome é {self.nome}!')\n",
    "    \n",
    "    \n",
    "    def set_senha(self, senha):\n",
    "        self.__senha = senha"
   ]
  },
  {
   "cell_type": "code",
   "execution_count": 144,
   "id": "af1d6a9c",
   "metadata": {},
   "outputs": [],
   "source": [
    "pessoa3 = Pessoa('Jonhnhon', 18)"
   ]
  },
  {
   "cell_type": "code",
   "execution_count": 145,
   "id": "83015a7b",
   "metadata": {},
   "outputs": [],
   "source": [
    "pessoa3.set_senha(1234)"
   ]
  },
  {
   "cell_type": "code",
   "execution_count": 146,
   "id": "291c37e2",
   "metadata": {},
   "outputs": [
    {
     "data": {
      "text/plain": [
       "1234"
      ]
     },
     "execution_count": 146,
     "metadata": {},
     "output_type": "execute_result"
    }
   ],
   "source": [
    "pessoa3._Pessoa__senha  # Acessando para verificar se funcionou."
   ]
  },
  {
   "cell_type": "markdown",
   "id": "675ca49a",
   "metadata": {},
   "source": [
    "### Exercício 5: Polimorfismo\n",
    "Crie uma classe chamada Animal com um método emitir_som. Crie classes filhas como Cachorro, Gato e Vaca que herdam de Animal e tenham implementações diferentes para o método emitir_som."
   ]
  },
  {
   "cell_type": "code",
   "execution_count": 147,
   "id": "90cb4f09",
   "metadata": {},
   "outputs": [],
   "source": [
    "class Animal:\n",
    "    \n",
    "    def __init__(self, familia, ordem):\n",
    "        self.familia = familia\n",
    "        self.ordem = ordem\n",
    "    \n",
    "    def emitir_som(self):\n",
    "        pass\n",
    "    \n",
    "    def locomover(self):\n",
    "        pass"
   ]
  },
  {
   "cell_type": "code",
   "execution_count": 148,
   "id": "6c034f01",
   "metadata": {},
   "outputs": [],
   "source": [
    "class Cachorro(Animal):\n",
    "    \n",
    "    \n",
    "    def emitir_som(self):\n",
    "        print('Au Aau')"
   ]
  },
  {
   "cell_type": "code",
   "execution_count": 149,
   "id": "baa08a01",
   "metadata": {},
   "outputs": [],
   "source": [
    "class Gato(Animal):\n",
    "\n",
    "    \n",
    "    def emitir_som(self):\n",
    "        print('Miau')"
   ]
  },
  {
   "cell_type": "code",
   "execution_count": 150,
   "id": "0f2a3718",
   "metadata": {},
   "outputs": [],
   "source": [
    "class Vaca(Animal):\n",
    "    \n",
    "    \n",
    "    def emitir_som(self):\n",
    "        print('Muu mu')"
   ]
  },
  {
   "cell_type": "code",
   "execution_count": 151,
   "id": "9bf4f115",
   "metadata": {},
   "outputs": [],
   "source": [
    "cachorro = Cachorro('Canidae', 'Carnivoro')\n",
    "gato = Gato('Felidae', 'Carnivoro')\n",
    "vaca = Vaca('Bovídae', 'Herbívoro')"
   ]
  },
  {
   "cell_type": "code",
   "execution_count": 152,
   "id": "15fc5191",
   "metadata": {},
   "outputs": [
    {
     "name": "stdout",
     "output_type": "stream",
     "text": [
      "Au Aau\n"
     ]
    }
   ],
   "source": [
    "cachorro.emitir_som()"
   ]
  },
  {
   "cell_type": "code",
   "execution_count": 153,
   "id": "985e1895",
   "metadata": {},
   "outputs": [
    {
     "name": "stdout",
     "output_type": "stream",
     "text": [
      "Miau\n"
     ]
    }
   ],
   "source": [
    "gato.emitir_som()"
   ]
  },
  {
   "cell_type": "code",
   "execution_count": 154,
   "id": "a326d62a",
   "metadata": {},
   "outputs": [
    {
     "name": "stdout",
     "output_type": "stream",
     "text": [
      "Muu mu\n"
     ]
    }
   ],
   "source": [
    "vaca.emitir_som()"
   ]
  },
  {
   "cell_type": "markdown",
   "id": "0dc7a173",
   "metadata": {},
   "source": [
    "### Exercício 6: Composição\n",
    "Crie uma classe chamada Carro que contém um objeto da classe Motor. O motor deve ter um atributo de potência."
   ]
  },
  {
   "cell_type": "code",
   "execution_count": 155,
   "id": "4806b586",
   "metadata": {},
   "outputs": [],
   "source": [
    "class Motor():\n",
    "    \n",
    "    __potencia = float()\n",
    "    \n",
    "    def __init__(self, potencia):\n",
    "        self.__potencia = potencia\n",
    "    \n",
    "    def get_potencia(self):\n",
    "        return self.__potencia\n",
    "    \n",
    "class Carro():\n",
    "    \n",
    "    __nome_do_carro = str()\n",
    "    \n",
    "    \n",
    "    def __init__(self, potencia, nome):\n",
    "        self.motor = Motor(potencia)\n",
    "        self.__nome_do_carro = nome"
   ]
  },
  {
   "cell_type": "code",
   "execution_count": 156,
   "id": "ad300040",
   "metadata": {},
   "outputs": [],
   "source": [
    "car1 = Carro(1, 'Sedan')"
   ]
  },
  {
   "cell_type": "code",
   "execution_count": 157,
   "id": "6f4896e6",
   "metadata": {},
   "outputs": [
    {
     "data": {
      "text/plain": [
       "1"
      ]
     },
     "execution_count": 157,
     "metadata": {},
     "output_type": "execute_result"
    }
   ],
   "source": [
    "car1.motor.get_potencia()"
   ]
  },
  {
   "cell_type": "markdown",
   "id": "4b589d3f",
   "metadata": {},
   "source": [
    "### Exercício 7: Sobrescrita de Método\n",
    "Na classe Carro do exercício anterior, sobrescreva o método __str__ para que ele imprima informações detalhadas sobre o carro e seu motor."
   ]
  },
  {
   "cell_type": "code",
   "execution_count": 160,
   "id": "ed954f61",
   "metadata": {},
   "outputs": [],
   "source": [
    "class Carro():\n",
    "    \n",
    "    __nome_do_carro = str()\n",
    "    \n",
    "    \n",
    "    def __init__(self, potencia, nome):\n",
    "        self.motor = Motor(potencia)\n",
    "        self.__nome_do_carro = nome\n",
    "    \n",
    "    \n",
    "    def str(self):\n",
    "        print(self.motor.get_potencia(), self.__nome_do_carro)"
   ]
  },
  {
   "cell_type": "code",
   "execution_count": 161,
   "id": "40ef5983",
   "metadata": {},
   "outputs": [],
   "source": [
    "car2 = Carro(2, 'Gol')"
   ]
  },
  {
   "cell_type": "code",
   "execution_count": 162,
   "id": "2793180b",
   "metadata": {},
   "outputs": [
    {
     "name": "stdout",
     "output_type": "stream",
     "text": [
      "2 Gol\n"
     ]
    }
   ],
   "source": [
    "car2.str()"
   ]
  },
  {
   "cell_type": "markdown",
   "id": "16471396",
   "metadata": {},
   "source": [
    "### Exercício 8: Herança Múltipla\n",
    "Crie uma classe Figura com métodos para calcular área e perímetro. Crie subclasses como Circulo, Retangulo e Triangulo que herdam da classe Figura e implementam seus próprios cálculos."
   ]
  },
  {
   "cell_type": "code",
   "execution_count": 163,
   "id": "3d8738ed",
   "metadata": {},
   "outputs": [],
   "source": [
    "import math"
   ]
  },
  {
   "cell_type": "code",
   "execution_count": 164,
   "id": "749f209c",
   "metadata": {},
   "outputs": [],
   "source": [
    "class Figura:\n",
    "       \n",
    "        \n",
    "    def get_perimetro(self):\n",
    "        pass\n",
    "    \n",
    "    \n",
    "    def get_area(self):\n",
    "        pass"
   ]
  },
  {
   "cell_type": "code",
   "execution_count": 165,
   "id": "87369681",
   "metadata": {},
   "outputs": [],
   "source": [
    "class Circulo(Figura):\n",
    "    \n",
    "    __raio = float()\n",
    "    \n",
    "    \n",
    "    def __init__(self, raio):\n",
    "        self.__raio = raio\n",
    "    \n",
    "    \n",
    "    def get_perimetro(self):\n",
    "        return self.__raio\n",
    "    \n",
    "    \n",
    "    def get_area(self):\n",
    "        return math.pi * self.raio ** 2"
   ]
  },
  {
   "cell_type": "code",
   "execution_count": 166,
   "id": "5455d16d",
   "metadata": {},
   "outputs": [],
   "source": [
    "class Retangulo(Figura):\n",
    "    \n",
    "    __compriemnto = float()\n",
    "    __largura = float()\n",
    "    \n",
    "    def __init__(self, comprimento, largura):\n",
    "        self.__compriemnto = comprimento\n",
    "        self.__largura = largura\n",
    "    \n",
    "    \n",
    "    def get_perimetro(self):\n",
    "        return self.__comprimento\n",
    "    \n",
    "    \n",
    "    def get_area(self):\n",
    "        return self.__compriemnto * self.__largura"
   ]
  },
  {
   "cell_type": "code",
   "execution_count": 167,
   "id": "b11e5d1e",
   "metadata": {},
   "outputs": [],
   "source": [
    "class Triangulo(Figura):\n",
    "    \n",
    "    __base = float()\n",
    "    __lado1 = float()\n",
    "    __lado2 = float()\n",
    "    __lado3 = float()\n",
    "    __altura = float()\n",
    "    \n",
    "    \n",
    "    def __init__(self, base, lado1, lado2, lado3, altura):\n",
    "        self.__base = base\n",
    "        self.__lado1 = lado1\n",
    "        self.__lado2 = lado2\n",
    "        self.__lado3 = lado3\n",
    "        self.__altura = altura\n",
    "        \n",
    "    \n",
    "    def get_perimetro(self):\n",
    "        return self.__lado1 + self.__lado2 + self.__lado3\n",
    "    \n",
    "    \n",
    "    def get_area(self):\n",
    "        return 0.5 * self.__base * self.__altura"
   ]
  },
  {
   "cell_type": "markdown",
   "id": "91a1ee6b",
   "metadata": {},
   "source": [
    "### Exercício 9: Construtores Personalizados\n",
    "Crie uma classe chamada ContaBancaria com um atributo saldo. Implemente métodos para depositar, sacar e consultar saldo. Crie um construtor que aceita um saldo inicial."
   ]
  },
  {
   "cell_type": "code",
   "execution_count": 168,
   "id": "bfe2a845",
   "metadata": {},
   "outputs": [],
   "source": [
    "class ContaBancaria():\n",
    "    \n",
    "    __saldo = float()\n",
    "    \n",
    "    def __init__(self, saldo):\n",
    "        self.__saldo = saldo\n",
    "        \n",
    "    \n",
    "    def depositar(self, quantidade):\n",
    "        self.__saldo += quantidade\n",
    "        \n",
    "    \n",
    "    def sacar(self, quantidade):\n",
    "        self.__saldo -= quantidade\n",
    "        \n",
    "        \n",
    "    def get_saldo(self):\n",
    "        return self.__saldo"
   ]
  },
  {
   "cell_type": "markdown",
   "id": "47065264",
   "metadata": {},
   "source": [
    "### Exercício 10: Propriedades\n",
    "Na classe ContaBancaria do exercício anterior, utilize propriedades para garantir que o saldo nunca seja negativo."
   ]
  },
  {
   "cell_type": "code",
   "execution_count": 169,
   "id": "d704b790",
   "metadata": {},
   "outputs": [],
   "source": [
    "class ContaBancaria():\n",
    "    \n",
    "    __saldo = float()\n",
    "    \n",
    "    \n",
    "    def __init__(self, saldo):\n",
    "        if saldo > 0:\n",
    "            self.__saldo = saldo\n",
    "        else:\n",
    "            print('O saldo precisa ser positivo.')\n",
    "        \n",
    "    \n",
    "    def depositar(self, quantidade):\n",
    "        if quantidade > 0:\n",
    "            self.__saldo += quantidade\n",
    "        else:\n",
    "            print('O depósito precisa ser positivo.')\n",
    "    \n",
    "    \n",
    "    def sacar(self, quantidade):\n",
    "        if quantidade > 0 and (self.__saldo - quantidade) >= 0:\n",
    "            self.__saldo -= quantidade\n",
    "        else:\n",
    "            print('O valor do saque precisa ser positivo e o saldo restante na conta deve ser maior ou igual a zero.')\n",
    "    \n",
    "    \n",
    "    def get_saldo(self):\n",
    "        return self.__saldo"
   ]
  },
  {
   "cell_type": "markdown",
   "id": "0d54ffce",
   "metadata": {},
   "source": [
    "### Exercício 11: Métodos Estáticos\n",
    "Crie uma classe Calculadora com métodos estáticos para realizar operações matemáticas simples, como soma, subtração, multiplicação e divisão."
   ]
  },
  {
   "cell_type": "code",
   "execution_count": 170,
   "id": "a498fcb5",
   "metadata": {},
   "outputs": [],
   "source": [
    "class Calculadora:\n",
    "    \n",
    "    \n",
    "    def soma(a, b):\n",
    "        return a + b\n",
    "    \n",
    "    \n",
    "    def subtracao(a, b):\n",
    "        return a - b\n",
    "    \n",
    "    \n",
    "    def multiplicacao(a, b):\n",
    "        return a * b\n",
    "    \n",
    "    \n",
    "    def divisao(a, b):\n",
    "        return a / b"
   ]
  },
  {
   "cell_type": "code",
   "execution_count": 171,
   "id": "e84fbc80",
   "metadata": {},
   "outputs": [
    {
     "data": {
      "text/plain": [
       "6"
      ]
     },
     "execution_count": 171,
     "metadata": {},
     "output_type": "execute_result"
    }
   ],
   "source": [
    "c = Calculadora\n",
    "\n",
    "c.multiplicacao(2, 3)"
   ]
  },
  {
   "cell_type": "markdown",
   "id": "d9b6e0a3",
   "metadata": {},
   "source": [
    "### Exercício 12: Interface\n",
    "Crie uma classe Forma com um método abstrato area. Crie subclasses como Circulo e Retangulo que herdam de Forma e implementam o método area."
   ]
  },
  {
   "cell_type": "code",
   "execution_count": 172,
   "id": "935b422e",
   "metadata": {},
   "outputs": [],
   "source": [
    "class Forma:\n",
    "       \n",
    "    __area = float()\n",
    "    \n",
    "    \n",
    "    def area(self, area):\n",
    "        self.__area = area"
   ]
  },
  {
   "cell_type": "code",
   "execution_count": 173,
   "id": "b52cecb3",
   "metadata": {},
   "outputs": [],
   "source": [
    "class Circulo(Forma):\n",
    "    \n",
    "    __raio = float()\n",
    "    \n",
    "    \n",
    "    def __init__(self, raio):\n",
    "        self.__raio = raio\n",
    "    \n",
    "    \n",
    "    def get_area(self):\n",
    "        return math.pi * self.__raio ** 2"
   ]
  },
  {
   "cell_type": "code",
   "execution_count": 174,
   "id": "38a2e27a",
   "metadata": {},
   "outputs": [],
   "source": [
    "class Retangulo(Forma):\n",
    "    \n",
    "    __comprimento = float()\n",
    "    __largura = float()\n",
    "    \n",
    "    \n",
    "    def __init__(self, comprimento, largura):\n",
    "        self.__comprimento = comprimento\n",
    "        self.__largura = largura\n",
    "        \n",
    "        \n",
    "    def get_area(self):\n",
    "        return self.__comprimento * self.__largura        "
   ]
  },
  {
   "cell_type": "markdown",
   "id": "ed6decaa",
   "metadata": {},
   "source": [
    "### Exercício 13: Tratamento de Exceções\n",
    "Modifique a classe ContaBancaria para lançar exceções personalizadas ao tentar sacar um valor maior que o saldo.\n"
   ]
  },
  {
   "cell_type": "code",
   "execution_count": 175,
   "id": "04d6643e",
   "metadata": {},
   "outputs": [],
   "source": [
    "class SaldoInsuficienteException(Exception):\n",
    "    pass\n",
    "\n",
    "class ContaBancaria():\n",
    "    \n",
    "    __saldo = float()\n",
    "    \n",
    "    \n",
    "    def __init__(self, saldo):\n",
    "        if saldo > 0:\n",
    "            self.__saldo = saldo\n",
    "        else:\n",
    "            print('O saldo precisa ser positivo.')\n",
    "        \n",
    "    \n",
    "    def depositar(self, quantidade):\n",
    "        if quantidade > 0:\n",
    "            self.__saldo += quantidade\n",
    "        else:\n",
    "            print('O depósito precisa ser positivo.')\n",
    "    \n",
    "    \n",
    "    def sacar(self, quantidade):            \n",
    "        if quantidade > 0 and (self.__saldo - quantidade) >= 0:\n",
    "            self.__saldo -= quantidade\n",
    "        else:\n",
    "            # print('O valor do saque precisa ser positivo e o saldo restante na conta deve ser maior ou igual a zero.')\n",
    "            raise SaldoInsuficienteException('Saldo insuficiente para realizar a operação.')\n",
    "    \n",
    "    \n",
    "    def get_saldo(self):\n",
    "        return self.__saldo"
   ]
  },
  {
   "cell_type": "code",
   "execution_count": 176,
   "id": "1425df44",
   "metadata": {},
   "outputs": [
    {
     "name": "stdout",
     "output_type": "stream",
     "text": [
      "Saldo insuficiente para realizar a operação.\n"
     ]
    }
   ],
   "source": [
    "minha_conta = ContaBancaria(100)\n",
    "\n",
    "# Tentando sacar valor maior do que o saldo na conta\n",
    "try:\n",
    "    minha_conta.sacar(110)\n",
    "    \n",
    "except Exception as e:\n",
    "    print(e)"
   ]
  },
  {
   "cell_type": "markdown",
   "id": "4c8e539d",
   "metadata": {},
   "source": [
    "### Exercício 14: Associação\n",
    "Crie uma classe Pedido que contém uma lista de produtos. Cada produto é uma classe com nome e preço. A classe Pedido deve ter um método para calcular o total."
   ]
  },
  {
   "cell_type": "code",
   "execution_count": 177,
   "id": "eb7e2aeb",
   "metadata": {},
   "outputs": [],
   "source": [
    "class Produto():\n",
    "    \n",
    "    __nome = str()\n",
    "    __preco = float()\n",
    "\n",
    "    \n",
    "    def __init__(self, nome, preco):\n",
    "        self.__nome = nome\n",
    "        self.__preco = preco\n",
    "    \n",
    "    \n",
    "    def get_preco(self):\n",
    "        return self.__preco\n",
    "\n",
    "    \n",
    "    def get_nome(self):\n",
    "        return self.__nome\n",
    "    \n",
    "    \n",
    "class Pedido():\n",
    "    \n",
    "    __produtos = list()\n",
    "    \n",
    "    \n",
    "    def __init__(self, *produtos):\n",
    "        self.__produtos.extend(produtos)\n",
    "        \n",
    "        \n",
    "    def get_preco_total(self):\n",
    "        return sum([produto.get_preco() for produto in self.__produtos])"
   ]
  },
  {
   "cell_type": "code",
   "execution_count": 178,
   "id": "69983119",
   "metadata": {},
   "outputs": [],
   "source": [
    "bola = Produto('Bola', 5)\n",
    "chuteira = Produto('Chuteira', 10)\n",
    "luva = Produto('Luva', 7)\n",
    "\n",
    "pedido1 = Pedido(bola, chuteira, luva)"
   ]
  },
  {
   "cell_type": "code",
   "execution_count": 179,
   "id": "c10a2f60",
   "metadata": {},
   "outputs": [
    {
     "data": {
      "text/plain": [
       "22"
      ]
     },
     "execution_count": 179,
     "metadata": {},
     "output_type": "execute_result"
    }
   ],
   "source": [
    "pedido1.get_preco_total()"
   ]
  },
  {
   "cell_type": "markdown",
   "id": "d676fddb",
   "metadata": {},
   "source": [
    "### Exercício 15: Herança e Composição\n",
    "Crie uma classe Livraria que contém uma lista de Livros. Cada livro é uma classe com título, autor e preço. Implemente métodos para calcular o preço total dos livros na livraria."
   ]
  },
  {
   "cell_type": "code",
   "execution_count": 180,
   "id": "e5be47bd",
   "metadata": {},
   "outputs": [],
   "source": [
    "class Livro():\n",
    "    \n",
    "    __titulo = str()\n",
    "    __autor = str()\n",
    "    \n",
    "    __preco = float()\n",
    "    \n",
    "    \n",
    "    def __init__(self, titulo, autor, preco):\n",
    "        self.__titulo = titulo\n",
    "        self.__autor = autor\n",
    "        self.__preco = preco\n",
    "        \n",
    "        \n",
    "    def get_preco(self):\n",
    "        return self.__preco\n",
    "    \n",
    "    \n",
    "class Livraria():\n",
    "    \n",
    "    __livros = list()\n",
    "    \n",
    "    \n",
    "    def __init__(self, *livros):\n",
    "        self.__livros.extend(livros)\n",
    "        \n",
    "    \n",
    "    def get_preco_total(self):\n",
    "        return sum([livro.get_preco() for livro in self.__livros])    "
   ]
  },
  {
   "cell_type": "code",
   "execution_count": 181,
   "id": "345bbe88",
   "metadata": {},
   "outputs": [],
   "source": [
    "livro1 = Livro('L1', 'A1', 10)\n",
    "livro2 = Livro('L2', 'A2', 20.45)\n",
    "livro3 = Livro('L3', 'A3', 18.50)\n",
    "\n",
    "livraria = Livraria(livro1, livro2, livro3)"
   ]
  },
  {
   "cell_type": "code",
   "execution_count": 182,
   "id": "ec0c5796",
   "metadata": {},
   "outputs": [
    {
     "data": {
      "text/plain": [
       "48.95"
      ]
     },
     "execution_count": 182,
     "metadata": {},
     "output_type": "execute_result"
    }
   ],
   "source": [
    "livraria.get_preco_total()"
   ]
  }
 ],
 "metadata": {
  "kernelspec": {
   "display_name": "Python 3 (ipykernel)",
   "language": "python",
   "name": "python3"
  },
  "language_info": {
   "codemirror_mode": {
    "name": "ipython",
    "version": 3
   },
   "file_extension": ".py",
   "mimetype": "text/x-python",
   "name": "python",
   "nbconvert_exporter": "python",
   "pygments_lexer": "ipython3",
   "version": "3.10.9"
  }
 },
 "nbformat": 4,
 "nbformat_minor": 5
}
