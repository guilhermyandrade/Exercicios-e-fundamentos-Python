{
 "cells": [
  {
   "cell_type": "code",
   "execution_count": null,
   "id": "a0dde184",
   "metadata": {},
   "outputs": [],
   "source": [
    "def dobro(num, formatar=False):\n",
    "    return moeda(num * 2) if formatar else num * 2\n",
    "\n",
    "\n",
    "def metade(num, formatar=False):\n",
    "    return moeda(num / 2) if formatar else num / 2\n",
    "\n",
    "\n",
    "def diminuir(num, p, formatar=False):\n",
    "    return moeda(num - (num * (p / 100) )) if formatar else num - (num * (p / 100) )\n",
    "\n",
    "\n",
    "def aumentar(num, p, formatar=False):\n",
    "    return moeda(num + (num * (p / 100) )) if formatar else num + (num * (p / 100) )\n",
    "\n",
    "\n",
    "def moeda(num, moeda='R$'):\n",
    "    return f'{moeda} {num:8.2f}'.replace('.', ',')\n",
    "\n",
    "\n",
    "def resumo(valor, aumento, reducao):\n",
    "    \n",
    "    dicionario = {}\n",
    "    dicionario['Preço analisado:'] = moeda(valor)\n",
    "    dicionario['Dobro do preço:'] = dobro(valor, formatar=True)\n",
    "    dicionario['Metade do preço:'] = metade(valor, formatar=True)\n",
    "    dicionario[f'{aumento}% de aumento:'] = aumentar(valor, aumento, formatar=True)\n",
    "    dicionario[f'{reducao}% de redução:'] = diminuir(valor, reducao, formatar=True)\n",
    "    print('-' * 30)\n",
    "    print(f'{\"RESUMO DO VALOR\":^30}')\n",
    "    print('-' * 30)\n",
    "    \n",
    "    for k, v in dicionario.items():\n",
    "        print(f'{k: <20}{v}')\n",
    "    print('-' * 30)"
   ]
  }
 ],
 "metadata": {
  "kernelspec": {
   "display_name": "Python 3 (ipykernel)",
   "language": "python",
   "name": "python3"
  },
  "language_info": {
   "codemirror_mode": {
    "name": "ipython",
    "version": 3
   },
   "file_extension": ".py",
   "mimetype": "text/x-python",
   "name": "python",
   "nbconvert_exporter": "python",
   "pygments_lexer": "ipython3",
   "version": "3.10.9"
  }
 },
 "nbformat": 4,
 "nbformat_minor": 5
}
