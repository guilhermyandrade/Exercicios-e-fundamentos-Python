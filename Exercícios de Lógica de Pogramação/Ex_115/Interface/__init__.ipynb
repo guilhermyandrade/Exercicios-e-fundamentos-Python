{
 "cells": [
  {
   "cell_type": "code",
   "execution_count": 18,
   "id": "8ed12554",
   "metadata": {},
   "outputs": [],
   "source": [
    "def linha(tam=42):\n",
    "    return '-' * tam\n",
    "\n",
    "\n",
    "def cabecalho(msg):\n",
    "    print(linha())\n",
    "    print(msg.center(42))\n",
    "    print(linha())\n",
    "    \n",
    "    \n",
    "def menu(* itens):\n",
    "    \n",
    "    cabecalho('MENU')\n",
    "    for i, v in enumerate(itens):\n",
    "        print(f'{i+1}) {v}')\n",
    "        \n",
    "    return input('[Nº DA OPÇÃO]: ')\n",
    "        \n"
   ]
  },
  {
   "cell_type": "code",
   "execution_count": 23,
   "id": "ddf4b891",
   "metadata": {},
   "outputs": [
    {
     "name": "stdout",
     "output_type": "stream",
     "text": [
      "------------------------------------------\n",
      "                 Sistema                  \n",
      "------------------------------------------\n",
      "------------------------------------------\n",
      "                   MENU                   \n",
      "------------------------------------------\n",
      "1) Ver\n",
      "2) Editar\n",
      "3) Cadastrar\n",
      "4) Sair\n",
      "[Nº DA OPÇÃO]: 5\n",
      "Valor inválido. Tente novamente.\n",
      "------------------------------------------\n",
      "                   MENU                   \n",
      "------------------------------------------\n",
      "1) Ver\n",
      "2) Editar\n",
      "3) Cadastrar\n",
      "4) Sair\n",
      "[Nº DA OPÇÃO]: 2\n",
      "Modo de edição ativado.\n"
     ]
    }
   ],
   "source": []
  },
  {
   "cell_type": "code",
   "execution_count": null,
   "id": "ca8f92a1",
   "metadata": {},
   "outputs": [],
   "source": []
  }
 ],
 "metadata": {
  "kernelspec": {
   "display_name": "Python 3 (ipykernel)",
   "language": "python",
   "name": "python3"
  },
  "language_info": {
   "codemirror_mode": {
    "name": "ipython",
    "version": 3
   },
   "file_extension": ".py",
   "mimetype": "text/x-python",
   "name": "python",
   "nbconvert_exporter": "python",
   "pygments_lexer": "ipython3",
   "version": "3.10.9"
  }
 },
 "nbformat": 4,
 "nbformat_minor": 5
}
