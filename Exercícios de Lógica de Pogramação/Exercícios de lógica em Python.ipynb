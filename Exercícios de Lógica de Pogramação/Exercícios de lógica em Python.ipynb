{
 "cells": [
  {
   "cell_type": "code",
   "execution_count": 4,
   "id": "9e389214",
   "metadata": {},
   "outputs": [
    {
     "name": "stdout",
     "output_type": "stream",
     "text": [
      "Insira seu nome: Jaime\n",
      "Olá Jaime, é um prazer conhecê-lo!\n"
     ]
    }
   ],
   "source": [
    "# Ex 2: Respondendo ao Usuário\n",
    "\n",
    "nome = str(input('Insira seu nome: '))\n",
    "frase = 'Olá' + nome + ', é um prazer conhecê-lo!'\n",
    "\n",
    "print(frase)"
   ]
  },
  {
   "cell_type": "code",
   "execution_count": 9,
   "id": "ad998fee",
   "metadata": {},
   "outputs": [
    {
     "name": "stdout",
     "output_type": "stream",
     "text": [
      "Insira um número: 1\n",
      "Insira outro número: 2\n",
      "A soma dos valores recebidos equivale a 3\n"
     ]
    }
   ],
   "source": [
    "# Ex 3: Somando dois números\n",
    "\n",
    "num_1 = int(input('Insira um número: '))\n",
    "num_2 = int(input('Insira outro número: '))\n",
    "\n",
    "resultado = num_1 + num_2\n",
    "\n",
    "print('A soma dos valores recebidos equivale a {}'.format(resultado))"
   ]
  },
  {
   "cell_type": "code",
   "execution_count": 16,
   "id": "51b1ee70",
   "metadata": {},
   "outputs": [
    {
     "name": "stdout",
     "output_type": "stream",
     "text": [
      "Digite alguma coisa: abc\n",
      "\n",
      "\n",
      "Tipo da variável: <class 'str'>\n",
      "Tem apenas espaços: False\n",
      "É do tipo numérico: False\n",
      "É do tipo alfabético: True\n",
      "Está apenas em letras maiúsculas: False\n",
      "Está apenas em letras minúsculas: True\n",
      "Está capitalizada: False\n",
      "\n",
      "\n"
     ]
    }
   ],
   "source": [
    "# Ex 4: Dissecar uma variavel\n",
    "# Obs: existem três maneiras de inserir uma variável em uma string: f-string, .format() e concatenart\n",
    "\n",
    "x = input('Digite alguma coisa: ')\n",
    "\n",
    "print(f\"\"\"\n",
    "\n",
    "Tipo da variável: {type(x)}\n",
    "Tem apenas espaços: {x.isspace()}\n",
    "É do tipo numérico: {x.isnumeric()}\n",
    "É do tipo alfabético: {x.isalpha()}\n",
    "Está apenas em letras maiúsculas: {x.isupper()}\n",
    "Está apenas em letras minúsculas: {x.islower()}\n",
    "Está capitalizada: {x.istitle()}\n",
    "\n",
    "\"\"\")"
   ]
  },
  {
   "cell_type": "code",
   "execution_count": 17,
   "id": "3be9b7fa",
   "metadata": {},
   "outputs": [
    {
     "name": "stdout",
     "output_type": "stream",
     "text": [
      "Insira um número: 1\n",
      "Seu antecessor é 0 e seu sucessor é 2\n"
     ]
    }
   ],
   "source": [
    "# Ex 5: Obter o antecessor e sucessor do número recebido\n",
    "\n",
    "numero = int(input('Insira um número: '))\n",
    "\n",
    "print(f'Seu antecessor é {numero - 1} e seu sucessor é {numero + 1}')"
   ]
  },
  {
   "cell_type": "code",
   "execution_count": 19,
   "id": "e398461e",
   "metadata": {},
   "outputs": [
    {
     "name": "stdout",
     "output_type": "stream",
     "text": [
      "Insira um número: 2\n",
      "\n",
      "\n",
      "O dobro equivale a 4\n",
      "O triplo equivale a 6\n",
      "A raiz quadrada equivale a 1.4142135623730951\n",
      "\n",
      "\n"
     ]
    }
   ],
   "source": [
    "# Ex 6: Obter o dobro, triplo e raiz quadrada de um número\n",
    "\n",
    "numero = int(input('Insira um número: '))\n",
    "\n",
    "print(f\"\"\"\n",
    "\n",
    "O dobro equivale a {numero * 2}\n",
    "O triplo equivale a {numero * 3}\n",
    "A raiz quadrada equivale a {numero ** (1/2)}\n",
    "\n",
    "\"\"\")"
   ]
  },
  {
   "cell_type": "code",
   "execution_count": 22,
   "id": "cf66709f",
   "metadata": {},
   "outputs": [
    {
     "name": "stdout",
     "output_type": "stream",
     "text": [
      "Nota do primeiro trimestre: 7\n",
      "Nota do segundo trimestre: 4\n",
      "Nota do terceiro trimestre: 3\n",
      "\n",
      "\n",
      "Nota final (média): 4.666666666666667\n",
      "\n",
      "\n"
     ]
    }
   ],
   "source": [
    "# Ex 7: Obter a média de um aluno com base em suas notas\n",
    "\n",
    "nota_1 = float(input('Nota do primeiro trimestre: '))\n",
    "nota_2 = float(input('Nota do segundo trimestre: '))\n",
    "nota_3 = float(input('Nota do terceiro trimestre: '))\n",
    "\n",
    "resultado = (nota_1 + nota_2 + nota_3) / 3\n",
    "print(f\"\"\"\n",
    "\n",
    "Nota final (média): {resultado}\n",
    "\n",
    "\"\"\")"
   ]
  },
  {
   "cell_type": "code",
   "execution_count": 28,
   "id": "613f5889",
   "metadata": {},
   "outputs": [
    {
     "name": "stdout",
     "output_type": "stream",
     "text": [
      "Insira um valor em metros: 5\n",
      "O valor recebido convertido para centímetros equivale a 500.00cm\n"
     ]
    }
   ],
   "source": [
    "# Ex 8: Receber um valor em metros e converter para centímetros\n",
    "\n",
    "valor_em_metros = float(input('Insira um valor em metros: '))\n",
    "\n",
    "print('O valor recebido convertido para centímetros equivale a {:.2f}cm'.format(valor_em_metros * 100))"
   ]
  },
  {
   "cell_type": "code",
   "execution_count": 29,
   "id": "ac985e95",
   "metadata": {},
   "outputs": [
    {
     "name": "stdout",
     "output_type": "stream",
     "text": [
      "Insira um número: 5\n",
      "\n",
      "\n",
      "5 x 1 = 5\n",
      "5 x 2 = 10\n",
      "5 x 3 = 15\n",
      "5 x 4 = 20\n",
      "5 x 5 = 25\n",
      "5 x 6 = 30\n",
      "5 x 7 = 35\n",
      "5 x 8 = 40\n",
      "5 x 9 = 45\n",
      "5 x 10 = 50\n",
      "\n",
      "\n"
     ]
    }
   ],
   "source": [
    "# Ex 9: Receber um número e exibir sua tabuada\n",
    "\n",
    "numero = int(input('Insira um número: '))\n",
    "\n",
    "print(f\"\"\"\n",
    "\n",
    "{numero} x 1 = {numero * 1}\n",
    "{numero} x 2 = {numero * 2}\n",
    "{numero} x 3 = {numero * 3}\n",
    "{numero} x 4 = {numero * 4}\n",
    "{numero} x 5 = {numero * 5}\n",
    "{numero} x 6 = {numero * 6}\n",
    "{numero} x 7 = {numero * 7}\n",
    "{numero} x 8 = {numero * 8}\n",
    "{numero} x 9 = {numero * 9}\n",
    "{numero} x 10 = {numero * 10}\n",
    "\n",
    "\"\"\")"
   ]
  },
  {
   "cell_type": "code",
   "execution_count": 33,
   "id": "3a42c8dc",
   "metadata": {},
   "outputs": [
    {
     "name": "stdout",
     "output_type": "stream",
     "text": [
      "Insira um valor em real(R$): 152\n",
      "É possível comprar $28.84 dolares!\n"
     ]
    }
   ],
   "source": [
    "# Ex 10: Converter real para dólar\n",
    "\n",
    "valor_em_real = float(input('Insira um valor em real(R$): '))\n",
    "\n",
    "valor_dolar_real = 5.27  # Um número qualquer para representar o valor do dolar\n",
    "\n",
    "print('É possível comprar ${:.2f} dolares!'.format(valor_em_real / valor_dolar_real))"
   ]
  },
  {
   "cell_type": "code",
   "execution_count": 36,
   "id": "a3516b32",
   "metadata": {},
   "outputs": [
    {
     "name": "stdout",
     "output_type": "stream",
     "text": [
      "Insira a altura (metros): 5\n",
      "Insira a largura (metros): 5\n",
      "\n",
      "\n",
      "Área da parede: 25.00m²\n",
      "\n",
      "Serão necessárias 12.50 litro(s) de tinta para pintar a parede!'\n",
      "\n",
      "\n"
     ]
    }
   ],
   "source": [
    "# Ex 11: Ler altura e largura de uma parede, área e quantidade de tinta para pintá-la\n",
    "# Obs: cada litro de tinta pinta 2 metros quadrados\n",
    "\n",
    "altura = float(input('Insira a altura (metros): '))\n",
    "largura = float(input('Insira a largura (metros): '))\n",
    "\n",
    "area = largura * altura\n",
    "\n",
    "qtd_de_tinta = area / 2\n",
    "\n",
    "print(\"\"\"\n",
    "\n",
    "Área da parede: {:.2f}m²\n",
    "\n",
    "Serão necessárias {:.2f} litro(s) de tinta para pintar a parede!'\n",
    "\n",
    "\"\"\".format(area, qtd_de_tinta))"
   ]
  },
  {
   "cell_type": "code",
   "execution_count": 38,
   "id": "2f686815",
   "metadata": {},
   "outputs": [
    {
     "name": "stdout",
     "output_type": "stream",
     "text": [
      "Insira um preço: 100\n",
      "Preço com 5% de desconto: 95.00\n"
     ]
    }
   ],
   "source": [
    "# Ex 12: Ler um preço e apresentá-lo com 5% de desconto\n",
    "\n",
    "preco = float(input('Insira um preço: '))\n",
    "\n",
    "print('Preço com 5% de desconto: {:.2f}'.format(preco - (preco * 0.05) ))"
   ]
  },
  {
   "cell_type": "code",
   "execution_count": 39,
   "id": "63b2d6ae",
   "metadata": {},
   "outputs": [
    {
     "name": "stdout",
     "output_type": "stream",
     "text": [
      "Insira um valor: 100\n",
      "Valor com 15% de aumento: 115.00\n"
     ]
    }
   ],
   "source": [
    "# Ex 13: Ler um salário e mostrá-lo com 15% de aumento\n",
    "\n",
    "salario = float(input('Insira um valor: '))\n",
    "\n",
    "print('Valor com 15% de aumento: {:.2f}'.format( salario + (salario * 0.15) ))"
   ]
  },
  {
   "cell_type": "code",
   "execution_count": 43,
   "id": "972aabf4",
   "metadata": {},
   "outputs": [
    {
     "name": "stdout",
     "output_type": "stream",
     "text": [
      "Insira a temperatura em graus Celsius: 40\n",
      "A temperatura em Fahrenheit equivale a 104.00ºF\n"
     ]
    }
   ],
   "source": [
    "# Ex 14: Converter temperatura em graus Celsius para Fahrenheit\n",
    "\n",
    "temperatura_celsius = float(input('Insira a temperatura em graus Celsius: '))\n",
    "\n",
    "temperatura_fahr = ( (9 * temperatura_celsius) / 5) + 32\n",
    "\n",
    "print('A temperatura em Fahrenheit equivale a {:.2f}ºF'.format( temperatura_fahr ))"
   ]
  },
  {
   "cell_type": "code",
   "execution_count": 45,
   "id": "87daa1f2",
   "metadata": {},
   "outputs": [
    {
     "name": "stdout",
     "output_type": "stream",
     "text": [
      "Insira a quantidade de dias alugados: 2\n",
      "Insira os quilômetros rodados: 5\n",
      "Preço total a pagar: 120.75\n"
     ]
    }
   ],
   "source": [
    "# Ex 15: Calcular preço a pagar pelos dias de uso de veículo alugado\n",
    "# Obs: aluguel por dia custa R$60 e por km custa R$0,15\n",
    "dias = int(input('Insira a quantidade de dias alugados: '))\n",
    "quilometros = float(input('Insira os quilômetros rodados: '))\n",
    "\n",
    "aluguel_dia = dias * 60\n",
    "aluguel_km = quilometros * 0.15\n",
    "\n",
    "preco_total = aluguel_dia + aluguel_km\n",
    "\n",
    "print('Preço total a pagar: {:.2f}'.format(preco_total))"
   ]
  },
  {
   "cell_type": "code",
   "execution_count": 54,
   "id": "d163850c",
   "metadata": {},
   "outputs": [
    {
     "name": "stdout",
     "output_type": "stream",
     "text": [
      "Insira um valor decimal: 5.163\n",
      "Número inteiro: 5\n"
     ]
    }
   ],
   "source": [
    "# Ex 16: Ler valor quebrado e arredondá-lo\n",
    "# Obs: é possível fazer com formatação na string ou com math.trunc()\n",
    "from math import trunc\n",
    "\n",
    "numero = float(input('Insira um valor decimal: '))\n",
    "\n",
    "print('Número inteiro: {}'.format(trunc(numero)))"
   ]
  },
  {
   "cell_type": "code",
   "execution_count": 56,
   "id": "c5d302c5",
   "metadata": {},
   "outputs": [
    {
     "name": "stdout",
     "output_type": "stream",
     "text": [
      "Insira o cateto A: 5\n",
      "Insira o cateto B: 5\n",
      "Hipotenusa: 7.07\n"
     ]
    }
   ],
   "source": [
    "# Ex 17: Calcular o comprimento da hipotenusa com cateto oposto e cateto adjacente\n",
    "\n",
    "from math import hypot\n",
    "\n",
    "cat_a = float(input('Insira o cateto A: '))\n",
    "cat_b = float(input('Insira o cateto B: '))\n",
    "\n",
    "print('Hipotenusa: {:.2f}'.format(hypot(cat_a, cat_b)))"
   ]
  },
  {
   "cell_type": "code",
   "execution_count": 62,
   "id": "5b1d53d7",
   "metadata": {},
   "outputs": [
    {
     "name": "stdout",
     "output_type": "stream",
     "text": [
      "Insira um ângulo: 45\n",
      "\n",
      "\n",
      "Seno:     0.71\n",
      "Cosseno:  0.71\n",
      "Tangente: 1.00\n",
      "\n"
     ]
    }
   ],
   "source": [
    "# Ex 18: Calcular seno, cosseno e tangente de um ângulo\n",
    "# Obs: é possível realizar imports em sequência com vírgulas\n",
    "from math import cos, sin, tan, radians\n",
    "\n",
    "# O valor recenido pelas funções cos, sin e tan devem ser \"radianos\"\n",
    "angulo = radians(  float(input('Insira um ângulo: '))  )\n",
    "\n",
    "print(\"\"\"\n",
    "\n",
    "Seno:     {:.2f}\n",
    "Cosseno:  {:.2f}\n",
    "Tangente: {:.2f}\n",
    "\"\"\".format( sin(angulo), cos(angulo), tan(angulo) ))"
   ]
  },
  {
   "cell_type": "code",
   "execution_count": 65,
   "id": "29970a3e",
   "metadata": {},
   "outputs": [
    {
     "name": "stdout",
     "output_type": "stream",
     "text": [
      "Insira um nome: Nome top 1\n",
      "Insira outro nome: Nome top 2\n",
      "Insira mais um nome: Nome top 3\n",
      "Nome escolhido: Nome top 1\n"
     ]
    }
   ],
   "source": [
    "# Ex 19: Sorteando um item na lista\n",
    "\n",
    "from random import choice\n",
    "\n",
    "nome_1 = str(input('Insira um nome: '))\n",
    "nome_2 = str(input('Insira outro nome: '))\n",
    "nome_3 = str(input('Insira mais um nome: '))\n",
    "\n",
    "lista = [nome_1, nome_2, nome_3] # Listas são estruturas de armazenamento de dados\n",
    "\n",
    "print(f'Nome escolhido: {choice(lista)}')"
   ]
  },
  {
   "cell_type": "code",
   "execution_count": 70,
   "id": "ad110fe3",
   "metadata": {},
   "outputs": [
    {
     "name": "stdout",
     "output_type": "stream",
     "text": [
      "Nome 1: a\n",
      "Nome 2: b\n",
      "Nome 3: c\n",
      "Lista reordenada: ['a', 'c', 'b']\n"
     ]
    }
   ],
   "source": [
    "# Ex 20: Sorteando uma ordem na lista\n",
    "\n",
    "from random import shuffle\n",
    "\n",
    "nome_1 = str(input('Nome 1: '))\n",
    "nome_2 = str(input('Nome 2: '))\n",
    "nome_3 = str(input('Nome 3: '))\n",
    "\n",
    "# Não deu certo nesse formato\n",
    "# lista = shuffle( [nome_1, nome_2, nome_3] ) # Uma lista sendo passada diretamente como parâmetro\n",
    "\n",
    "# Deu certo nesse formato\n",
    "# Aparentemente, esta função retorna a variável modificada ao invés de retornar valores\n",
    "lista = [nome_1, nome_2, nome_3] \n",
    "\n",
    "shuffle( lista ) # Modificando e retornando a variável\n",
    "\n",
    "print('Lista reordenada: {}'.format( lista ))"
   ]
  },
  {
   "cell_type": "code",
   "execution_count": 85,
   "id": "851f290b",
   "metadata": {},
   "outputs": [
    {
     "name": "stdout",
     "output_type": "stream",
     "text": [
      "Insira seu nome completo: Esse nome tem 23 caracteres\n",
      "Letras maiúsculas: ESSE NOME TEM 23 CARACTERES\n",
      "Quantidade de letras: 23\n",
      "Quantidade de letras no primeiro nome: 4\n"
     ]
    }
   ],
   "source": [
    "# Ex 22: Analisador de textos\n",
    "\n",
    "# Ler nome completo de uma pessoa e realizar as seguintes operações:\n",
    "\n",
    "nome = str(input('Insira seu nome completo: ')).strip() # strip tira espaços em branco da frente e do final\n",
    "\n",
    "# Todas as letras maiúsculas\n",
    "\n",
    "print(f'Letras maiúsculas: {nome.upper()}')\n",
    "\n",
    "# Quantas letras ao todo (sem contar espaços)\n",
    "total_letras = len(nome) - nome.count(' ')\n",
    "print(f'Quantidade de letras: { total_letras }')\n",
    "\n",
    "# Quantas letras no primeiro nome\n",
    "\n",
    "letras_primeiro_nome = nome.find(' ') # Retorna a posição da primeira ocorrência do caractere especificado\n",
    "\n",
    "print(f'Quantidade de letras no primeiro nome: {letras_primeiro_nome}')"
   ]
  },
  {
   "cell_type": "code",
   "execution_count": 88,
   "id": "11525260",
   "metadata": {},
   "outputs": [
    {
     "name": "stdout",
     "output_type": "stream",
     "text": [
      "Insira um número de 0 a 9999: 100\n",
      "\n",
      "\n",
      "Unidade:  0\n",
      "Dezena:   0\n",
      "Centena:  1\n",
      "Milhar:   0\n",
      "\n",
      "\n"
     ]
    }
   ],
   "source": [
    "# Ex 23: Separando dígitos de um número\n",
    "\n",
    "numero = int(input('Insira um número de 0 a 9999: '))\n",
    "\n",
    "# Pegando o número, realizando divisão exata e pegando o resto da divisão por dez\n",
    "print(f\"\"\"\n",
    "\n",
    "Unidade:  {numero // 1 % 10}\n",
    "Dezena:   {numero // 10 % 10}\n",
    "Centena:  {numero // 100 % 10}\n",
    "Milhar:   {numero // 1000 % 10}\n",
    "\n",
    "\"\"\")"
   ]
  },
  {
   "cell_type": "code",
   "execution_count": 93,
   "id": "c5f6eb4b",
   "metadata": {},
   "outputs": [
    {
     "name": "stdout",
     "output_type": "stream",
     "text": [
      "Insira um nome: Santos Dumont\n",
      "Inicia com a palavra \"Santos\": True\n"
     ]
    }
   ],
   "source": [
    "# Ex 24: Verificando as primeiras letras de um texto\n",
    "\n",
    "# Dizer se o nome de uma pessoa começa com a palavra \"Santos\"\n",
    "nome = str(input('Insira um nome: '))\n",
    "\n",
    "print(f'Inicia com a palavra \"Santos\": {nome.split()[0] == \"Santos\"}')  # É possível inserir aspas duplas dentro de aspas simples e vise-versa"
   ]
  },
  {
   "cell_type": "code",
   "execution_count": 100,
   "id": "423f4702",
   "metadata": {},
   "outputs": [
    {
     "name": "stdout",
     "output_type": "stream",
     "text": [
      "Insira um nome: Winston Churchill da Silva\n",
      "Possui a palavra \"Silva\": True\n"
     ]
    }
   ],
   "source": [
    "# Ex 25: Procurando uma string dentro de outra\n",
    "\n",
    "# Verificar se existe a palavra \"Silva\" no nome de uma pessoa\n",
    "\n",
    "nome = str(input('Insira um nome: '))\n",
    "\n",
    "# \"in\" verifica se existe alguma ocorrência do que foi especificado\n",
    "print(f'Possui a palavra \"Silva\": {\"Silva\" in nome}')"
   ]
  },
  {
   "cell_type": "code",
   "execution_count": 102,
   "id": "9a21f001",
   "metadata": {},
   "outputs": [
    {
     "name": "stdout",
     "output_type": "stream",
     "text": [
      "Insira uma palavra: Arara Azul\n",
      "Ocorrências da letra \"A\": 4\n",
      "Primeira posição: 1\n",
      "Última posição:   7\n"
     ]
    }
   ],
   "source": [
    "# Ex 26: Primeita e última ocorrência de uma string\n",
    "\n",
    "# Verificar quantas letras \"A\" existem na palavra\n",
    "\n",
    "frase = str(input('Insira uma palavra: ')).strip().upper() # Deixando tudo em maiúsculo\n",
    "\n",
    "print(f'Ocorrências da letra \"A\": {frase.count(\"A\")}')\n",
    "\n",
    "# Qual a primeira e ultima posição em que aparece (Contando com espaços)\n",
    "\n",
    "print(f'Primeira posição: {frase.find(\"A\") + 1 }')\n",
    "print(f'Última posição:   {frase.rfind(\"A\") + 1 }')"
   ]
  },
  {
   "cell_type": "code",
   "execution_count": 104,
   "id": "2433e03c",
   "metadata": {},
   "outputs": [
    {
     "name": "stdout",
     "output_type": "stream",
     "text": [
      "Insira um nome: Armando Batista Pereira Filho\n",
      "Primeiro e último nome: Armando Filho\n"
     ]
    }
   ],
   "source": [
    "# Ex 27: Primeiro e último nome de uma pessoa\n",
    "\n",
    "nome = str(input('Insira um nome: ')).strip().split()\n",
    "\n",
    "print(f'Primeiro e último nome: { nome[0] + \" \" + nome[-1] }')"
   ]
  },
  {
   "cell_type": "code",
   "execution_count": 112,
   "id": "36bccb24",
   "metadata": {},
   "outputs": [
    {
     "name": "stdout",
     "output_type": "stream",
     "text": [
      "Insira um número de 0 a 10: 8\n",
      "Você acertou! Parabéns!\n"
     ]
    }
   ],
   "source": [
    "# Ex 28: Jogo da advinhação\n",
    "\n",
    "from random import randint\n",
    "\n",
    "num_aleatorio = randint(0, 10)\n",
    "\n",
    "num_escolhido = int(input('Insira um número de 0 a 10: '))\n",
    "\n",
    "if num_escolhido == num_aleatorio:\n",
    "    print('Você acertou! Parabéns!')\n",
    "else:\n",
    "    print(f'Que pena, eu pensei no número {num_aleatorio}! Boa sorte na próxima!')"
   ]
  },
  {
   "cell_type": "code",
   "execution_count": 114,
   "id": "390c7a52",
   "metadata": {},
   "outputs": [
    {
     "name": "stdout",
     "output_type": "stream",
     "text": [
      "Insira a velocidade: 82\n",
      "Você foi multado. Valor a pagar: R$14 \n"
     ]
    }
   ],
   "source": [
    "# Ex 29: Radar eletrônico\n",
    "# Verificar se velocidade de veículo passa de 80km/h\n",
    "# Obs: Multa é igual a 7 * cada km acima do limite\n",
    "\n",
    "velocidade = int(input('Insira a velocidade: '))\n",
    "\n",
    "if velocidade >= 80:\n",
    "    print(f'Você foi multado. Valor a pagar: R${ (velocidade - 80) * 7 } ')\n",
    "else:\n",
    "    print('Parabéns, a velocidade está dentro do limite. Dirija com cuidado!')"
   ]
  },
  {
   "cell_type": "code",
   "execution_count": 117,
   "id": "42731bdb",
   "metadata": {},
   "outputs": [
    {
     "name": "stdout",
     "output_type": "stream",
     "text": [
      "Insira um número: 2\n",
      "Este número é par!\n"
     ]
    }
   ],
   "source": [
    "# Ex 30: Par ou Ímpar?\n",
    "\n",
    "num = int(input('Insira um número: '))\n",
    "\n",
    "if num % 2 == 0:\n",
    "    print('Este número é par!')\n",
    "else:\n",
    "    print('Este número é impar!')"
   ]
  },
  {
   "cell_type": "code",
   "execution_count": 121,
   "id": "95eff1db",
   "metadata": {},
   "outputs": [
    {
     "name": "stdout",
     "output_type": "stream",
     "text": [
      "Insira a quantidade de quilômetros: 201\n",
      "Valor a pagar: R$ 90.45\n"
     ]
    }
   ],
   "source": [
    "# Ex 31: Custo da Viagem\n",
    "# Ler distância de viagem e cobrar preços diferentes com base na distância\n",
    "# Obs: R$ 0,50 por km em viagens de até 200km; R$ 0,45 por km em viagens mais longas\n",
    "\n",
    "quilometros = float(input('Insira a quantidade de quilômetros: '))\n",
    "\n",
    "# Usando \"if ternário\"\n",
    "preco = quilometros * 0.50 if quilometros <= 200 else quilometros * 0.45\n",
    "\n",
    "print(f'Valor a pagar: R$ {preco}')"
   ]
  },
  {
   "cell_type": "code",
   "execution_count": 128,
   "id": "1cec3b53",
   "metadata": {},
   "outputs": [
    {
     "name": "stdout",
     "output_type": "stream",
     "text": [
      "Insira um ano: 2020\n",
      "O ano é bissexto!\n"
     ]
    }
   ],
   "source": [
    "# Ex 32: Ano Bissexto\n",
    "\n",
    "ano = int(input('Insira um ano: '))\n",
    "\n",
    "if ano % 4 == 0 and ano % 100 != 0 or ano % 400 == 0:\n",
    "    print('O ano é bissexto!')\n",
    "else:\n",
    "    print('O ano não é bissexto!')"
   ]
  },
  {
   "cell_type": "code",
   "execution_count": 130,
   "id": "00736f71",
   "metadata": {},
   "outputs": [
    {
     "name": "stdout",
     "output_type": "stream",
     "text": [
      "Valor A: 4\n",
      "Valor B: 5\n",
      "Valor C: 6\n",
      "Maior valor: 6\n",
      "Menor valor: 4\n"
     ]
    }
   ],
   "source": [
    "# Ex 33: Maior e Menor Valores\n",
    "\n",
    "v_a = int(input('Valor A: '))\n",
    "v_b = int(input('Valor B: '))\n",
    "v_c = int(input('Valor C: '))\n",
    "\n",
    "maior = v_a\n",
    "menor = v_a\n",
    "if v_b < v_a and v_b < v_c:\n",
    "    menor = v_b\n",
    "elif v_c < v_a or v_c < v_b:\n",
    "    menor = v_c\n",
    "    \n",
    "if v_b > v_a and v_b > v_c:\n",
    "    maior = v_b\n",
    "elif v_c > v_a or v_c > v_b:\n",
    "    maior = v_c\n",
    "    \n",
    "print(f'Maior valor: {maior}')\n",
    "print(f'Menor valor: {menor}')"
   ]
  },
  {
   "cell_type": "code",
   "execution_count": 134,
   "id": "8e015e41",
   "metadata": {},
   "outputs": [
    {
     "name": "stdout",
     "output_type": "stream",
     "text": [
      "Insira um valor: 1251\n",
      "Aumento de 125.10, totalizando 1376.10\n"
     ]
    }
   ],
   "source": [
    "# Ex 34: Aumentos múltiplos\n",
    "# Ler valor e aumentar 15% em valores abaixo de 1250. Acima disso, aumentar 10%.\n",
    "\n",
    "valor = float(input('Insira um valor: '))\n",
    "\n",
    "if valor <= 1250:\n",
    "    aumento = valor * 0.15\n",
    "    print('Aumento de {:.2f}, totalizando {:.2f}'.format(aumento, valor + aumento))\n",
    "else:\n",
    "    aumento = valor * 0.1\n",
    "    print('Aumento de {:.2f}, totalizando {:.2f}'.format(aumento, valor + aumento))"
   ]
  },
  {
   "cell_type": "code",
   "execution_count": 138,
   "id": "4b2ab4b2",
   "metadata": {},
   "outputs": [
    {
     "name": "stdout",
     "output_type": "stream",
     "text": [
      "Lado A: 4\n",
      "Lado B: 3\n",
      "Lado C: 4\n",
      "É possível formar um triângulo!\n"
     ]
    }
   ],
   "source": [
    "# Ex 35: Analisando Triângulo v1.0\n",
    "# Verificar se é possível formar um triangulo com valores recebidos\n",
    "\n",
    "r1 = int(input('Lado A: '))\n",
    "r2 = int(input('Lado B: '))\n",
    "r3 = int(input('Lado C: '))\n",
    "\n",
    "if r1 < r2 + r3 and r2 < r1 + r3 and r3 < r1 + r2:\n",
    "    print('É possível formar um triângulo!')\n",
    "else:\n",
    "    print('Não é possível formar um triângulo!')"
   ]
  },
  {
   "cell_type": "code",
   "execution_count": 142,
   "id": "287147ec",
   "metadata": {},
   "outputs": [
    {
     "name": "stdout",
     "output_type": "stream",
     "text": [
      "Insira o valor da casa: 30000\n",
      "Insira o valor do salário: 7000\n",
      "Anos de financiamento: 4\n",
      "Empréstimo concedido.\n"
     ]
    }
   ],
   "source": [
    "# Ex 36: Aprovando Empréstimo\n",
    "# Verificar se empréstimo é permitido ou negado\n",
    "\n",
    "valor_casa = float(input('Insira o valor da casa: '))\n",
    "salario = float(input('Insira o valor do salário: '))\n",
    "meses_financiamento = float(input('Anos de financiamento: ')) * 12\n",
    "\n",
    "prestacao_mensal = valor_casa / meses_financiamento\n",
    "\n",
    "if prestacao_mensal > salario * 0.30:\n",
    "    print('Empréstimo negado.')\n",
    "else:\n",
    "    print('Empréstimo concedido.')\n"
   ]
  },
  {
   "cell_type": "code",
   "execution_count": 41,
   "id": "a61f5f8d",
   "metadata": {},
   "outputs": [
    {
     "name": "stdout",
     "output_type": "stream",
     "text": [
      "Insira um número inteiro: 2\n",
      "\n",
      "Escolha uma base de conversão:\n",
      "\n",
      "[1] converter para Binário\n",
      "[2] converter para Octal\n",
      "[3] converter para Hexadecimal\n",
      "\n",
      "\n",
      "Escolha a opção: 2\n",
      "Octal equivale a 2\n"
     ]
    }
   ],
   "source": [
    "# Ex 37: Conversor de Bases Numéricas\n",
    "num = int(input('Insira um número inteiro: '))\n",
    "print(\"\"\"\n",
    "Escolha uma base de conversão:\n",
    "\n",
    "[1] converter para Binário\n",
    "[2] converter para Octal\n",
    "[3] converter para Hexadecimal\n",
    "\n",
    "\"\"\")\n",
    "\n",
    "opcao = int(input('Escolha a opção: '))\n",
    "\n",
    "binario = bin(num).replace('0b', '')\n",
    "octal = oct(num).replace('0o', '')\n",
    "hexadecimal = hex(num).replace('0x', '').upper()\n",
    "\n",
    "if(opcao == 1):\n",
    "    print('Binário equivale a {}'.format(num, binario))\n",
    "elif(opcao == 2):\n",
    "    print('Octal equivale a {}'.format(num, octal))\n",
    "elif(opcao == 3):\n",
    "    print('Hexadecimal equivale a {}'.format(num, hexadecimal))\n",
    "else:\n",
    "    print('Opção inválida.')"
   ]
  },
  {
   "cell_type": "code",
   "execution_count": 45,
   "id": "9728850b",
   "metadata": {},
   "outputs": [
    {
     "name": "stdout",
     "output_type": "stream",
     "text": [
      "Digite um número inteiro: 3\n",
      "Digite outro número inteiro: 2\n",
      "Maior: 3\n",
      "Menor: 2\n"
     ]
    }
   ],
   "source": [
    "# Ex 38: Comparando números\n",
    "\n",
    "num_1 = int(input('Digite um número inteiro: '))\n",
    "num_2 = int(input('Digite outro número inteiro: '))\n",
    "\n",
    "if num_1 > num_2:\n",
    "    print(f'Maior: {num_1}\\nMenor: {num_2}')\n",
    "elif num_1 < num_2:\n",
    "    print(f'Maior: {num_2}\\nMenor: {num_1}')\n",
    "else:\n",
    "    print(f'Os números são iguais.')"
   ]
  },
  {
   "cell_type": "code",
   "execution_count": 165,
   "id": "03d5576a",
   "metadata": {},
   "outputs": [
    {
     "name": "stdout",
     "output_type": "stream",
     "text": [
      "Insira o ano de nascimento: 1976\n",
      "Você já deve ter se alistado!\n"
     ]
    }
   ],
   "source": [
    "# Ex 39: Verificar se há idade suficiente para o alistamento militar\n",
    "\n",
    "from datetime import date\n",
    "\n",
    "ano_nascimento = int(input('Insira o ano de nascimento: '))\n",
    "ano_atual = date.today().year\n",
    "\n",
    "idade = ano_atual - ano_nascimento\n",
    "\n",
    "if idade == 18:\n",
    "    print('Você deve se alistar agora.')\n",
    "elif idade < 18:\n",
    "    print(f'Você ainda não tem 18 anos. Seu alistamento será daqui a {18 - idade} anos, no ano de {ano_nascimento + 18}.')\n",
    "else:\n",
    "    print(f'Você já deve ter se alistado!')\n"
   ]
  },
  {
   "cell_type": "code",
   "execution_count": 51,
   "id": "8ddcc752",
   "metadata": {},
   "outputs": [
    {
     "name": "stdout",
     "output_type": "stream",
     "text": [
      "Nota da AV1: 9.8\n",
      "Nota da AV2: 8.5\n",
      "Nota da AV3: 7.2\n",
      "A média do aluno foi igual a 8.50!\n",
      "Aprovado!\n"
     ]
    }
   ],
   "source": [
    "# Ex 40: Aquele clássico da Média\n",
    "\n",
    "num_1 = float(input('Nota da AV1: '))\n",
    "num_2 = float(input('Nota da AV2: '))\n",
    "num_3 = float(input('Nota da AV3: '))\n",
    "\n",
    "media = (num_1 + num_2 + num_3) / 3\n",
    "print('A média do aluno foi igual a {:.2f}!'.format(media))\n",
    "if media < 5:\n",
    "    print('Reprovado!')\n",
    "elif 5 <= media < 7:  # Se a média estiver entre 5 e 7\n",
    "    print('Recuperação!')\n",
    "elif media >= 7:\n",
    "    print('Aprovado!')"
   ]
  },
  {
   "cell_type": "code",
   "execution_count": 53,
   "id": "3176c206",
   "metadata": {},
   "outputs": [
    {
     "name": "stdout",
     "output_type": "stream",
     "text": [
      "Insira seu ano de nascimento: 2003\n",
      "Idade do aluno: 20\n",
      "Classicicação: SÊNIOR\n"
     ]
    }
   ],
   "source": [
    "# Ex 41: Classificando Atletas\n",
    "\n",
    "from datetime import date\n",
    "\n",
    "ano_nascimento = int(input('Insira seu ano de nascimento: '))\n",
    "\n",
    "ano_atual = date.today().year\n",
    "\n",
    "idade = ano_atual - ano_nascimento\n",
    "\n",
    "print(f'Idade do aluno: {idade}')\n",
    "\n",
    "if idade <= 9:\n",
    "    print('Classicicação: MIRIM')\n",
    "elif idade <= 14:\n",
    "    print('Classicicação: INFANTIL')\n",
    "elif idade <= 19:\n",
    "    print('Classicicação: JÚNIOR')\n",
    "elif idade <= 25:\n",
    "    print('Classicicação: SÊNIOR')\n",
    "else:\n",
    "    print('Classicicação: MASTER')"
   ]
  },
  {
   "cell_type": "code",
   "execution_count": 58,
   "id": "6f786bdc",
   "metadata": {},
   "outputs": [
    {
     "name": "stdout",
     "output_type": "stream",
     "text": [
      "Lado A: 4\n",
      "Lado B: 5\n",
      "Lado C: 3\n",
      "É possível formar um triângulo!\n",
      "Escaleno!\n"
     ]
    }
   ],
   "source": [
    "# Ex 42: Analisando Triângulos v2.0\n",
    "\n",
    "r1 = int(input('Lado A: '))\n",
    "r2 = int(input('Lado B: '))\n",
    "r3 = int(input('Lado C: '))\n",
    "\n",
    "if r1 < r2 + r3 and r2 < r1 + r3 and r3 < r1 + r2:\n",
    "    print('É possível formar um triângulo!')\n",
    "    \n",
    "    if r1 == r2 == r3:    \n",
    "        print('Equilátero!') # Quando todos os lados são iguais\n",
    "    if r1 != r2 != r3 != r1:\n",
    "        print('Escaleno!') # Quando todos os lados são diferentes\n",
    "    else:\n",
    "        print('Isósceles!') # Quando apenas dois lados são iguais\n",
    "    \n",
    "else:\n",
    "    print('Não é possível formar um triângulo!')"
   ]
  },
  {
   "cell_type": "code",
   "execution_count": 61,
   "id": "f2b320ad",
   "metadata": {},
   "outputs": [
    {
     "name": "stdout",
     "output_type": "stream",
     "text": [
      "Insira o peso [KG]: 63\n",
      "Insira a altura [M]: 1.94\n",
      "IMC: 16.74\n",
      "Abaixo do peso.\n"
     ]
    }
   ],
   "source": [
    "# Ex 43: Índice de Massa Corporal\n",
    "\n",
    "peso = float(input('Insira o peso [KG]: '))\n",
    "altura = float(input('Insira a altura [M]: '))\n",
    "\n",
    "imc = peso / (altura ** 2)\n",
    "\n",
    "print(f'IMC: {imc:.2f}')\n",
    "\n",
    "if imc < 18.5:\n",
    "    print('Abaixo do peso.')\n",
    "elif 18.5 <= imc < 25:\n",
    "    print('Peso ideal.')\n",
    "elif 25 <= imc < 30:\n",
    "    print('Sobrepeso.')\n",
    "elif 30 <= imc < 40:\n",
    "    print('Obesidade.')\n",
    "else:\n",
    "    print('Obesidade mórbida.')\n",
    "\n"
   ]
  },
  {
   "cell_type": "code",
   "execution_count": 65,
   "id": "67541011",
   "metadata": {},
   "outputs": [
    {
     "name": "stdout",
     "output_type": "stream",
     "text": [
      "Valor da compra: R$502.05\n",
      "Formas de pagamentos\n",
      "[1] À vista dinheiro\n",
      "[2] À vista no cartão\n",
      "[3] 2 vezes no cartão\n",
      "[4] 4 vezes no cartão\n",
      "\n",
      "Opção: 2\n",
      "Desconto: R$25.10\n",
      "Valor a pagar: R$476.95.\n"
     ]
    }
   ],
   "source": [
    "# Ex 44: Gerenciador de Pagamentos\n",
    "\n",
    "preco = float(input('Valor da compra: R$'))\n",
    "\n",
    "print(\"\"\"Formas de pagamentos\n",
    "[1] À vista dinheiro\n",
    "[2] À vista no cartão\n",
    "[3] 2 vezes no cartão\n",
    "[4] 4 vezes no cartão\n",
    "\"\"\")\n",
    "\n",
    "opcao = int(input('Opção: '))\n",
    "\n",
    "\n",
    "if opcao == 1:  # Dinheiro: 10% de desconto\n",
    "    \n",
    "    desconto = preco * 0.10\n",
    "    \n",
    "    print(f'Desconto: R${desconto:.2f}\\nValor a pagar: R${preco - desconto:.2f}.')\n",
    "    \n",
    "elif opcao == 2:  # À vista cartão: 5% de desconto\n",
    "    \n",
    "    desconto = preco * 0.05\n",
    "    \n",
    "    print(f'Desconto: R${desconto:.2f}\\nValor a pagar: R${preco - desconto:.2f}.')\n",
    "\n",
    "elif opcao == 3:  # 2x no cartão: normal\n",
    "\n",
    "    print(f'Valor a pagar: R${preco:.2f}\\nDuas parcelas de: R${preco / 2:.2f}.')\n",
    "\n",
    "elif opcao == 4:  # 4x no cartão: 20% de juros\n",
    "    \n",
    "    juros = preco * 0.20\n",
    "    \n",
    "    print(f'Juros: R${preco:.2f}\\nQuatro parcelas de: R${preco / 4:.2f}\\nValor a pagar: R${preco + juros:.2f}.')\n",
    "\n",
    "else:\n",
    "    print('Opção inválida. Digite novamente.')\n"
   ]
  },
  {
   "cell_type": "code",
   "execution_count": 85,
   "id": "07f9032b",
   "metadata": {},
   "outputs": [
    {
     "name": "stdout",
     "output_type": "stream",
     "text": [
      "\n",
      "\n",
      "1) Pedra\n",
      "2) Papel\n",
      "3) Tesoura\n",
      "\n",
      "Escolha o número de uma opção: 2\n",
      "\n",
      "\n",
      "Máquina: Pedra\n",
      "\n",
      "Jogador: Papel\n",
      "\n",
      "\n",
      "Papel vence Pedra!\n",
      "Jogador ganhou.\n"
     ]
    }
   ],
   "source": [
    "# Ex 45: GAME: Pedra, Papel e Tesoura\n",
    "\n",
    "from random import randint\n",
    "\n",
    "opcao = int( input(\"\"\"\n",
    "\n",
    "1) Pedra\n",
    "2) Papel\n",
    "3) Tesoura\n",
    "\n",
    "Escolha o número de uma opção: \"\"\"))\n",
    "\n",
    "lista = ['Pedra', 'Papel', 'Tesoura']\n",
    "\n",
    "jogada_maquina = lista[randint(0, 2)]\n",
    "jogada_jogador = lista[opcao - 1]\n",
    "\n",
    "print(f\"\"\"\n",
    "\n",
    "Máquina: {jogada_maquina}\n",
    "\n",
    "Jogador: {jogada_jogador}\n",
    "\n",
    "\"\"\")\n",
    "\n",
    "if jogada_jogador == jogada_maquina:\n",
    "    print('Empate.')\n",
    "elif jogada_jogador == \"Pedra\" != jogada_maquina == \"Tesoura\":\n",
    "    \n",
    "    print(f'{jogada_jogador} vence {jogada_maquina}!\\nJogador ganhou.')\n",
    "    \n",
    "elif jogada_jogador == \"Papel\" != jogada_maquina == \"Pedra\":\n",
    "    \n",
    "    print(f'{jogada_jogador} vence {jogada_maquina}!\\nJogador ganhou.')\n",
    "    \n",
    "elif jogada_jogador == \"Tesoura\" != jogada_maquina == \"Papel\":\n",
    "    \n",
    "    print(f'{jogada_jogador} vence {jogada_maquina}!\\nJogador ganhou.')\n",
    "    \n",
    "else:\n",
    "    print(f'{jogada_maquina} vence {jogada_jogador}!\\nMáquina ganhou.')\n",
    "\n"
   ]
  },
  {
   "cell_type": "code",
   "execution_count": 1,
   "id": "eda4126d",
   "metadata": {},
   "outputs": [
    {
     "name": "stdout",
     "output_type": "stream",
     "text": [
      "Insira um valor: 10\n",
      "10\n",
      "9\n",
      "8\n",
      "7\n",
      "6\n",
      "5\n",
      "4\n",
      "3\n",
      "2\n",
      "1\n"
     ]
    }
   ],
   "source": [
    "# Ex 46: Contagem regressiva\n",
    "# Estrutura de repetição para contagem regressiva esperando meio segundo a cada contagem\n",
    "\n",
    "from time import sleep\n",
    "\n",
    "numero = int(input('Insira um valor: '))\n",
    "\n",
    "while numero != 0:\n",
    "    print(numero)\n",
    "    numero -= 1\n",
    "    \n",
    "    sleep(0.5) # Função sleep lê valores em segundos"
   ]
  },
  {
   "cell_type": "code",
   "execution_count": 3,
   "id": "ec205e20",
   "metadata": {
    "scrolled": true
   },
   "outputs": [
    {
     "name": "stdout",
     "output_type": "stream",
     "text": [
      "[0, 2, 4, 6, 8, 10, 12, 14, 16, 18, 20, 22, 24, 26, 28, 30, 32, 34, 36, 38, 40, 42, 44, 46, 48]\n"
     ]
    }
   ],
   "source": [
    "# Ex 47: Contagem de pares\n",
    "\n",
    "Exibir valores pares entre 1 e 50\n",
    "\n",
    "numero = 1\n",
    "lista = []\n",
    "for num in range(50):\n",
    "    lista.append(num) if num % 2 == 0 else ''\n",
    "print(lista)"
   ]
  },
  {
   "cell_type": "code",
   "execution_count": 88,
   "id": "7143df20",
   "metadata": {},
   "outputs": [
    {
     "name": "stdout",
     "output_type": "stream",
     "text": [
      "20667\n"
     ]
    }
   ],
   "source": [
    "# Ex 48: Soma ímpares múltiplos de três\n",
    "# Calcular soma entre múltiplos de três que estão entre 1 e 500.\n",
    "\n",
    "soma = 0\n",
    "for num in range(1, 500, 2): # Partindo do 1 até o 500, pulando de 2 em 2 (1, 3, 5, 7, ...500)\n",
    "    \n",
    "    if num % 3 == 0:\n",
    "        soma += num\n",
    "    \n",
    "print(soma)"
   ]
  },
  {
   "cell_type": "code",
   "execution_count": 11,
   "id": "87c38a48",
   "metadata": {},
   "outputs": [
    {
     "name": "stdout",
     "output_type": "stream",
     "text": [
      "Insira um número: 5\n",
      "5 x 1 = 5\n",
      "5 x 2 = 10\n",
      "5 x 3 = 15\n",
      "5 x 4 = 20\n",
      "5 x 5 = 25\n",
      "5 x 6 = 30\n",
      "5 x 7 = 35\n",
      "5 x 8 = 40\n",
      "5 x 9 = 45\n",
      "5 x 10 = 50\n"
     ]
    }
   ],
   "source": [
    "# Ex 49: Tabuada v2.0\n",
    "\n",
    "num = int(input('Insira um número: '))\n",
    "\n",
    "for n in range(1, 11):\n",
    "    \n",
    "    print(f'{num} x {n} = {num * n}')"
   ]
  },
  {
   "cell_type": "code",
   "execution_count": 14,
   "id": "7a88fce0",
   "metadata": {},
   "outputs": [
    {
     "name": "stdout",
     "output_type": "stream",
     "text": [
      "Insira seis valores: \n",
      "2\n",
      "2\n",
      "1\n",
      "1\n",
      "1\n",
      "1\n",
      "Valores: [2, 2, 1, 1, 1, 1]\n",
      "Soma: 4\n"
     ]
    }
   ],
   "source": [
    "# Ex 50: Soma dos pares\n",
    "# Ler seis números inteiros e somar os pares\n",
    "\n",
    "lista = []\n",
    "print('Insira seis valores: ')\n",
    "for i in range(6):\n",
    "    valor = int(input())\n",
    "    lista.append(valor)\n",
    "    \n",
    "soma_pares = 0\n",
    "for valor in lista:\n",
    "    \n",
    "    if valor % 2 == 0:\n",
    "        soma_pares += valor\n",
    "        \n",
    "        \n",
    "print(f'Valores: {lista}')\n",
    "print(f'Soma: {soma_pares}')"
   ]
  },
  {
   "cell_type": "code",
   "execution_count": 98,
   "id": "7d2d7683",
   "metadata": {},
   "outputs": [
    {
     "name": "stdout",
     "output_type": "stream",
     "text": [
      "Insira o primeiro termo: 0\n",
      "Insira a razão: 2\n",
      "0 2 4 6 8 10 12 14 16 18 "
     ]
    }
   ],
   "source": [
    "# Ex 51: Progressão Aritmética\n",
    "# Encontrar números primos tendo valor recebido como limite\n",
    "# Obs: números primos são divisiveis apenas por 1 e por eles mesmos\n",
    "\n",
    "valor = int(input('Insira o primeiro termo: '))\n",
    "razao = int(input('Insira a razão: '))\n",
    "\n",
    "decimo = valor + (10 - 1) * razao # Cálculo alternativo para pegar o décimo termo (Feito apenas para treinar o raciocínio lógico com \"for\")\n",
    "\n",
    "contador = 0\n",
    "for v in range(valor, decimo + razao, razao):\n",
    "    \n",
    "    print(v, end=' ')\n"
   ]
  },
  {
   "cell_type": "code",
   "execution_count": 89,
   "id": "9afe31fc",
   "metadata": {},
   "outputs": [
    {
     "name": "stdout",
     "output_type": "stream",
     "text": [
      "Insira um valor: 2\n",
      "2 é um número primo!\n"
     ]
    }
   ],
   "source": [
    "# Ex 52: Números primos\n",
    "valor = int(input('Insira um valor: '))\n",
    "\n",
    "contador = 0\n",
    "for v in range(1, valor+1):\n",
    "    \n",
    "    if valor % v == 0:\n",
    "        contador += 1\n",
    "\n",
    "if contador == 2:\n",
    "    print(f'{valor} é um número primo!')\n",
    "else:\n",
    "    print(f'{valor} não é número primo!')"
   ]
  },
  {
   "cell_type": "code",
   "execution_count": 37,
   "id": "78c538f9",
   "metadata": {},
   "outputs": [
    {
     "name": "stdout",
     "output_type": "stream",
     "text": [
      "Insira uma frase: o lobo ama o bolo\n",
      "É palíndromo!\n"
     ]
    }
   ],
   "source": [
    "# Ex 53: Detector de Palíndromo\n",
    "# Identificação de palíndromos (palavras que ficam iguais de trás para frente)\n",
    "\n",
    "frase = ''.join(str(input('Insira uma frase: ')).strip().lower().split())\n",
    "frase_invertida = ''\n",
    "\n",
    "for i in range(len(frase)):\n",
    "    \n",
    "    frase_invertida = ''.join([frase_invertida, frase[-i-1]])\n",
    "\n",
    "if frase == frase_invertida:\n",
    "    print('É palíndromo!')\n",
    "else:\n",
    "    print('Não é palíndromo!')\n"
   ]
  },
  {
   "cell_type": "code",
   "execution_count": 104,
   "id": "ce401a8e",
   "metadata": {},
   "outputs": [
    {
     "name": "stdout",
     "output_type": "stream",
     "text": [
      "Insira o ano de nascimento: 2000\n",
      "Insira o ano de nascimento: 2000\n",
      "Insira o ano de nascimento: 2020\n",
      "Insira o ano de nascimento: 2020\n",
      "Insira o ano de nascimento: 2020\n",
      "Insira o ano de nascimento: 2020\n",
      "Insira o ano de nascimento: 2020\n",
      "2 são maiores de idade e 5 são menores de idade.\n"
     ]
    }
   ],
   "source": [
    "# Ex 54: Grupo da Maioridade\n",
    "# Obs: verificar qtd de maiores de idade e qtd de menores de idade de acordo com o ano de nascimento\n",
    "from datetime import date\n",
    "\n",
    "ano_atual = date.today().year\n",
    "\n",
    "contador_menor_18 = contador_maior_18 = 0 \n",
    "for v in range(7):\n",
    "\n",
    "    ano_nascimento = int(input('Insira o ano de nascimento: '))\n",
    "\n",
    "    idade = ano_atual - ano_nascimento\n",
    "\n",
    "    if idade < 18:\n",
    "        contador_menor_18 += 1\n",
    "    else:\n",
    "        contador_maior_18 += 1\n",
    "\n",
    "print(f'{contador_maior_18} são maiores de idade e {contador_menor_18} são menores de idade.')"
   ]
  },
  {
   "cell_type": "code",
   "execution_count": 105,
   "id": "e954af0f",
   "metadata": {},
   "outputs": [
    {
     "name": "stdout",
     "output_type": "stream",
     "text": [
      "Peso da 1ª pessoa: 5\n",
      "Peso da 2ª pessoa: 2\n",
      "Peso da 3ª pessoa: 3\n",
      "Peso da 4ª pessoa: 2\n",
      "Peso da 5ª pessoa: 1\n",
      "Maior valor: 5.0\n",
      "Menor valor: 1.0\n"
     ]
    }
   ],
   "source": [
    "# Ex 55: Maior e menor da sequência\n",
    "\n",
    "lista = []\n",
    "for v in range(1, 6):\n",
    "    \n",
    "    valor = float(input(f'Peso da {v}ª pessoa: '))\n",
    "    \n",
    "    lista.append(valor)\n",
    "\n",
    "print('Maior valor:', max(lista))\n",
    "print('Menor valor:', min(lista))"
   ]
  },
  {
   "cell_type": "code",
   "execution_count": 111,
   "id": "2f1600b5",
   "metadata": {},
   "outputs": [
    {
     "name": "stdout",
     "output_type": "stream",
     "text": [
      "\n",
      "PESSOA 1\n",
      "Nome: João\n",
      "Idade: 20\n",
      "Sexo [M/F]: M\n",
      "\n",
      "PESSOA 2\n",
      "Nome: Ana Maria Brega\n",
      "Idade: 84\n",
      "Sexo [M/F]: F\n",
      "\n",
      "PESSOA 3\n",
      "Nome: Hanna Montana\n",
      "Idade: 19\n",
      "Sexo [M/F]: F\n",
      "\n",
      "PESSOA 4\n",
      "Nome: Bruno\n",
      "Idade: 32\n",
      "Sexo [M/F]: M\n",
      "\n",
      "PESSOA 5\n",
      "Nome: Alana\n",
      "Idade: 18\n",
      "Sexo [M/F]: F\n",
      "Média de idade: 34.6\n",
      "Homem mais velho: Bruno | Idade: 32\n",
      "Mulheres com menos de 20 anos de idade: 2\n"
     ]
    }
   ],
   "source": [
    "# Ex 56: Analisador completo\n",
    "# Obs: Realizar análise de média de idade, qual o homem mais velho e qtd de mulheres com menos de 20 anos de idade\n",
    "\n",
    "soma_de_idade = maior_idade_homem = mulheres_menos_20 = 0\n",
    "nome_homem_mais_velho = ''\n",
    "for v in range(5):\n",
    "    \n",
    "    print('\\nPESSOA', v + 1)\n",
    "    \n",
    "    nome = str(input('Nome: '))\n",
    "    idade = int(input('Idade: '))\n",
    "    sexo = str(input('Sexo [M/F]: '))\n",
    "    \n",
    "    if idade > maior_idade_homem and sexo in 'Mm': # in 'Mm' é uma maneira alternativa de validação\n",
    "        \n",
    "        maior_idade_homem = idade\n",
    "        nome_homem_mais_velho = nome\n",
    "        \n",
    "    if sexo in 'Ff' and idade < 20:\n",
    "        mulheres_menos_20 += 1\n",
    "        \n",
    "    \n",
    "    soma_de_idade += idade\n",
    "    \n",
    "media_de_idade = soma_de_idade / 5\n",
    "\n",
    "print(f'\\nMédia de idade: {media_de_idade}')\n",
    "print(f'Homem mais velho: {nome_homem_mais_velho} | Idade: {maior_idade_homem}')\n",
    "print(f'Mulheres com menos de 20 anos de idade: {mulheres_menos_20}')"
   ]
  },
  {
   "cell_type": "code",
   "execution_count": 3,
   "id": "efd2bdc8",
   "metadata": {},
   "outputs": [
    {
     "name": "stdout",
     "output_type": "stream",
     "text": [
      "Informe seu sexo [M/F]: ag\n",
      "Valor inválido. Informe seu sexo [M/F]: ee\n",
      "Valor inválido. Informe seu sexo [M/F]: rge\n",
      "Valor inválido. Informe seu sexo [M/F]: rg\n",
      "Valor inválido. Informe seu sexo [M/F]: m\n",
      "\n",
      "Código finalizado.\n"
     ]
    }
   ],
   "source": [
    "# Ex 57: Validação de Dados\n",
    "# Obs: enquanto um valor aceitável não for passado, o código não é encerrado\n",
    "sexo = str(input('Informe seu sexo [M/F]: '))\n",
    "while sexo not in 'MmFf':\n",
    "    \n",
    "    sexo = str(input('Valor inválido. Informe seu sexo [M/F]: '))\n",
    "    \n",
    "print('\\nCódigo finalizado.')"
   ]
  },
  {
   "cell_type": "code",
   "execution_count": 21,
   "id": "20d52b1e",
   "metadata": {},
   "outputs": [
    {
     "name": "stdout",
     "output_type": "stream",
     "text": [
      "Número entre 0 a 10 escolhido.\n",
      "Advinhe o valor (entre 0 e 10): 6\n",
      "Não acertou! Tente novamente: 2\n",
      "Um pouco mais...\n",
      "Não acertou! Tente novamente: 3\n",
      "Um pouco mais...\n",
      "Não acertou! Tente novamente: 4\n",
      "Um pouco mais...\n",
      "Não acertou! Tente novamente: 5\n",
      "Um pouco mais...\n",
      "Não acertou! Tente novamente: 6\n",
      "Um pouco mais...\n",
      "Não acertou! Tente novamente: 7\n",
      "Um pouco mais...\n",
      "Não acertou! Tente novamente: 8\n",
      "Parabéns, você acertou em 8 tentativas!\n"
     ]
    }
   ],
   "source": [
    "# Ex 58: Jogo da Advinhação v2.0\n",
    "\n",
    "from random import randint\n",
    "\n",
    "jogada_pc = randint(0, 10)\n",
    "\n",
    "jogada_p1 = int(input('Número entre 0 a 10 escolhido.\\nAdvinhe o valor (entre 0 e 10): '))\n",
    "\n",
    "contador = 1\n",
    "while jogada_p1 != jogada_pc:\n",
    "    jogada_p1 = int(input('Não acertou! Tente novamente: '))\n",
    "    \n",
    "    if jogada_p1 < jogada_pc:\n",
    "        print('Um pouco mais...')\n",
    "    elif jogada_p1 != jogada_pc:\n",
    "        print('Um pouco menos...')\n",
    "    contador += 1\n",
    "    \n",
    "print(f'Parabéns, você acertou em {contador} tentativas!')"
   ]
  },
  {
   "cell_type": "code",
   "execution_count": 30,
   "id": "89d1e0a1",
   "metadata": {},
   "outputs": [
    {
     "name": "stdout",
     "output_type": "stream",
     "text": [
      "Primeiro valor: 7\n",
      "Segundo valor:  3\n",
      "\n",
      "\n",
      "    [1] Somar\n",
      "    [2] Multiplicar\n",
      "    [3] Maior\n",
      "    [4] Novos números\n",
      "    [5] Sair\n",
      "\n",
      "    Insira o número da opção: \n",
      "    3\n",
      "Maior entre 7 e 3 é 7\n",
      "Primeiro valor: 2\n",
      "Segundo valor:  7\n",
      "\n",
      "\n",
      "    [1] Somar\n",
      "    [2] Multiplicar\n",
      "    [3] Maior\n",
      "    [4] Novos números\n",
      "    [5] Sair\n",
      "\n",
      "    Insira o número da opção: \n",
      "    5\n",
      "\n",
      "Programa finalizado.\n",
      "\n"
     ]
    }
   ],
   "source": [
    "# Ex 59: Criando um Menu de Opções\n",
    "\n",
    "opcao = 0\n",
    "\n",
    "while opcao != 5:\n",
    "    \n",
    "    num_1 = int(input('Primeiro valor: '))\n",
    "    num_2 = int(input('Segundo valor:  '))\n",
    "    \n",
    "    opcao = int(input(\"\"\"\n",
    "\n",
    "    [1] Somar\n",
    "    [2] Multiplicar\n",
    "    [3] Maior\n",
    "    [4] Novos números\n",
    "    [5] Sair\n",
    "\n",
    "    Insira o número da opção: \n",
    "    \"\"\"))\n",
    "    \n",
    "    if opcao == 1:\n",
    "        print(f'Soma entre {num_1} e {num_2} equivale a {num_1 + num_2}')\n",
    "    elif opcao == 2:\n",
    "        print(f'Multiplicação entre {num_1} e {num_2} equivale a {num_1 * num_2}')\n",
    "    elif opcao == 3:\n",
    "        print(f'Maior entre {num_1} e {num_2} é {max(num_1, num_2)}')\n",
    "    elif opcao == 4:\n",
    "        print('\\nRecarregando...\\n')\n",
    "    elif opcao == 5:\n",
    "        print('\\nPrograma finalizado.\\n')\n",
    "        break\n",
    "    else:\n",
    "        print('Opção inválida.')"
   ]
  },
  {
   "cell_type": "code",
   "execution_count": 43,
   "id": "03e17baf",
   "metadata": {},
   "outputs": [
    {
     "name": "stdout",
     "output_type": "stream",
     "text": [
      "Insira um valor: 5\n",
      "Cálculo iniciado. 5! = 5 x 4 x 3 x 2 x 1 = 120"
     ]
    }
   ],
   "source": [
    "# Ex 60: Cálculo do Fatorial\n",
    "\n",
    "valor = int(input('Insira um valor: '))\n",
    "fatorial = 1\n",
    "\n",
    "print(f'Cálculo iniciado. {valor}! = ', end='')\n",
    "\n",
    "while valor >= 1:\n",
    "    print(f'{valor}', end=' x ') if valor != 1 else print(f'1 = {fatorial}', end='')\n",
    "    fatorial *= valor\n",
    "    valor -= 1"
   ]
  },
  {
   "cell_type": "code",
   "execution_count": 49,
   "id": "d5b8b9cf",
   "metadata": {},
   "outputs": [
    {
     "name": "stdout",
     "output_type": "stream",
     "text": [
      "Insira o primeiro termo: 5\n",
      "Insira a razão: 2\n",
      "5 7 9 11 13 15 17 19 21 23 "
     ]
    }
   ],
   "source": [
    "# Ex 61: Progressão Aritmética v2.0\n",
    "\n",
    "valor = int(input('Insira o primeiro termo: '))\n",
    "razao = int(input('Insira a razão: '))\n",
    "\n",
    "termo = valor\n",
    "\n",
    "contador = 0\n",
    "while contador < 10:\n",
    "    \n",
    "    print(termo, end=' ')\n",
    "    termo += razao\n",
    "    contador += 1"
   ]
  },
  {
   "cell_type": "code",
   "execution_count": 60,
   "id": "99b74275",
   "metadata": {},
   "outputs": [
    {
     "name": "stdout",
     "output_type": "stream",
     "text": [
      "Insira o primeiro termo: 5\n",
      "Insira a razão: 5\n",
      "5 10 15 20 25 30 35 40 45 50 \n",
      "\n",
      "Quantos termos a mais você quer ver? 5\n",
      "55 60 65 70 75 \n",
      "\n",
      "Quantos termos a mais você quer ver? 0\n",
      "\n",
      "Programa finalizado.\n",
      "\n"
     ]
    }
   ],
   "source": [
    "# Ex 62: Super Progressão Aritmética v3.0\n",
    "# Obs: adicionar opção de continuação da progressão\n",
    "valor = int(input('Insira o primeiro termo: '))\n",
    "razao = int(input('Insira a razão: '))\n",
    "\n",
    "termo = valor\n",
    "\n",
    "contador = 0\n",
    "limite = 10\n",
    "while contador < limite:\n",
    "    \n",
    "    print(termo, end=' ')\n",
    "    termo += razao\n",
    "    contador += 1\n",
    "    \n",
    "    \n",
    "    if contador == limite:\n",
    "        \n",
    "        limite = int(input('\\n\\nQuantos termos a mais você quer ver? '))\n",
    "        \n",
    "        if limite == 0:\n",
    "            print('\\nPrograma finalizado.\\n')\n",
    "            break\n",
    "        else:\n",
    "            contador = 0"
   ]
  },
  {
   "cell_type": "code",
   "execution_count": 62,
   "id": "4f536685",
   "metadata": {},
   "outputs": [
    {
     "name": "stdout",
     "output_type": "stream",
     "text": [
      "Insira a quantidade de valores desejada: 10\n",
      "1 2 3 5 8 13 21 34 55 89 144 "
     ]
    }
   ],
   "source": [
    "# Ex 63: Sequência de Fibonacci v1.0\n",
    "\n",
    "valor = int(input('Insira a quantidade de valores desejada: '))\n",
    "\n",
    "contador = 0\n",
    "num_1 = 0\n",
    "num_2 = 1\n",
    "while contador <= valor:\n",
    "    \n",
    "    num_3 = num_1 + num_2\n",
    "    print(num_3, end=' ')\n",
    "    \n",
    "    num_1 = num_2\n",
    "    num_2 = num_3\n",
    "    \n",
    "    contador += 1"
   ]
  },
  {
   "cell_type": "code",
   "execution_count": 70,
   "id": "68adf110",
   "metadata": {},
   "outputs": [
    {
     "name": "stdout",
     "output_type": "stream",
     "text": [
      "Programa iniciado. Digite \"999\" para encerrá-lo.\n",
      "Insira um valor: 5\n",
      "Insira um valor: 4\n",
      "Insira um valor: 3\n",
      "Insira um valor: 2\n",
      "Insira um valor: 1\n",
      "Insira um valor: 999\n",
      "A soma dos 5 valores mencionados equivale a 15.\n"
     ]
    }
   ],
   "source": [
    "# Ex 64: Tratando vários valores v1.0\n",
    "# Obs: Somar valores do input desconsiderando o valor para encerrar o programa\n",
    "\n",
    "valor = 0\n",
    "soma = 0\n",
    "contador = -1\n",
    "\n",
    "print('Programa iniciado. Digite \"999\" para encerrá-lo.')\n",
    "while valor != 999:\n",
    "    \n",
    "    soma += valor\n",
    "    contador += 1\n",
    "    \n",
    "    valor = int(input('Insira um valor: '))\n",
    "    \n",
    "print(f'A soma dos {contador} valores mencionados equivale a {soma}.')"
   ]
  },
  {
   "cell_type": "code",
   "execution_count": 67,
   "id": "846b174b",
   "metadata": {},
   "outputs": [
    {
     "name": "stdout",
     "output_type": "stream",
     "text": [
      "\n",
      "Insira um valor: 5\n",
      "Quer continuar? [S/N] s\n",
      "\n",
      "Insira um valor: 4\n",
      "Quer continuar? [S/N] s\n",
      "\n",
      "Insira um valor: 3\n",
      "Quer continuar? [S/N] s\n",
      "\n",
      "Insira um valor: 2\n",
      "Quer continuar? [S/N] s\n",
      "\n",
      "Insira um valor: 1\n",
      "Quer continuar? [S/N] n\n",
      "Maior valor: 5\n",
      "Menor valor: 1\n"
     ]
    }
   ],
   "source": [
    "# Ex 65: Maior e Menor valores\n",
    "# Obs: é possível fazer com condições (if, elif, else), mas prefiri fazer dessa forma para deixar o código mais inteligível\n",
    "valor = 0\n",
    "resposta = ''\n",
    "lista = []\n",
    "\n",
    "while reposta not in 'Nn':\n",
    "    \n",
    "    valor = int(input('\\nInsira um valor: '))\n",
    "    \n",
    "    lista.append(valor)\n",
    "    \n",
    "    resposta = str(input('Quer continuar? [S/N] '))\n",
    "        \n",
    "print(f'Maior valor: {max(lista)}\\nMenor valor: {min(lista)}')"
   ]
  },
  {
   "cell_type": "code",
   "execution_count": 71,
   "id": "bfb52dda",
   "metadata": {},
   "outputs": [
    {
     "name": "stdout",
     "output_type": "stream",
     "text": [
      "Programa iniciado. Digite \"999\" para encerrá-lo.\n",
      "Insira um valor: 5\n",
      "Insira um valor: 4\n",
      "Insira um valor: 3\n",
      "Insira um valor: 2\n",
      "Insira um valor: 1\n",
      "Insira um valor: 999\n",
      "A soma dos 5 valores mencionados equivale a 15.\n"
     ]
    }
   ],
   "source": [
    "# Ex 66: Vários números com flag\n",
    "# Obs: Somar valores do input desconsiderando o valor para encerrar o programa\n",
    "# Obs 2: Usar \"break\"\n",
    "valor = 0\n",
    "soma = 0\n",
    "contador = 0\n",
    "\n",
    "print('Programa iniciado. Digite \"999\" para encerrá-lo.')\n",
    "while valor != 999:\n",
    "    \n",
    "    valor = int(input('Insira um valor: '))\n",
    "    \n",
    "    if valor == 999:\n",
    "        break\n",
    "    \n",
    "    soma += valor\n",
    "    contador += 1\n",
    "    \n",
    "print(f'A soma dos {contador} valores mencionados equivale a {soma}.')"
   ]
  },
  {
   "cell_type": "code",
   "execution_count": 74,
   "id": "1bbe9340",
   "metadata": {},
   "outputs": [
    {
     "name": "stdout",
     "output_type": "stream",
     "text": [
      "Insira um valor: 5\n",
      "5 x 1 = 5\n",
      "5 x 2 = 10\n",
      "5 x 3 = 15\n",
      "5 x 4 = 20\n",
      "5 x 5 = 25\n",
      "5 x 6 = 30\n",
      "5 x 7 = 35\n",
      "5 x 8 = 40\n",
      "5 x 9 = 45\n",
      "5 x 10 = 50\n",
      "Insira um valor: 7\n",
      "7 x 1 = 7\n",
      "7 x 2 = 14\n",
      "7 x 3 = 21\n",
      "7 x 4 = 28\n",
      "7 x 5 = 35\n",
      "7 x 6 = 42\n",
      "7 x 7 = 49\n",
      "7 x 8 = 56\n",
      "7 x 9 = 63\n",
      "7 x 10 = 70\n",
      "Insira um valor: -1\n",
      "\n",
      "Programa encerrado.\n",
      "\n"
     ]
    }
   ],
   "source": [
    "# Ex 67: Tabuada v3.0\n",
    "\n",
    "valor = 0\n",
    "\n",
    "while True:\n",
    "\n",
    "    valor = int(input('Insira um valor: '))\n",
    "    \n",
    "    if valor < 0:\n",
    "        print('\\nPrograma encerrado.\\n')\n",
    "        break\n",
    "    \n",
    "    for n in range(1, 11):\n",
    "    \n",
    "        print(f'{valor} x {n} = {valor * n}')"
   ]
  },
  {
   "cell_type": "code",
   "execution_count": 82,
   "id": "47c4395a",
   "metadata": {},
   "outputs": [
    {
     "name": "stdout",
     "output_type": "stream",
     "text": [
      "\n",
      "Insira um valor: 5\n",
      "Par ou Ímpar? [P/I]: i\n",
      "Computador: 8 | Jogador: 5 | Soma: 13\n",
      "Jogador venceu.\n",
      "\n",
      "Insira um valor: 3\n",
      "Par ou Ímpar? [P/I]: p\n",
      "Computador: 8 | Jogador: 3 | Soma: 11\n",
      "Computador venceu.\n",
      "\n",
      "Insira um valor: -1\n",
      "\n",
      "Programa encerrado.\n",
      "\n"
     ]
    }
   ],
   "source": [
    "# Ex 68: Jogo do Par ou Ímpar\n",
    "\n",
    "from random import randint\n",
    "\n",
    "\n",
    "while True:\n",
    "    jogada_pc = randint(1, 10)\n",
    "    jogada_p1 = int(input('\\nInsira um valor: '))\n",
    "\n",
    "    if jogada_p1 < 0:\n",
    "        print('\\nPrograma encerrado.\\n')\n",
    "        break\n",
    "    \n",
    "    soma = jogada_p1 + jogada_pc\n",
    "\n",
    "    modo_de_jogo_p1 = str(input('Par ou Ímpar? [P/I]: '))\n",
    "\n",
    "    if (soma % 2 == 0 and modo_de_jogo_p1 in 'Pp') or (soma % 2 != 0 and modo_de_jogo_p1 in 'Ii'):\n",
    "\n",
    "        print(f'Computador: {jogada_pc} | Jogador: {jogada_p1} | Soma: {soma}')\n",
    "        print('Jogador venceu.')\n",
    "    else:\n",
    "        print(f'Computador: {jogada_pc} | Jogador: {jogada_p1} | Soma: {soma}')\n",
    "        print('Computador venceu.')\n",
    "\n"
   ]
  },
  {
   "cell_type": "code",
   "execution_count": 87,
   "id": "3ddebaf2",
   "metadata": {},
   "outputs": [
    {
     "name": "stdout",
     "output_type": "stream",
     "text": [
      "\n",
      "CADASTRO DE PESSOAS\n",
      "Nome: Ana Maria Brega\n",
      "Idade: 84\n",
      "Sexo [M/F]: f\n",
      "Quer continuar? [S/N]: s\n",
      "\n",
      "CADASTRO DE PESSOAS\n",
      "Nome: Sorvete Napolitano\n",
      "Idade: 102\n",
      "Sexo [M/F]: m\n",
      "Quer continuar? [S/N]: s\n",
      "\n",
      "CADASTRO DE PESSOAS\n",
      "Nome: Zé Colmeia\n",
      "Idade: 105\n",
      "Sexo [M/F]: m\n",
      "Quer continuar? [S/N]: n\n",
      "\n",
      "Programa encerrado.\n",
      "\n",
      "\n",
      "Média de idade: 291.0\n",
      "Homem mais velho: Zé Colmeia | Idade: 105\n",
      "Mulheres com menos de 20 anos de idade: 0\n"
     ]
    }
   ],
   "source": [
    "# Ex 69: Análise de dados do grupo\n",
    "# Obs: essa versão é com while True - ao infinito e além, imparável, indomável, incomparável\n",
    "soma_de_idade = maior_idade_homem = mulheres_menos_20 = 0\n",
    "nome_homem_mais_velho = ''\n",
    "\n",
    "contador = 1\n",
    "while True:\n",
    "    \n",
    "    print('\\nCADASTRO DE PESSOAS')\n",
    "    \n",
    "    nome = str(input('Nome: '))\n",
    "    idade = int(input('Idade: '))\n",
    "    sexo = str(input('Sexo [M/F]: '))\n",
    "    \n",
    "    if idade > maior_idade_homem and sexo in 'Mm': # in 'Mm' é uma maneira alternativa de validação\n",
    "        \n",
    "        maior_idade_homem = idade\n",
    "        nome_homem_mais_velho = nome\n",
    "        \n",
    "    if sexo in 'Ff' and idade < 20:\n",
    "        mulheres_menos_20 += 1\n",
    "        \n",
    "    soma_de_idade += idade\n",
    "          \n",
    "    resposta = str(input('Quer continuar? [S/N]: '))\n",
    "          \n",
    "    if resposta in 'Nn':\n",
    "        print('\\nPrograma encerrado.\\n')\n",
    "        break\n",
    "    \n",
    "media_de_idade = soma_de_idade / contador\n",
    "\n",
    "print(f'\\nMédia de idade: {media_de_idade}')\n",
    "print(f'Homem mais velho: {nome_homem_mais_velho} | Idade: {maior_idade_homem}')\n",
    "print(f'Mulheres com menos de 20 anos de idade: {mulheres_menos_20}')"
   ]
  },
  {
   "cell_type": "code",
   "execution_count": 16,
   "id": "29a170c7",
   "metadata": {},
   "outputs": [],
   "source": [
    "# Ex 70: Estatísticas em produtos\n",
    "\n",
    "produto = ''\n",
    "preco = 0\n",
    "menor_preco = 0\n",
    "\n",
    "total = 0\n",
    "produtos_acima_1000 = 0\n",
    "menor_produto = ''\n",
    "\n",
    "\n",
    "contador = 0\n",
    "while True:\n",
    "   \n",
    "    produto = str(input('Insira o nome do produto: '))\n",
    "    preco = float(input('Insira o preco: R$'))\n",
    "   \n",
    "    total += preco\n",
    "   \n",
    "    if preco > 1000:\n",
    "        produtos_acima_1000 += 1\n",
    "   \n",
    "    if contador == 0 or preco < menor_preco:\n",
    "       \n",
    "        menor_preco = preco\n",
    "        menor_produto = produto\n",
    "   \n",
    "    contador += 1\n",
    "   \n",
    "    resposta = str(input('Quer continuar? [S/N]: '))\n",
    "    if resposta in 'Nn':\n",
    "        print('\\nPrograma encerrado.\\n')\n",
    "        break\n",
    "\n",
    "print(f\"\"\"\n",
    "\n",
    "Total: R${total}\n",
    "{produtos_acima_1000} produto(s) acima de mil reais\n",
    "Produto mais barato: {menor_produto} | Preço: {menor_preco}\n",
    "\n",
    "\"\"\")"
   ]
  },
  {
   "cell_type": "code",
   "execution_count": null,
   "id": "e390c361",
   "metadata": {},
   "outputs": [],
   "source": [
    "# Ex 71: Simulador de Caixa Eletrônico\n",
    "# Obs: Cédulas disponíveis: 50, 10 e 1\n",
    "# Obs: Existem códigos com lógica mais simples do que esta\n",
    "valor_saque = int(input('Valor do saque: '))\n",
    "\n",
    "n50 = 0\n",
    "n10 = 0\n",
    "n1 = 0\n",
    "while valor_saque > 0:\n",
    "   \n",
    "    if valor_saque % 50 == 0:\n",
    "        n50 += 1\n",
    "        valor_saque -= 50\n",
    "    elif valor_saque % 10 == 0:\n",
    "        n10 += 1\n",
    "        valor_saque -= 10\n",
    "    else:\n",
    "        n1 += 1\n",
    "        valor_saque -= 1\n",
    "\n",
    "print(\"\"\"\n",
    "{:.2f} notas de 50\n",
    "{:.2f} notas de 10\n",
    "{:.2f} notas de 1\n",
    "\"\"\".format(n50, n10, n1)\n",
    ")"
   ]
  },
  {
   "cell_type": "code",
   "execution_count": 88,
   "id": "e162ee50",
   "metadata": {},
   "outputs": [
    {
     "name": "stdout",
     "output_type": "stream",
     "text": [
      "Insira um valor entre 0 e 20: 22\n",
      "Valor inválido. Tente novamente!\n",
      "Insira um valor entre 0 e 20: 442\n",
      "Valor inválido. Tente novamente!\n",
      "Insira um valor entre 0 e 20: 15\n",
      "Você digitou o número Quinze\n"
     ]
    }
   ],
   "source": [
    "# Ex 72: Número por Extenso\n",
    "# Obs: escrever o número digitado por extenso\n",
    "valor = 0\n",
    "tupla = ('Zero', 'Um', 'Dois', 'Três', 'Quatro', 'Cinco', 'Seis', 'Sete', 'Oito', 'Nove', 'Dez', 'Onze', 'Doze', 'Treze', 'Quatorze', 'Quinze', 'Dezesseis', 'Dezessete', 'Dezoito', 'Dezenove', 'Vinte')\n",
    "\n",
    "while True:\n",
    "   \n",
    "    valor = int(input('Insira um valor entre 0 e 20: '))\n",
    "   \n",
    "    if 0 <= valor <= 20:\n",
    "        print(f'Você digitou o número {tupla[valor]}')\n",
    "        break\n",
    "   \n",
    "    print('Valor inválido. Tente novamente!')"
   ]
  },
  {
   "cell_type": "code",
   "execution_count": 95,
   "id": "56fb69ea",
   "metadata": {},
   "outputs": [
    {
     "name": "stdout",
     "output_type": "stream",
     "text": [
      "\n",
      "\n",
      "Cinco primeiros: ('Corinthians', 'Palmeiras', 'Coritiba', 'Grêmio', 'Atlético-GO')\n",
      "\n",
      "Últimos quatro colocados: Atlético-GO\n",
      "\n",
      "Times em ordem alfabética: ['Atletico-PR', 'Atlético-GO', 'Avaí', 'Chapecoense', 'Corinthians', 'Coritiba', 'Grêmio', 'Palmeiras']\n",
      "\n",
      "Chapecoense está na 7º posição\n",
      "\n",
      "\n"
     ]
    }
   ],
   "source": [
    "# Ex 73: Tuplas com Times de Futebol\n",
    "# Mostrar:\n",
    "# a) Os 5 primeiros times.\n",
    "# b) Os últimos 4 colocados.\n",
    "# c) Times em ordem alfabética.\n",
    "# d) Em que posição está o time da Chapecoense.\n",
    "\n",
    "# Tupla criada manualmente\n",
    "times = ('Corinthians', 'Palmeiras', 'Coritiba', 'Grêmio', 'Atlético-GO', 'Atletico-PR', 'Avaí', 'Chapecoense')\n",
    "\n",
    "print(f\"\"\"\n",
    "\n",
    "Cinco primeiros: {times[:5]}\n",
    "\n",
    "Últimos quatro colocados: {times[-4]}\n",
    "\n",
    "Times em ordem alfabética: {sorted(times)}\n",
    "\n",
    "Chapecoense está na {times.index(\"Chapecoense\")}º posição\n",
    "\n",
    "\"\"\")"
   ]
  },
  {
   "cell_type": "code",
   "execution_count": 102,
   "id": "dc309980",
   "metadata": {},
   "outputs": [
    {
     "name": "stdout",
     "output_type": "stream",
     "text": [
      "\n",
      "Tupla: (8, 7, 7, 9, 5)\n",
      "Maior valor: 9\n",
      "Menor valor: 5\n",
      "\n"
     ]
    }
   ],
   "source": [
    "# Ex 74: Maior e menor valores em Tupla\n",
    "\n",
    "from random import randint\n",
    "\n",
    "tupla = (randint(1, 10), randint(1, 10), randint(1, 10), randint(1, 10), randint(1, 10))\n",
    "    \n",
    "print(f\"\"\"\n",
    "Tupla: {tupla}\n",
    "Maior valor: {max(tupla)}\n",
    "Menor valor: {min(tupla)}\n",
    "\"\"\")"
   ]
  },
  {
   "cell_type": "code",
   "execution_count": 105,
   "id": "2616f98a",
   "metadata": {},
   "outputs": [
    {
     "name": "stdout",
     "output_type": "stream",
     "text": [
      "Insira um valor: 5\n",
      "Insira um valor: 4\n",
      "Insira um valor: 3\n",
      "Insira um valor: 2\n",
      "Insira um valor: 9\n",
      "\n",
      "Vezes em que o número 9 apareceu: 1\n",
      "O valor três apareceu na 2 posicao\n",
      "Valores pares: [4, 2]\n",
      "\n"
     ]
    }
   ],
   "source": [
    "# Ex 75: Análise de dados em uma Tupla\n",
    "# Mostrar:\n",
    "# Quantas vezes o número 9 apareceu\n",
    "# Quantas vezes o número 3 apareceu\n",
    "# Valores pares digitados\n",
    "\n",
    "valor = []\n",
    "for v in range(5):\n",
    "    resposta = int(input('Insira um valor: '))\n",
    "    valor.append(resposta)\n",
    "\n",
    "valor = tuple(valor)\n",
    "\n",
    "posicao_num_3 = f'na {valor.index(3)} posicao' if 3 in valor else 'nenhuma posição'\n",
    "\n",
    "pares = []\n",
    "for v in valor:\n",
    "    if v % 2 == 0:\n",
    "        pares.append(v)\n",
    "\n",
    "print(f\"\"\"\n",
    "Vezes em que o número 9 apareceu: {valor.count(9)}\n",
    "O valor três apareceu {posicao_num_3}\n",
    "Valores pares: {pares}\n",
    "\"\"\")"
   ]
  },
  {
   "cell_type": "code",
   "execution_count": 121,
   "id": "1e73209e",
   "metadata": {},
   "outputs": [
    {
     "name": "stdout",
     "output_type": "stream",
     "text": [
      "Listagem de preços\n",
      "Lápis......................... R$ 2.5\n",
      "Borracha...................... R$ 4.0\n",
      "Borracha Hello Kitty.......... R$ 6.5\n",
      "Caderno....................... R$ 15.0\n",
      "Mochila....................... R$ 70.0\n",
      "Lapiseira 0.7................. R$ 19.0\n",
      "Grafite 0.7................... R$ 5.9\n",
      "Cola.......................... R$ 4.9\n",
      "Corretivo..................... R$ 3.5\n",
      "Caneta........................ R$ 2.5\n"
     ]
    }
   ],
   "source": [
    "# Ex 76: Lista de Preços com Tupla\n",
    "\n",
    "tupla = (\n",
    "    'Lápis', 2.50,\n",
    "    'Borracha', 4.00,\n",
    "    'Borracha Hello Kitty', 6.50,\n",
    "    'Caderno', 15.00,\n",
    "    'Mochila', 70.00,\n",
    "    'Lapiseira 0.7', 19.00, \n",
    "    'Grafite 0.7', 5.90,\n",
    "    'Cola', 4.90,\n",
    "    'Corretivo', 3.50,\n",
    "    'Caneta', 2.50\n",
    ")\n",
    "\n",
    "print('Listagem de preços')\n",
    "\n",
    "linha = ''\n",
    "for v in tupla:\n",
    "    \n",
    "    if tupla.index(v) % 2 == 0:\n",
    "        print(f'{v}' + '.'*(30 - len(v)), end=' R$ ')\n",
    "    else:\n",
    "        print(v, end='\\n')"
   ]
  },
  {
   "cell_type": "code",
   "execution_count": 136,
   "id": "51a335ee",
   "metadata": {},
   "outputs": [
    {
     "name": "stdout",
     "output_type": "stream",
     "text": [
      "A palavra APRENDER tem e a \n",
      "A palavra PROGRAMAR tem o a \n",
      "A palavra LINGUAGEM tem u i e a \n",
      "A palavra PYTHON tem o \n",
      "A palavra CURSO tem u o \n",
      "A palavra GRATIS tem i a \n",
      "A palavra ESTUDAR tem u e a \n",
      "A palavra PRATICAR tem i a \n",
      "A palavra TRABALHAR tem a \n",
      "A palavra MERCADO tem o e a \n",
      "A palavra PROGRAMADOR tem o a \n",
      "A palavra FUTURO tem u o \n"
     ]
    }
   ],
   "source": [
    "# Ex 77: Contando vogais em Tupla\n",
    "\n",
    "tupla = (\n",
    "    'APRENDER',\n",
    "    'PROGRAMAR',\n",
    "    'LINGUAGEM',\n",
    "    'PYTHON',\n",
    "    'CURSO',\n",
    "    'GRATIS',\n",
    "    'ESTUDAR',\n",
    "    'PRATICAR',\n",
    "    'TRABALHAR',\n",
    "    'MERCADO',\n",
    "    'PROGRAMADOR',\n",
    "    'FUTURO'\n",
    ")\n",
    "\n",
    "vogais = ''\n",
    "for palavra in tupla:\n",
    "    \n",
    "    palavra = palavra.strip().lower()\n",
    "    \n",
    "    if 'a' in palavra: # 'a' in palavra:\n",
    "        vogais = ' '.join(['a', vogais])\n",
    "    if 'e' in palavra:\n",
    "        vogais = ' '.join(['e', vogais])\n",
    "    if 'i' in palavra:\n",
    "        vogais = ' '.join(['i', vogais])\n",
    "    if 'o' in palavra:\n",
    "        vogais = ' '.join(['o', vogais])\n",
    "    if 'u' in palavra:\n",
    "        vogais = ' '.join(['u', vogais])\n",
    "        \n",
    "    print(f'A palavra {palavra.upper()} tem {vogais}')\n",
    "    vogais = ''"
   ]
  },
  {
   "cell_type": "code",
   "execution_count": 150,
   "id": "bc27e256",
   "metadata": {},
   "outputs": [
    {
     "name": "stdout",
     "output_type": "stream",
     "text": [
      "Insira um valor: 6\n",
      "Insira um valor: 3\n",
      "Insira um valor: 7\n",
      "Insira um valor: 7\n",
      "Insira um valor: 2\n",
      "\n",
      "\n",
      "Maior valor: 7, nas posições [3, 4]\n",
      "Menor valor: 2, nas posições [5]\n",
      "Valor \n",
      "\n",
      "\n"
     ]
    }
   ],
   "source": [
    "# Ex 78: Maior e Menor valores na Lista\n",
    "# Obs: fiz com mais listas para praticar manipulação de listas\n",
    "lista = []\n",
    "for v in range(5):\n",
    "    \n",
    "    lista.append(input('Insira um valor: '))\n",
    "    \n",
    "posicoes_maior = []\n",
    "posicoes_menor = []\n",
    "\n",
    "for v in range( len(lista) ):\n",
    "    \n",
    "    if lista[v] == max(lista):\n",
    "        posicoes_maior.append(v + 1)\n",
    "        \n",
    "    if lista[v] == min(lista):\n",
    "        posicoes_menor.append(v + 1)\n",
    "        \n",
    "    \n",
    "print(f\"\"\"\n",
    "\n",
    "Maior valor: {max(lista)}, nas posições {posicoes_maior}\n",
    "Menor valor: {min(lista)}, nas posições {posicoes_menor}\n",
    "Valor \n",
    "\n",
    "\"\"\")\n",
    "    "
   ]
  },
  {
   "cell_type": "code",
   "execution_count": 157,
   "id": "e3fa240c",
   "metadata": {},
   "outputs": [
    {
     "name": "stdout",
     "output_type": "stream",
     "text": [
      "Insira um valor: 5\n",
      "Deseja continuar? [S/N]: s\n",
      "Insira um valor: 2\n",
      "Deseja continuar? [S/N]: s\n",
      "Insira um valor: 5\n",
      "Número repetido.\n",
      "Deseja continuar? [S/N]: s\n",
      "Insira um valor: 7\n",
      "Deseja continuar? [S/N]: s\n",
      "Insira um valor: 8\n",
      "Deseja continuar? [S/N]: s\n",
      "Insira um valor: 8\n",
      "Número repetido.\n",
      "Deseja continuar? [S/N]: n\n",
      "\n",
      "Programa finalizado.\n",
      "\n",
      "Lista gerada: ['5', '2', '7', '8']\n"
     ]
    }
   ],
   "source": [
    "# Ex 79: Valores únicos em uma Lista\n",
    "# Impedir inserção de valores duplicados na lista\n",
    "# Testando novas maneiras de código\n",
    "\n",
    "lista = []\n",
    "while True:\n",
    "    \n",
    "    resposta = int(input('Insira um valor: '))\n",
    "    lista.append(resposta) if resposta not in lista else print('Número repetido.') \n",
    "    \n",
    "    \n",
    "    if str(input('Deseja continuar? [S/N]: ')) in 'Nn':  # Com if ternário não funcionou\n",
    "        print('\\nPrograma finalizado.\\n')\n",
    "        print(f'Lista gerada: {lista}')\n",
    "        break    "
   ]
  },
  {
   "cell_type": "code",
   "execution_count": 163,
   "id": "1cbc94c5",
   "metadata": {},
   "outputs": [
    {
     "name": "stdout",
     "output_type": "stream",
     "text": [
      "Insira um valor: 5\n",
      "Deseja continuar? [S/N]: s\n",
      "Insira um valor: 2\n",
      "Deseja continuar? [S/N]: s\n",
      "Insira um valor: 7\n",
      "Deseja continuar? [S/N]: s\n",
      "Insira um valor: 7\n",
      "Número repetido.\n",
      "Deseja continuar? [S/N]: n\n",
      "\n",
      "Programa finalizado.\n",
      "\n",
      "Lista gerada: [2, 5, 7]\n"
     ]
    }
   ],
   "source": [
    "# Ex 80: Lista ordenada sem repetições\n",
    "# Mesma coisa que o exercício anterior, mas com lista ordenada\n",
    "\n",
    "lista = []\n",
    "while True:\n",
    "    \n",
    "    resposta = int(input('Insira um valor: '))\n",
    "    lista.append(resposta) if resposta not in lista else print('Número repetido.') \n",
    "    \n",
    "    \n",
    "    if str(input('Deseja continuar? [S/N]: ')) in 'Nn':  # Com if ternário não funcionou\n",
    "        print('\\nPrograma finalizado.\\n')\n",
    "        \n",
    "        lista.sort()\n",
    "        print(f'Lista gerada: {lista}')\n",
    "        break "
   ]
  },
  {
   "cell_type": "code",
   "execution_count": 165,
   "id": "7cbdfc99",
   "metadata": {},
   "outputs": [
    {
     "name": "stdout",
     "output_type": "stream",
     "text": [
      "Insira um valor: 6\n",
      "Deseja continuar? [S/N]: s\n",
      "Insira um valor: 2\n",
      "Deseja continuar? [S/N]: s\n",
      "Insira um valor: 5\n",
      "Deseja continuar? [S/N]: s\n",
      "Insira um valor: 9\n",
      "Deseja continuar? [S/N]: s\n",
      "Insira um valor: 2\n",
      "Número repetido.\n",
      "Deseja continuar? [S/N]: n\n",
      "\n",
      "Programa finalizado.\n",
      "\n",
      "\n",
      "            Lista gerada: [9, 6, 5, 2]\n",
      "            Quantidade de elementos: 4\n",
      "            Número 5 está na lista.\n",
      "        \n"
     ]
    }
   ],
   "source": [
    "# Ex 81: Extraindo dados de uma Lista\n",
    "# Total de elementos na lista\n",
    "# Mostrar lista em ordem decrescente\n",
    "# Verificar se o número 5 faz parte da lista\n",
    "\n",
    "\n",
    "lista = []\n",
    "while True:\n",
    "    \n",
    "    resposta = int(input('Insira um valor: '))\n",
    "    lista.append(resposta) if resposta not in lista else print('Número repetido.') \n",
    "    \n",
    "    \n",
    "    if str(input('Deseja continuar? [S/N]: ')) in 'Nn':  # Com if ternário não funcionou\n",
    "        print('\\nPrograma finalizado.\\n')\n",
    "        \n",
    "        lista.sort(reverse=True)\n",
    "        print(f\"\"\"\n",
    "            Lista gerada: {lista}\n",
    "            Quantidade de elementos: {len(lista)}\n",
    "            {'Número 5 está na lista.' if 5 in lista else 'Número 5 não está na lista.'}\n",
    "        \"\"\")\n",
    "        break\n",
    "    "
   ]
  },
  {
   "cell_type": "code",
   "execution_count": 170,
   "id": "6b4af123",
   "metadata": {},
   "outputs": [
    {
     "name": "stdout",
     "output_type": "stream",
     "text": [
      "Insira um valor: 2\n",
      "Deseja continuar? [S/N]: s\n",
      "Insira um valor: 7\n",
      "Deseja continuar? [S/N]: s\n",
      "Insira um valor: 5\n",
      "Deseja continuar? [S/N]: s\n",
      "Insira um valor: 1\n",
      "Deseja continuar? [S/N]: s\n",
      "Insira um valor: 8\n",
      "Deseja continuar? [S/N]: n\n",
      "\n",
      "Programa finalizado.\n",
      "\n",
      "\n",
      "            Lista gerada: [8, 7, 5, 2, 1]\n",
      "            Lista de pares:   [2, 8]\n",
      "            Lista de ímpares: [7, 5, 1]\n",
      "            \n"
     ]
    }
   ],
   "source": [
    "# Ex 82: Dividindo valores em várias listas\n",
    "# Dividir uma lista de números entre pares e ímpares\n",
    "\n",
    "lista = []\n",
    "lista_pares = []\n",
    "lista_impares = []\n",
    "while True:\n",
    "    \n",
    "    resposta = int(input('Insira um valor: '))\n",
    "\n",
    "    lista.append(resposta)\n",
    "    lista_pares.append(resposta) if resposta % 2 == 0 else lista_impares.append(resposta)\n",
    "    \n",
    "    if str(input('Deseja continuar? [S/N]: ')) in 'Nn':  # Com if ternário não funcionou\n",
    "        print('\\nPrograma finalizado.\\n')\n",
    "        \n",
    "        lista.sort(reverse=True)\n",
    "        print(f\"\"\"\n",
    "            Lista gerada: {lista}\n",
    "            Lista de pares:   {lista_pares}\n",
    "            Lista de ímpares: {lista_impares}\n",
    "            \"\"\")\n",
    "        break\n"
   ]
  },
  {
   "cell_type": "code",
   "execution_count": 175,
   "id": "77413024",
   "metadata": {},
   "outputs": [
    {
     "name": "stdout",
     "output_type": "stream",
     "text": [
      "Insira a expressão: (¨%)))\n",
      "Expressão correta.\n",
      "Deseja continuar? [S/N]: s\n",
      "Insira a expressão: ()\n",
      "Expressão correta.\n",
      "Deseja continuar? [S/N]: s\n",
      "Insira a expressão: abc+((1/2) * 4 / (40/2*(2-6(5/8))))\n",
      "Expressão correta.\n",
      "Deseja continuar? [S/N]: n\n",
      "\n",
      "Programa finalizado.\n",
      "\n"
     ]
    }
   ],
   "source": [
    "# Ex 83: Validando expressões matemáticas\n",
    "# Analisando se as expressões estão com parenteses posicionados corretamente\n",
    "# Era pra usar listas, mas usei strings. \"Simples é melhor do que complexo.\"\n",
    "\n",
    "contador_esquerdo = 0\n",
    "contador_direito = 0\n",
    "while True:\n",
    "    \n",
    "    exp = str(input('Insira a expressão: '))\n",
    "    \n",
    "    exp.count('(')\n",
    "    exp.count(')')\n",
    "    \n",
    "    if contador_direito == contador_esquerdo:\n",
    "        print('Expressão correta.')\n",
    "    else:\n",
    "        print('Expressão incorreta.')\n",
    "    \n",
    "    if str(input('Deseja continuar? [S/N]: ')) in 'Nn':\n",
    "        print('\\nPrograma finalizado.\\n')\n",
    "        break"
   ]
  },
  {
   "cell_type": "code",
   "execution_count": 240,
   "id": "8cd8d875",
   "metadata": {},
   "outputs": [
    {
     "name": "stdout",
     "output_type": "stream",
     "text": [
      "Nome: Ana Maria Brega\n",
      "Peso: 45\n",
      "Nome: He-man\n",
      "Peso: 230\n",
      "Nome: She-HAH Jokes\n",
      "Peso: 19\n",
      "Nome: Mega Zord\n",
      "Peso: 200000000000\n",
      "Deseja continuar? [S/N]: s\n",
      "Nome: Megatron\n",
      "Peso: 3000000000000\n",
      "Deseja continuar? [S/N]: n\n",
      "\n",
      "Programa finalizado.\n",
      "\n",
      "\n",
      "\n",
      "Lista: [(19.0, 'She-HAH Jokes'), (45.0, 'Ana Maria Brega'), (230.0, 'He-man'), (200000000000.0, 'Mega Zord'), (3000000000000.0, 'Megatron')]\n",
      "\n",
      "Pessoas cadastradas: 5\n",
      "2 pessoas mais pesadas: [(200000000000.0, 'Mega Zord'), (3000000000000.0, 'Megatron')]\n",
      "2 pessoas mais leves:   [(45.0, 'Ana Maria Brega'), (19.0, 'She-HAH Jokes')]\n",
      "\n"
     ]
    }
   ],
   "source": [
    "# Ex 84: Lista composta e análise de dados\n",
    "# Mostrar:\n",
    "# Quantas pessoas foram cadastradas\n",
    "# Uma listagem com as pessoas mais pesadas\n",
    "# Uma listagem com as pessoas mais leves\n",
    "\n",
    "# Obs: é possível passar os inputs diretamente na criação de listas\n",
    "# mas por razões de organização, utilizei variáveis\n",
    "\n",
    "# Obs II: Novamente, \"simples é melhor do que complexo.\"\n",
    "lista = []\n",
    "\n",
    "contador = 0\n",
    "while True:\n",
    "    \n",
    "    nome = str(input('Nome: '))\n",
    "    peso = float(input('Peso: '))\n",
    "    \n",
    "    lista.append( (peso, nome) )\n",
    "    \n",
    "    contador += 1\n",
    "    if contador >= 4 and str(input('Deseja continuar? [S/N]: ')) in 'Nn':\n",
    "        print('\\nPrograma finalizado.\\n')\n",
    "        break\n",
    "        \n",
    "        \n",
    "lista.sort()\n",
    "print(f\"\"\"\n",
    "\n",
    "Lista: {lista}\n",
    "\n",
    "Pessoas cadastradas: {len(lista)}\n",
    "2 pessoas mais pesadas: {lista[-2:]}\n",
    "2 pessoas mais leves:   {lista[1::-1]}\n",
    "\"\"\")"
   ]
  },
  {
   "cell_type": "code",
   "execution_count": 242,
   "id": "8b675ecf",
   "metadata": {},
   "outputs": [
    {
     "name": "stdout",
     "output_type": "stream",
     "text": [
      "Insira um valor: 1\n",
      "Insira um valor: 2\n",
      "Insira um valor: 3\n",
      "Insira um valor: 4\n",
      "Insira um valor: 5\n",
      "\n",
      "Lista com números pares:   [2, 4]\n",
      "Lista com números ímpares: [1, 3, 5]\n",
      "\n"
     ]
    }
   ],
   "source": [
    "# Ex 85: Listas com pares e ímpares\n",
    "# Criar listas com pares e ímpares\n",
    "\n",
    "lista_pares = []\n",
    "lista_impares = []\n",
    "\n",
    "for v in range(5):\n",
    "    \n",
    "    num = int(input('Insira um valor: '))\n",
    "    \n",
    "    lista_pares.append(num) if num % 2 == 0 else lista_impares.append(num)\n",
    "\n",
    "print(f\"\"\"\n",
    "Lista com números pares:   {lista_pares}\n",
    "Lista com números ímpares: {lista_impares}\n",
    "\"\"\")"
   ]
  },
  {
   "cell_type": "code",
   "execution_count": 250,
   "id": "21b794cf",
   "metadata": {},
   "outputs": [
    {
     "name": "stdout",
     "output_type": "stream",
     "text": [
      "Valor para a posição [0, 0]: 1\n",
      "Valor para a posição [0, 1]: 2\n",
      "Valor para a posição [0, 2]: 3\n",
      "Valor para a posição [1, 0]: 4\n",
      "Valor para a posição [1, 1]: 5\n",
      "Valor para a posição [1, 2]: 6\n",
      "Valor para a posição [2, 0]: 7\n",
      "Valor para a posição [2, 1]: 8\n",
      "Valor para a posição [2, 2]: 9\n",
      "\n",
      "\n",
      "Matriz gerada: [[1, 2, 3], [4, 5, 6], [7, 8, 9]]\n",
      "\n",
      "Matriz formatada:[1, 2, 3]\n",
      "                 [4, 5, 6]\n",
      "                 [7, 8, 9]\n",
      "\n",
      "\n"
     ]
    }
   ],
   "source": [
    "# Ex 86: Matriz em Python\n",
    "# Obs: Criar matriz 3x3\n",
    "# Obs II: Criei dessa forma para que a lista seja gerada e não ter valores substituídos\n",
    "matriz = []\n",
    "\n",
    "for num_linha in range(3):\n",
    "    \n",
    "    linha = []\n",
    "    \n",
    "    for num_coluna in range(3):\n",
    "        \n",
    "        linha.append( int(input(f'Valor para a posição [{num_linha}, {num_coluna}]: ')) )\n",
    "        \n",
    "    matriz.append( linha )\n",
    "        \n",
    "print(f\"\"\"\n",
    "\n",
    "Matriz gerada: {matriz}\n",
    "\n",
    "Matriz formatada:{matriz[0]}\n",
    "                 {matriz[1]}\n",
    "                 {matriz[2]}\n",
    "\n",
    "\"\"\")"
   ]
  },
  {
   "cell_type": "code",
   "execution_count": 255,
   "id": "d35423bb",
   "metadata": {},
   "outputs": [
    {
     "name": "stdout",
     "output_type": "stream",
     "text": [
      "Valor para a posição [0, 0]: 1\n",
      "Valor para a posição [0, 1]: 2\n",
      "Valor para a posição [0, 2]: 3\n",
      "Valor para a posição [1, 0]: 4\n",
      "Valor para a posição [1, 1]: 5\n",
      "Valor para a posição [1, 2]: 6\n",
      "Valor para a posição [2, 0]: 7\n",
      "Valor para a posição [2, 1]: 8\n",
      "Valor para a posição [2, 2]: 9\n",
      "\n",
      "\n",
      "Matriz formatada:[1, 2, 3]\n",
      "                 [4, 5, 6]\n",
      "                 [7, 8, 9]\n",
      "\n",
      "Soma dos pares: 0\n",
      "Soma da terceira coluna: 18\n",
      "Maior valor da segunda linha: 6\n",
      "\n",
      "\n"
     ]
    }
   ],
   "source": [
    "# Ex 87: Mais sobre Matriz em Python\n",
    "# Melhorar exercício anterior\n",
    "# Mostrar:\n",
    "# Soma de todos os valores pares digitados\n",
    "# Soma dos valores da terceira coluna\n",
    "# Maior valor da segunda linha\n",
    "\n",
    "matriz = []\n",
    "\n",
    "for num_linha in range(3):\n",
    "    \n",
    "    linha = []\n",
    "    \n",
    "    for num_coluna in range(3):\n",
    "        \n",
    "        linha.append( int(input(f'Valor para a posição [{num_linha}, {num_coluna}]: ')) )\n",
    "        \n",
    "    matriz.append( linha )\n",
    "\n",
    "\n",
    "    \n",
    "# usando if ternário com list comprehension para testar e praticar conhecimentos\n",
    "print(f\"\"\"\n",
    "\n",
    "Matriz formatada:{matriz[0]}\n",
    "                 {matriz[1]}\n",
    "                 {matriz[2]}\n",
    "\n",
    "Soma dos pares: {sum( [v if v % 2 == 0 in ( v for v in ( l for l in matriz)   ) else 0 ] )}\n",
    "Soma da terceira coluna: {sum([ linha[2] for linha in matriz])}\n",
    "Maior valor da segunda linha: {max(matriz[1])}\n",
    "\n",
    "\"\"\")\n"
   ]
  },
  {
   "cell_type": "code",
   "execution_count": 1,
   "id": "c8b1bab2",
   "metadata": {},
   "outputs": [
    {
     "name": "stdout",
     "output_type": "stream",
     "text": [
      "Quantos jogos você quer sortear? 7\n",
      "Jogo 1: [3, 7, 14, 31, 42, 45]\n",
      "Jogo 2: [15, 16, 25, 27, 30, 38]\n",
      "Jogo 3: [6, 12, 24, 30, 36, 51]\n",
      "Jogo 4: [10, 24, 27, 34, 40, 42]\n",
      "Jogo 5: [7, 25, 28, 39, 42, 53]\n",
      "Jogo 6: [20, 25, 36, 40, 41, 59]\n",
      "Jogo 7: [12, 19, 29, 30, 45, 56]\n"
     ]
    }
   ],
   "source": [
    "# Ex 88: Palpites para a Mega Sena\n",
    "# Montar quantos jogos forem solicitados, todos com seis números aleatórios\n",
    "# Mostrar o número do jogo\n",
    "# Nenhum dos jogos pode ter números repetidos\n",
    "# Valores devem ser mostrados em ordem crescente\n",
    "\n",
    "from random import randint\n",
    "from time import sleep\n",
    "\n",
    "jogos = int(input('Quantos jogos você quer sortear? '))\n",
    "\n",
    "for v in range(jogos):\n",
    "   \n",
    "    lista = []\n",
    "   \n",
    "    contador = 1\n",
    "    while contador <= 6:\n",
    "       \n",
    "        num = randint(1, 60)\n",
    "       \n",
    "        if num not in lista:\n",
    "            lista.append( num )\n",
    "           \n",
    "            contador += 1\n",
    "       \n",
    "    lista.sort()\n",
    "    print(f'Jogo {v + 1}: {lista}')\n",
    "    sleep(1)\n",
    "\n"
   ]
  },
  {
   "cell_type": "code",
   "execution_count": 3,
   "id": "4f7888ea",
   "metadata": {},
   "outputs": [
    {
     "name": "stdout",
     "output_type": "stream",
     "text": [
      "\n",
      "1º CADASTRO\n",
      "Insira o nome: Ana Maria Brega\n",
      "Insira a nota 1: 2\n",
      "Insira a nota 2: 3\n",
      "Deseja continuar? [S/N]: s\n",
      "\n",
      "2º CADASTRO\n",
      "Insira o nome: He-man\n",
      "Insira a nota 1: 6\n",
      "Insira a nota 2: 7\n",
      "Deseja continuar? [S/N]: s\n",
      "\n",
      "3º CADASTRO\n",
      "Insira o nome: She-HAH\n",
      "Insira a nota 1: 7\n",
      "Insira a nota 2: 6\n",
      "Deseja continuar? [S/N]: s\n",
      "\n",
      "4º CADASTRO\n",
      "Insira o nome: Leonardo, The Ninja Turtle\n",
      "Insira a nota 1: 8\n",
      "Insira a nota 2: 9\n",
      "Deseja continuar? [S/N]: n\n",
      "\n",
      "Inserção de dados finalizada.\n",
      "\n",
      "No. NOME    MÉDIA\n",
      "0   Ana Maria Brega    2.5\n",
      "1   He-man    6.5\n",
      "2   She-HAH    6.5\n",
      "3   Leonardo, The Ninja Turtle    8.5\n",
      "Qual cadastro você deseja visualizar? 4\n",
      "\n",
      "   \n",
      "    Cadastro nº 4\n",
      "   \n",
      "    Nome: Leonardo, The Ninja Turtle\n",
      "   \n",
      "    Nota 1: 8\n",
      "    Nota 2: 9\n",
      "   \n",
      "    \n",
      "Deseja continuar? [S/N]: s\n",
      "Qual cadastro você deseja visualizar? 2\n",
      "\n",
      "   \n",
      "    Cadastro nº 2\n",
      "   \n",
      "    Nome: He-man\n",
      "   \n",
      "    Nota 1: 6\n",
      "    Nota 2: 7\n",
      "   \n",
      "    \n",
      "Deseja continuar? [S/N]: n\n",
      "\n",
      "Programa finalizado.\n",
      "\n"
     ]
    }
   ],
   "source": [
    "# Ex 89: Boletim com listas compostas\n",
    "\n",
    "lista = []\n",
    "contador = 0\n",
    "\n",
    "while True:\n",
    "   \n",
    "    contador += 1\n",
    "   \n",
    "    print(f'\\n{contador}º CADASTRO')\n",
    "   \n",
    "    nome = str(input('Insira o nome: '))\n",
    "    nota_1 = int(input('Insira a nota 1: '))\n",
    "    nota_2 = int(input('Insira a nota 2: '))\n",
    "   \n",
    "    lista.append( [nome, nota_1, nota_2] )\n",
    "   \n",
    "    if str(input('Deseja continuar? [S/N]: ')) in 'Nn':\n",
    "        print('\\nInserção de dados finalizada.\\n')\n",
    "        break\n",
    "   \n",
    "print('No. NOME    MÉDIA')\n",
    "\n",
    "for item in lista:\n",
    "   \n",
    "    print(f'{lista.index(item)}   {item[0]}    {(item[1] + item[2]) / 2 }')\n",
    "   \n",
    "   \n",
    "while True:\n",
    "   \n",
    "    posicao = int(input('Qual cadastro você deseja visualizar? ')) - 1\n",
    "   \n",
    "    print(f\"\"\"\n",
    "   \n",
    "    Cadastro nº {posicao + 1}\n",
    "   \n",
    "    Nome: {lista[posicao][0]}\n",
    "   \n",
    "    Nota 1: {lista[posicao][1]}\n",
    "    Nota 2: {lista[posicao][2]}\n",
    "   \n",
    "    \"\"\")\n",
    "   \n",
    "    if str(input('Deseja continuar? [S/N]: ')) in 'Nn':\n",
    "        print('\\nPrograma finalizado.\\n')\n",
    "        break"
   ]
  },
  {
   "cell_type": "code",
   "execution_count": 4,
   "id": "040618e3",
   "metadata": {},
   "outputs": [
    {
     "name": "stdout",
     "output_type": "stream",
     "text": [
      "Insira o nome: Ana Maria Brega\n",
      "Nota 1: 6\n",
      "Nota 2: 1\n",
      "\n",
      "\n",
      "Nome:   Ana Maria Brega\n",
      "Media:  3.5\n",
      "Status: Reprovado\n",
      "\n",
      "\n"
     ]
    }
   ],
   "source": [
    "# Ex 90: Dicionário em Python\n",
    "# Obs: objetivo é usar dicionários praticar mostrando se o aluno foi aprovado\n",
    "\n",
    "lista = []\n",
    "\n",
    "nome = str(input('Insira o nome: '))\n",
    "nota_1 = int(input('Nota 1: '))\n",
    "nota_2 = int(input('Nota 2: '))\n",
    "\n",
    "media = (nota_1 + nota_2) / 2\n",
    "\n",
    "lista.append({'Nome' : nome, \n",
    "              'Nota 1': nota_1, \n",
    "              'Nota 2': nota_2, \n",
    "              'Media': media, \n",
    "              'Status': 'Aprovado' if media >= 7 else 'Reprovado'})\n",
    "\n",
    "print(f\"\"\"\n",
    "\n",
    "Nome:   {lista[0]['Nome']}\n",
    "Media:  {lista[0]['Media']}\n",
    "Status: {lista[0]['Status']}\n",
    "\n",
    "\"\"\")"
   ]
  },
  {
   "cell_type": "code",
   "execution_count": 88,
   "id": "5a2ff251",
   "metadata": {},
   "outputs": [
    {
     "name": "stdout",
     "output_type": "stream",
     "text": [
      "Jogador 1 tirou 2 nos dados\n",
      "Jogador 2 tirou 3 nos dados\n",
      "Jogador 3 tirou 6 nos dados\n",
      "Jogador 4 tirou 2 nos dados\n",
      "Jogador 5 tirou 4 nos dados\n",
      "-=-=-=-=-=-=-=-=-=-=-=-=-=-=-=-=-=-=-=-=\n",
      "RANKING\n",
      "1º posição: Jogador 3, com 6 pontos\n",
      "2º posição: Jogador 5, com 4 pontos\n",
      "3º posição: Jogador 2, com 3 pontos\n",
      "4º posição: Jogador 1, com 2 pontos\n",
      "5º posição: Jogador 4, com 2 pontos\n"
     ]
    },
    {
     "data": {
      "text/plain": [
       "[None, None, None, None, None]"
      ]
     },
     "execution_count": 88,
     "metadata": {},
     "output_type": "execute_result"
    }
   ],
   "source": [
    "# Ex 91: Jogo de Dados em Python\n",
    "# Obs: objetivo - fazer um dicionário contendo jogadores e números aleatórios\n",
    "# Mostrar ranking de jogadores, do valor mais alto ao mais baixo tirado no dado\n",
    "\n",
    "from random import randint\n",
    "from operator import itemgetter\n",
    "\n",
    "dicionario = {\n",
    "    '1': randint(1, 6),\n",
    "    '2': randint(1, 6),\n",
    "    '3': randint(1, 6),\n",
    "    '4': randint(1, 6),\n",
    "    '5': randint(1, 6)\n",
    "}\n",
    "\n",
    "for k, v in dicionario.items():\n",
    "    \n",
    "    print(f'Jogador {k} tirou {v} nos dados')\n",
    "    \n",
    "print('-='*20)\n",
    "\n",
    "dicionario = sorted( dicionario.items(), key = itemgetter(1), reverse=True )\n",
    "\n",
    "print('RANKING')\n",
    "\n",
    "\n",
    "[print(f'{i+1}º posição: Jogador {v[0]}, com {v[1]} pontos') for i, v in enumerate(dicionario)]"
   ]
  },
  {
   "cell_type": "code",
   "execution_count": 33,
   "id": "d40b5215",
   "metadata": {},
   "outputs": [
    {
     "name": "stdout",
     "output_type": "stream",
     "text": [
      "\n",
      "CADASTRO Nº 1\n",
      "\n",
      "Insira o nome: Ana Maria Brega\n",
      "Insira o ano de nascimento: 1976\n",
      "Insira a carteira de trabalho (0 não tem): 0\n",
      "Deseja continuar? [S/N]: s\n",
      "\n",
      "CADASTRO Nº 2\n",
      "\n",
      "Insira o nome: Juliete\n",
      "Insira o ano de nascimento: 1998\n",
      "Insira a carteira de trabalho (0 não tem): 0\n",
      "Deseja continuar? [S/N]: s\n",
      "\n",
      "CADASTRO Nº 3\n",
      "\n",
      "Insira o nome: Romeu\n",
      "Insira o ano de nascimento: 1580\n",
      "Insira a carteira de trabalho (0 não tem): 142\n",
      "Salário: R$678\n",
      "Ano de contratação: 1597\n",
      "Deseja continuar? [S/N]: s\n",
      "\n",
      "CADASTRO Nº 4\n",
      "\n",
      "Insira o nome: João Deu Certo\n",
      "Insira o ano de nascimento: 1989\n",
      "Insira a carteira de trabalho (0 não tem): 1524\n",
      "Salário: R$1231\n",
      "Ano de contratação: 2010\n",
      "Deseja continuar? [S/N]: n\n",
      "\n",
      "Cadastros finalizados.\n",
      "\n",
      "Qual número de cadastro você deseja visualizar? 4\n",
      "\n",
      "\n",
      "    VISUALIZAÇÃO - CADASTRO Nº 4\n",
      "\n",
      "    Nome:    João Deu Certo\n",
      "    Idade:   34\n",
      "    Ano de nascimento: 1989\n",
      "    \n",
      "    CTPS:    1524\n",
      "    Salário: 1231.0\n",
      "    Ano de contratação: 2010\n",
      "    \n",
      "    Aposentadoria: 465\n",
      "    \n",
      "    \n",
      "Deseja continuar? [S/N]: 2\n",
      "Qual número de cadastro você deseja visualizar? 2\n",
      "\n",
      "\n",
      "    VISUALIZAÇÃO - CADASTRO Nº 2\n",
      "\n",
      "    Nome:    Juliete\n",
      "    Idade:   25\n",
      "    Ano de nascimento: 1998\n",
      "    \n",
      "    CTPS:    Não tem\n",
      "    Salário: 0\n",
      "    Ano de contratação: 0\n",
      "    \n",
      "    Aposentadoria: 0\n",
      "    \n",
      "    \n",
      "Deseja continuar? [S/N]: s\n",
      "Qual número de cadastro você deseja visualizar? 3\n",
      "\n",
      "\n",
      "    VISUALIZAÇÃO - CADASTRO Nº 3\n",
      "\n",
      "    Nome:    Romeu\n",
      "    Idade:   443\n",
      "    Ano de nascimento: 1580\n",
      "    \n",
      "    CTPS:    142\n",
      "    Salário: 678.0\n",
      "    Ano de contratação: 1597\n",
      "    \n",
      "    Aposentadoria: -366\n",
      "    \n",
      "    \n",
      "Deseja continuar? [S/N]: n\n",
      "\n",
      "Programa finalizado.\n",
      "\n"
     ]
    }
   ],
   "source": [
    "# Ex 92: Cadastro de Trabalhador em Python\n",
    "\n",
    "from datetime import date as dt\n",
    "\n",
    "lista = []\n",
    "\n",
    "ano_atual = dt.today().year\n",
    "\n",
    "contador = 0\n",
    "\n",
    "while True:\n",
    "    \n",
    "    contador += 1\n",
    "    print(f'\\nCADASTRO Nº {contador}\\n')\n",
    "    \n",
    "    nome = str(input('Insira o nome: '))\n",
    "    ano_de_nascimento = int(input('Insira o ano de nascimento: '))\n",
    "    ctps = str(input('Insira a carteira de trabalho (0 não tem): '))\n",
    "    salario = 0\n",
    "    ano_contratacao = 0\n",
    "    calculo_aposentadoria = 0\n",
    "    \n",
    "    if ctps != '0':\n",
    "        \n",
    "        salario = float(input('Salário: R$'))\n",
    "        ano_contratacao = int(input('Ano de contratação: '))\n",
    "        calculo_aposentadoria = idade + ((ano_contratacao + 35) - ano_atual)\n",
    "    \n",
    "    idade = ano_atual - ano_de_nascimento\n",
    "    \n",
    "    \n",
    "    \n",
    "    dicionario = {'Nome': nome,\n",
    "                  'Ano de nascimento': ano_de_nascimento,\n",
    "                  'Idade': idade,\n",
    "                  'CTPS': ctps if ctps != '0' else 'Não tem',\n",
    "                  'Salario': salario,\n",
    "                  'Ano de contratacao': ano_contratacao,\n",
    "                  'Aposentadoria': calculo_aposentadoria\n",
    "    }\n",
    "    \n",
    "    \n",
    "    \n",
    "    lista.append( dicionario )\n",
    "    \n",
    "    if str(input('Deseja continuar? [S/N]: ')) in 'Nn':\n",
    "        print('\\nCadastros finalizados.\\n')\n",
    "        break\n",
    "\n",
    "while True:\n",
    "    \n",
    "    cadastro = int(input('Qual número de cadastro você deseja visualizar? ')) - 1\n",
    "    \n",
    "    \n",
    "\n",
    "    print(f\"\"\"\n",
    "\n",
    "    VISUALIZAÇÃO - CADASTRO Nº {cadastro + 1}\n",
    "\n",
    "    Nome:    {lista[cadastro]['Nome']}\n",
    "    Idade:   {lista[cadastro]['Idade']}\n",
    "    Ano de nascimento: {lista[cadastro]['Ano de nascimento']}\n",
    "    \n",
    "    CTPS:    {lista[cadastro]['CTPS']}\n",
    "    Salário: {lista[cadastro]['Salario']}\n",
    "    Ano de contratação: {lista[cadastro]['Ano de contratacao']}\n",
    "    \n",
    "    Aposentadoria: {lista[cadastro]['Aposentadoria']}\n",
    "    \n",
    "    \"\"\")\n",
    "    \n",
    "    if str(input('Deseja continuar? [S/N]: ')) in 'Nn':\n",
    "        print('\\nPrograma finalizado.\\n')\n",
    "        break\n",
    "        \n",
    "    "
   ]
  },
  {
   "cell_type": "code",
   "execution_count": 12,
   "id": "0ce47fd5",
   "metadata": {},
   "outputs": [
    {
     "name": "stdout",
     "output_type": "stream",
     "text": [
      "\n",
      "CADASTRO Nº 1\n",
      "\n",
      "Insira o nome: Pelé\n",
      "Pelé jogou 5 jogo(s).\n",
      "Gol(s) no 1º jogo: 3\n",
      "Gol(s) no 2º jogo: 2\n",
      "Gol(s) no 3º jogo: 1\n",
      "Gol(s) no 4º jogo: 1\n",
      "Gol(s) no 5º jogo: 2\n",
      "Deseja continuar? [S/N]: s\n",
      "\n",
      "CADASTRO Nº 2\n",
      "\n",
      "Insira o nome: Ronaldo\n",
      "Ronaldo jogou 1 jogo(s).\n",
      "Gol(s) no 1º jogo: 2\n",
      "Deseja continuar? [S/N]: s\n",
      "\n",
      "CADASTRO Nº 3\n",
      "\n",
      "Insira o nome: Felipe\n",
      "Felipe jogou 3 jogo(s).\n",
      "Gol(s) no 1º jogo: 4\n",
      "Gol(s) no 2º jogo: 0\n",
      "Gol(s) no 3º jogo: 0\n",
      "Deseja continuar? [S/N]: n\n",
      "\n",
      "Programa finalizado.\n",
      "\n",
      "Qual número de cadastro você deseja visualizar? 3\n",
      "\n",
      "\n",
      "    VISUALIZAÇÃO - CADASTRO Nº 3\n",
      "\n",
      "    Nome:          Felipe\n",
      "    Lista de gols: [4, 0, 0]\n",
      "    Total de gols: 4\n",
      "    \n",
      "    \n",
      "Deseja continuar? [S/N]: s\n",
      "Qual número de cadastro você deseja visualizar? 1\n",
      "\n",
      "\n",
      "    VISUALIZAÇÃO - CADASTRO Nº 1\n",
      "\n",
      "    Nome:          Pelé\n",
      "    Lista de gols: [3, 2, 1, 1, 2]\n",
      "    Total de gols: 9\n",
      "    \n",
      "    \n",
      "Deseja continuar? [S/N]: s\n",
      "Qual número de cadastro você deseja visualizar? 2\n",
      "\n",
      "\n",
      "    VISUALIZAÇÃO - CADASTRO Nº 2\n",
      "\n",
      "    Nome:          Ronaldo\n",
      "    Lista de gols: [2]\n",
      "    Total de gols: 2\n",
      "    \n",
      "    \n",
      "Deseja continuar? [S/N]: n\n",
      "\n",
      "Programa finalizado.\n",
      "\n"
     ]
    }
   ],
   "source": [
    "# Ex 93: Cadastro de Jogador de Futebol\n",
    "\n",
    "from random import randint\n",
    "\n",
    "lista = []\n",
    "\n",
    "contador = 0\n",
    "\n",
    "while True:\n",
    "    \n",
    "    contador += 1\n",
    "    print(f'\\nCADASTRO Nº {contador}\\n')\n",
    "    \n",
    "    nome = str(input('Insira o nome: '))\n",
    "    \n",
    "    gols = []\n",
    "    \n",
    "    jogos = randint(1, 5)\n",
    "    \n",
    "    print(f'{nome} jogou {jogos} jogo(s).')\n",
    "    \n",
    "    for jogo in range( jogos ):\n",
    "        \n",
    "        gols.append(  int(input(f'Gol(s) no {jogo+1}º jogo: '))  )\n",
    "        \n",
    "    dicionario = {'Nome': nome, 'Gols': gols, 'Total': sum(gols)}\n",
    "    \n",
    "    lista.append( dicionario )\n",
    "    \n",
    "    if str(input('Deseja continuar? [S/N]: ')) in 'Nn':\n",
    "        print('\\nPrograma finalizado.\\n')\n",
    "        break\n",
    "    \n",
    "\n",
    "while True:\n",
    "    \n",
    "    cadastro = int(input('Qual número de cadastro você deseja visualizar? ')) - 1\n",
    "\n",
    "    print(f\"\"\"\n",
    "\n",
    "    VISUALIZAÇÃO - CADASTRO Nº {cadastro + 1}\n",
    "\n",
    "    Nome:          {lista[cadastro]['Nome']}\n",
    "    Lista de gols: {lista[cadastro]['Gols']}\n",
    "    Total de gols: {lista[cadastro]['Total']}\n",
    "    \n",
    "    \"\"\")\n",
    "    \n",
    "    if str(input('Deseja continuar? [S/N]: ')) in 'Nn':\n",
    "        print('\\nPrograma finalizado.\\n')\n",
    "        break\n",
    "        \n",
    "    "
   ]
  },
  {
   "cell_type": "code",
   "execution_count": 31,
   "id": "857558cf",
   "metadata": {},
   "outputs": [
    {
     "name": "stdout",
     "output_type": "stream",
     "text": [
      "\n",
      "CADASTRO Nº 1\n",
      "\n",
      "Insira o nome: Ana Maria Brega\n",
      "Sexo [M ou F]: Feminino\n",
      "Idade: 76\n",
      "Deseja continuar? [S ou N]: sim, claro\n",
      "\n",
      "CADASTRO Nº 2\n",
      "\n",
      "Insira o nome: Eugênio Da Roça\n",
      "Sexo [M ou F]: Macho\n",
      "Idade: 67\n",
      "Deseja continuar? [S ou N]: s\n",
      "\n",
      "CADASTRO Nº 3\n",
      "\n",
      "Insira o nome: Pipoquinha Saltitante\n",
      "Sexo [M ou F]: Não-binário Celestial\n",
      "Sexo [M ou F]: 😫\n",
      "Sexo [M ou F]: feminino\n",
      "Idade: 34\n",
      "Deseja continuar? [S ou N]: Sim, desde que haja cookies galácticos\n",
      "\n",
      "CADASTRO Nº 4\n",
      "\n",
      "Insira o nome: Hulk\n",
      "Sexo [M ou F]: Muito forte\n",
      "Idade: 108\n",
      "Deseja continuar? [S ou N]: n\n",
      "\n",
      "Programa finalizado.\n",
      "\n",
      "\n",
      "\n",
      "A) Cadastros: 4\n",
      "B) Média de idade: 71.25\n",
      "C) Mulheres cadastradas: ['Ana Maria Brega', 'Pipoquinha Saltitante']\n",
      "D) Pessoas com idade acima da média:\n",
      "\n",
      "\n",
      "Nome: Ana Maria Brega\n",
      "Idade: 76\n",
      "Sexo: F\n",
      "\n",
      "Nome: Hulk\n",
      "Idade: 108\n",
      "Sexo: M\n",
      "\n"
     ]
    },
    {
     "data": {
      "text/plain": [
       "[None, None]"
      ]
     },
     "execution_count": 31,
     "metadata": {},
     "output_type": "execute_result"
    }
   ],
   "source": [
    "# Ex 94: Unindo dicionários e listas\n",
    "# Mostrar:\n",
    "# Total de pessoas cadastradas\n",
    "# Média de idade\n",
    "# Nome das mulheres cadastradas\n",
    "# Pessoas que estão acima da média\n",
    "\n",
    "# Fiz vários testes para me certificar que a validação de dados funciona\n",
    "# Aviso: Alguns cadastros contém tom humorístico\n",
    "\n",
    "lista = []\n",
    "contador = 0\n",
    "ativo = True\n",
    "\n",
    "while ativo:\n",
    "    \n",
    "    contador += 1\n",
    "    \n",
    "    print(f'\\nCADASTRO Nº {contador}\\n')  \n",
    "    \n",
    "    nome = str(input('Insira o nome: '))\n",
    "    \n",
    "    sexo = ' '\n",
    "    while sexo not in 'MmFf':\n",
    "        sexo = str(input('Sexo [M ou F]: '))[0].upper()\n",
    "        \n",
    "    idade = int(input('Idade: '))\n",
    "    \n",
    "    dicionario = {'Nome': nome, 'Idade': idade, 'Sexo': sexo}\n",
    "    lista.append( dicionario )\n",
    "    \n",
    "    resposta = ' '\n",
    "    while resposta not in 'SsNn':\n",
    "        \n",
    "        resposta = str(input('Deseja continuar? [S ou N]: '))[0]\n",
    "        \n",
    "        if resposta in 'Nn':\n",
    "            \n",
    "            print('\\nPrograma finalizado.\\n')\n",
    "            ativo = False \n",
    "            \n",
    "cadastros = len( lista )\n",
    "media_de_idade = sum(  [v['Idade'] for v in lista]  ) / cadastros\n",
    "mulheres = [v['Nome'] for v in lista if v['Sexo'] in 'Ff']\n",
    "acima_da_media = [v for v in lista if v['Idade'] > media_de_idade]\n",
    "\n",
    "print(f\"\"\"\n",
    "A) Cadastros: {cadastros}\n",
    "B) Média de idade: {media_de_idade}\n",
    "C) Mulheres cadastradas: {mulheres}\n",
    "D) Pessoas com idade acima da média:\"\"\")\n",
    "\n",
    "[print(f\"Nome: {v['Nome']}\\nIdade: {v['Idade']}\\nSexo: {v['Sexo']}\\n\") for v in acima_da_media]"
   ]
  },
  {
   "cell_type": "code",
   "execution_count": 81,
   "id": "cc0b1382",
   "metadata": {},
   "outputs": [
    {
     "name": "stdout",
     "output_type": "stream",
     "text": [
      "\n",
      "CADASTRO Nº 1\n",
      "\n",
      "Insira o nome: Pelé\n",
      "Pelé jogou 1 jogo(s).\n",
      "Gol(s) no 1º jogo: 7\n",
      "Deseja continuar? [S/N]: s\n",
      "\n",
      "CADASTRO Nº 2\n",
      "\n",
      "Insira o nome: Garrincha\n",
      "Garrincha jogou 3 jogo(s).\n",
      "Gol(s) no 1º jogo: 4\n",
      "Gol(s) no 2º jogo: 2\n",
      "Gol(s) no 3º jogo: 3\n",
      "Deseja continuar? [S/N]: s\n",
      "\n",
      "CADASTRO Nº 3\n",
      "\n",
      "Insira o nome: Rivelino\n",
      "Rivelino jogou 2 jogo(s).\n",
      "Gol(s) no 1º jogo: 5\n",
      "Gol(s) no 2º jogo: 2\n",
      "Deseja continuar? [S/N]: n\n",
      "\n",
      "Programa finalizado.\n",
      "\n",
      "-=-=-=-=-=-=-=-=-=-=-=-=-=-=-=-=-=-=-=-=\n",
      "Cod  Nome                Gols                Total   Media\n",
      "  1  Pelé                [7]                 7         7.0\n",
      "  2  Garrincha           [4, 2, 3]           9         3.0\n",
      "  3  Rivelino            [5, 2]              7         3.5\n",
      "-=-=-=-=-=-=-=-=-=-=-=-=-=-=-=-=-=-=-=-=\n",
      "Qual número de cadastro você deseja visualizar? 3\n",
      "\n",
      "\n",
      "    VISUALIZAÇÃO - CADASTRO Nº 3\n",
      "\n",
      "    Nome:          Rivelino\n",
      "    Total de gols: 7\n",
      "    Média de gols: 3.5\n",
      "    \n",
      "    5 gol(s) no 1º jogo\n",
      "    2 gol(s) no 2º jogo\n",
      "Deseja continuar? [S/N]: s\n",
      "Qual número de cadastro você deseja visualizar? 1\n",
      "\n",
      "\n",
      "    VISUALIZAÇÃO - CADASTRO Nº 1\n",
      "\n",
      "    Nome:          Pelé\n",
      "    Total de gols: 7\n",
      "    Média de gols: 7.0\n",
      "    \n",
      "    7 gol(s) no 1º jogo\n",
      "Deseja continuar? [S/N]: n\n",
      "\n",
      "Programa finalizado.\n",
      "\n"
     ]
    }
   ],
   "source": [
    "# Ex 95: Aprimorando os Dicionários\n",
    "\n",
    "from random import randint\n",
    "\n",
    "lista = []\n",
    "\n",
    "contador = 0\n",
    "\n",
    "while True:\n",
    "    \n",
    "    contador += 1\n",
    "    print(f'\\nCADASTRO Nº {contador}\\n')\n",
    "    \n",
    "    nome = str(input('Insira o nome: '))\n",
    "    \n",
    "    gols = []\n",
    "    \n",
    "    jogos = randint(1, 5)\n",
    "    \n",
    "    print(f'{nome} jogou {jogos} jogo(s).')\n",
    "    \n",
    "    for jogo in range( jogos ):\n",
    "        \n",
    "        gols.append(  int(input(f'Gol(s) no {jogo+1}º jogo: '))  )\n",
    "        \n",
    "    dicionario = {'Nome': nome, 'Gols': gols, 'Total': sum(gols), 'Media': sum(gols) / len(gols) }\n",
    "    \n",
    "    lista.append( dicionario )\n",
    "    \n",
    "    if str(input('Deseja continuar? [S/N]: ')) in 'Nn':\n",
    "        print('\\nPrograma finalizado.\\n')\n",
    "        break\n",
    "\n",
    "print('-='*20)\n",
    "\n",
    "print('Cod  Nome                Gols                Total   Media')\n",
    "\n",
    "for i, d in enumerate(lista):\n",
    "    \n",
    "    print(f'  {i+1:<3}', end='')\n",
    "    print(f'{d[\"Nome\"]:<20}', end='')\n",
    "    print(f'{str(d[\"Gols\"]):<20}', end='')\n",
    "    print(f'{d[\"Total\"]:<10}', end='')\n",
    "    print(f'{d[\"Media\"]}')\n",
    "\n",
    "print('-='*20)\n",
    "\n",
    "while True:\n",
    "    \n",
    "    cadastro = int(input('Qual número de cadastro você deseja visualizar? ')) - 1\n",
    "\n",
    "    print(f\"\"\"\n",
    "\n",
    "    VISUALIZAÇÃO - CADASTRO Nº {cadastro + 1}\n",
    "\n",
    "    Nome:          {lista[cadastro]['Nome']}\n",
    "    Total de gols: {lista[cadastro]['Total']}\n",
    "    Média de gols: {lista[cadastro]['Media']}\n",
    "    \"\"\")\n",
    "    \n",
    "    for ind, v in enumerate(lista[cadastro]['Gols']):\n",
    "        print(f'    {v} gol(s) no {ind+1}º jogo')\n",
    "    \n",
    "    \n",
    "    \n",
    "    if str(input('Deseja continuar? [S/N]: ')) in 'Nn':\n",
    "        print('\\nPrograma finalizado.\\n')\n",
    "        break"
   ]
  },
  {
   "cell_type": "code",
   "execution_count": 84,
   "id": "641c58f6",
   "metadata": {},
   "outputs": [
    {
     "name": "stdout",
     "output_type": "stream",
     "text": [
      "Insira a largura: 10\n",
      "Insira o comprimento: 25.5\n",
      "10.00 x 25.50 equivale a 255.00m².\n"
     ]
    }
   ],
   "source": [
    "# Ex 96: Função que calcula área\n",
    "\n",
    "def calc_area(largura, comprimento):\n",
    "    print(f'{largura:.2f} x {comprimento:.2f} equivale a {largura * comprimento:.2f}m².')\n",
    "\n",
    "largura = float(input('Insira a largura: '))\n",
    "comprimento = float(input('Insira o comprimento: '))\n",
    "\n",
    "calc_area(largura, comprimento)"
   ]
  },
  {
   "cell_type": "code",
   "execution_count": 91,
   "id": "9d1842d6",
   "metadata": {},
   "outputs": [
    {
     "name": "stdout",
     "output_type": "stream",
     "text": [
      "Insira uma mensagem: Olá Mundo!\n",
      "----------\n",
      "Olá Mundo!\n",
      "----------\n"
     ]
    }
   ],
   "source": [
    "# Ex 97: Um print especial\n",
    "# O objetivo era fazer um print com linhas de separação que mudam de tamanho\n",
    "# de acordo com a mensagem usando uma função\n",
    "\n",
    "def escreva(msg):\n",
    "    print('-' * len(msg))\n",
    "    print(msg)\n",
    "    print('-'*len(msg))\n",
    "\n",
    "mensagem = str(input('Insira uma mensagem: '))\n",
    "\n",
    "escreva(mensagem)"
   ]
  },
  {
   "cell_type": "code",
   "execution_count": 104,
   "id": "2584b1d2",
   "metadata": {},
   "outputs": [
    {
     "name": "stdout",
     "output_type": "stream",
     "text": [
      "-=-=-=-=-=-=-=-=-=-=-=-=-=-=-=\n",
      "1 2 3 4 5 6 7 8 9 10 FIM\n",
      "-=-=-=-=-=-=-=-=-=-=-=-=-=-=-=\n",
      "10 9 8 7 6 5 4 3 2 1 FIM\n",
      "-=-=-=-=-=-=-=-=-=-=-=-=-=-=-=\n",
      "Insira o valor inicial: -10\n",
      "Insira o valor final: 10\n",
      "Insira o valor do passo: 2\n",
      "-10 -8 -6 -4 -2 0 2 4 6 8 10 FIM\n",
      "-=-=-=-=-=-=-=-=-=-=-=-=-=-=-=\n"
     ]
    }
   ],
   "source": [
    "# Ex 98: Função de Contador\n",
    "\n",
    "from time import sleep\n",
    "\n",
    "def lin():\n",
    "    print('-=' * 15)\n",
    "\n",
    "def contador(inicio, fim, passo = 1):\n",
    "    \n",
    "    for v in range(inicio, fim+passo, passo):\n",
    "        print(f'{v}', end=' ')\n",
    "        sleep(0.3)\n",
    "    print('FIM')\n",
    "    \n",
    "lin()\n",
    "contador(1, 10, 1)\n",
    "lin()\n",
    "contador(10, 1, -1)\n",
    "lin()\n",
    "\n",
    "v_inicial = int(input('Insira o valor inicial: '))\n",
    "v_final = int(input('Insira o valor final: '))\n",
    "v_passo = int(input('Insira o valor do passo: '))\n",
    "\n",
    "contador(v_inicial, v_final, v_passo)\n",
    "\n",
    "lin()"
   ]
  },
  {
   "cell_type": "code",
   "execution_count": 118,
   "id": "1c1e396b",
   "metadata": {},
   "outputs": [
    {
     "name": "stdout",
     "output_type": "stream",
     "text": [
      "3 1\n",
      "0 0\n"
     ]
    }
   ],
   "source": [
    "# Ex 99: Função que descobre o maior\n",
    "# É possível usar a função \"max\", mas fiz com if's para exercitar a lógica\n",
    "\n",
    "def maior(* numeros): # Desempacotamento de parâmetros\n",
    "    \n",
    "    maior = 0\n",
    "    menor = 0\n",
    "    \n",
    "    for i, v in enumerate(numeros):\n",
    "        \n",
    "        if i == 0:\n",
    "            maior = v\n",
    "            menor = v\n",
    "            continue # Palavra reservada que pula um laço de repetição\n",
    "        \n",
    "        maior = v if v > maior else maior\n",
    "        menor = v if v < menor else menor\n",
    "        \n",
    "    print(maior, menor)\n",
    "    \n",
    "maior(1, 2, 3, 2, 3)\n",
    "maior()"
   ]
  },
  {
   "cell_type": "code",
   "execution_count": 129,
   "id": "91e9221a",
   "metadata": {},
   "outputs": [
    {
     "name": "stdout",
     "output_type": "stream",
     "text": [
      "Números sorteados: [6, 7, 8, 9]\n",
      "Soma dos pares: 14\n"
     ]
    }
   ],
   "source": [
    "# Ex 100: Funções para sortear e somar\n",
    "# Somar os valores pares sorteados com funções\n",
    "\n",
    "from time import sleep\n",
    "from random import randint\n",
    "\n",
    "def sorteia_5(lista):\n",
    "    \n",
    "    for v in range(1, 5):\n",
    "        lista.append( randint(1, 10) )\n",
    "\n",
    "def soma_par(lista):\n",
    "\n",
    "    print('Soma dos pares:', sum([v for v in lista if v % 2 == 0]))\n",
    "    \n",
    "numeros = []\n",
    "sorteia_5(numeros)\n",
    "\n",
    "print('Números sorteados:', numeros)\n",
    "soma_par(numeros)"
   ]
  },
  {
   "cell_type": "code",
   "execution_count": 138,
   "id": "4b99cc94",
   "metadata": {},
   "outputs": [
    {
     "data": {
      "text/plain": [
       "'Com 34 anos: VOTO OBRIGATÓRIO'"
      ]
     },
     "execution_count": 138,
     "metadata": {},
     "output_type": "execute_result"
    }
   ],
   "source": [
    "# Ex 101: Funções para votação\n",
    "# Exercitando o uso da palavra reservada \"return\"\n",
    "\n",
    "from datetime import date\n",
    "\n",
    "def voto(ano_nascimento):\n",
    "    idade = date.today().year - ano_nascimento\n",
    "    \n",
    "    if idade < 16:\n",
    "        return f'Com {idade} anos: NÃO VOTA'\n",
    "    elif 18 <= idade <= 65:\n",
    "        return f'Com {idade} anos: VOTO OBRIGATÓRIO'\n",
    "    else:\n",
    "        return f'Com {idade} anos: VOTO OPCIONAL'\n",
    "\n",
    "ano_exemplo = 1989\n",
    "voto( ano_exemplo )   "
   ]
  },
  {
   "cell_type": "code",
   "execution_count": 156,
   "id": "dd8f2d78",
   "metadata": {},
   "outputs": [
    {
     "name": "stdout",
     "output_type": "stream",
     "text": [
      "Resultado: 120\n",
      "\n",
      "Help on function fatorial in module __main__:\n",
      "\n",
      "fatorial(num, mostrar=False)\n",
      "    -> Calcula o fatorial com base no valor passado como parâmetro.\n",
      "    :param num: Número que será usado no cálculo.\n",
      "    :param mostrar: (Opcional) Define se a conta será exibida.\n",
      "    :return: Valor do fatorial do número passado como parâmetro.\n",
      "\n"
     ]
    }
   ],
   "source": [
    "# Ex 102: Função para Fatorial\n",
    "\n",
    "def fatorial(num, mostrar=False):\n",
    "    \"\"\"\n",
    "    -> Calcula o fatorial com base no valor passado como parâmetro.\n",
    "    :param num: Número que será usado no cálculo.\n",
    "    :param mostrar: (Opcional) Define se a conta será exibida.\n",
    "    :return: Valor do fatorial do número passado como parâmetro.\n",
    "    \"\"\"\n",
    "    \n",
    "    resultado = 1\n",
    "    for v in range(num, 0, -1):\n",
    "        resultado *= v\n",
    "        \n",
    "        if mostrar:       \n",
    "            print(f'{v}', end=' x ') if v != 1 else print(f'1 = {resultado}')\n",
    "            \n",
    "    return resultado\n",
    "\n",
    "print('Resultado:', fatorial(5), end='\\n\\n')\n",
    "\n",
    "# Verificando se a documentação funcionou\n",
    "help(fatorial)"
   ]
  },
  {
   "cell_type": "code",
   "execution_count": 160,
   "id": "da8b2b95",
   "metadata": {},
   "outputs": [
    {
     "name": "stdout",
     "output_type": "stream",
     "text": [
      "Insira o nome: Pelé\n",
      "Quantidade de gols: 4\n",
      "O jogador Pelé fez 4 gol(s).\n"
     ]
    }
   ],
   "source": [
    "# Ex 103: Ficha do Jogador\n",
    "\n",
    "def ficha(jogador='<desconhecido>', gol=0):\n",
    "    print(f'O jogador {jogador} fez {gol} gol(s).')\n",
    "    \n",
    "nome = str(input('Insira o nome: '))\n",
    "gols = str(input('Quantidade de gols: '))\n",
    "\n",
    "gols = int(gols) if gols.isnumeric() else 0\n",
    "\n",
    "if nome.strip() == '':\n",
    "    ficha(gol = gols)\n",
    "else:\n",
    "    ficha(nome, gols)"
   ]
  },
  {
   "cell_type": "code",
   "execution_count": 166,
   "id": "b1e4eb2b",
   "metadata": {},
   "outputs": [
    {
     "name": "stdout",
     "output_type": "stream",
     "text": [
      "Insira um número: f\n",
      "\u001b[0;31mErro! Digite um número.\u001b[m\n",
      "Insira um número:  \n",
      "\u001b[0;31mErro! Digite um número.\u001b[m\n",
      "Insira um número: t\n",
      "\u001b[0;31mErro! Digite um número.\u001b[m\n",
      "Insira um número: =-7\n",
      "\u001b[0;31mErro! Digite um número.\u001b[m\n",
      "Insira um número: 5\n",
      "Número digitado: 5\n"
     ]
    }
   ],
   "source": [
    "# Ex 104: Validando entrada de dados em Python\n",
    "\n",
    "def lerInt(msg):\n",
    "    \n",
    "    if msg.isnumeric():\n",
    "        return num\n",
    "    \n",
    "    while not msg.isnumeric():\n",
    "        print('\\033[0;31mErro! Digite um número.\\033[m')\n",
    "        msg = input('Insira um número: ')\n",
    "    \n",
    "    return msg\n",
    "\n",
    "v = lerInt(input('Insira um número: '))\n",
    "\n",
    "print('Número digitado:', v)"
   ]
  },
  {
   "cell_type": "code",
   "execution_count": 171,
   "id": "f0cf68c3",
   "metadata": {},
   "outputs": [
    {
     "name": "stdout",
     "output_type": "stream",
     "text": [
      "{'Alunos': 5, 'Maior_nota': 9, 'Menor_nota': 7, 'Media_nota': 7.8, 'Situacao': 'Boa'}\n",
      "Help on function notas in module __main__:\n",
      "\n",
      "notas(*num, situacao=False)\n",
      "    -> Função para análise de notas e situações de alunos.\n",
      "    :param num: Uma ou mais notas de alunos.\n",
      "    :param situacao: (Opcional) Define se a situação deve ser calculada e mostrada.\n",
      "    :return: Dicionário com informações sobre a situação dos alunos.\n",
      "\n",
      "None\n"
     ]
    }
   ],
   "source": [
    "# Ex 105: Analisando e gerando Dicionários\n",
    "# Um dos objetivos é fazer a documentação da função\n",
    "def notas(* num, situacao=False):\n",
    "    \"\"\"\n",
    "    -> Função para análise de notas e situações de alunos.\n",
    "    :param num: Uma ou mais notas de alunos.\n",
    "    :param situacao: (Opcional) Define se a situação deve ser calculada e mostrada.\n",
    "    :return: Dicionário com informações sobre a situação dos alunos.\n",
    "    \"\"\"\n",
    "    \n",
    "    # Forma alternativa de inserir chaves no dicionário\n",
    "    dicionario = {}\n",
    "    dicionario['Alunos'] = len(num)\n",
    "    dicionario['Maior_nota'] = max(num)\n",
    "    dicionario['Menor_nota'] = min(num)\n",
    "    dicionario['Media_nota'] = sum(num) / len(num)\n",
    "    \n",
    "    if situacao:\n",
    "        if dicionario['Media_nota'] >= 7:\n",
    "            dicionario['Situacao'] = 'Boa'\n",
    "        elif dicionario['Media_nota'] >= 5:\n",
    "            dicionario['Situacao'] = 'Razoável'\n",
    "        else:\n",
    "            dicionario['Situacao'] = 'Ruim'\n",
    "    \n",
    "    return dicionario\n",
    "\n",
    "\n",
    "print( notas(7, 7, 9, 7, 9, situacao=True) )\n",
    "print( help(notas) )"
   ]
  },
  {
   "cell_type": "code",
   "execution_count": 177,
   "id": "20acbf36",
   "metadata": {},
   "outputs": [
    {
     "name": "stdout",
     "output_type": "stream",
     "text": [
      "Insira a biblioteca: help\n",
      "---------------------------------------\n",
      "Acessando instruções da bilioteca: help\n",
      "---------------------------------------\n",
      "Help on _Helper in module _sitebuiltins object:\n",
      "\n",
      "help = class _Helper(builtins.object)\n",
      " |  Define the builtin 'help'.\n",
      " |  \n",
      " |  This is a wrapper around pydoc.help that provides a helpful message\n",
      " |  when 'help' is typed at the Python interactive prompt.\n",
      " |  \n",
      " |  Calling help() at the Python prompt starts an interactive help session.\n",
      " |  Calling help(thing) prints help for the python object 'thing'.\n",
      " |  \n",
      " |  Methods defined here:\n",
      " |  \n",
      " |  __call__(self, *args, **kwds)\n",
      " |      Call self as a function.\n",
      " |  \n",
      " |  __repr__(self)\n",
      " |      Return repr(self).\n",
      " |  \n",
      " |  ----------------------------------------------------------------------\n",
      " |  Data descriptors defined here:\n",
      " |  \n",
      " |  __dict__\n",
      " |      dictionary for instance variables (if defined)\n",
      " |  \n",
      " |  __weakref__\n",
      " |      list of weak references to the object (if defined)\n",
      "\n",
      "Deseja continuar? [S/N]: n\n",
      "\n",
      "Programa finalizado.\n",
      "\n"
     ]
    }
   ],
   "source": [
    "# Ex 106: Sistema interativo de ajuda em Python\n",
    "\n",
    "def titulo(msg):\n",
    "    msg = 'Acessando instruções da bilioteca: ' + msg\n",
    "    print('-'*len(msg))\n",
    "    print(msg)\n",
    "    print('-'*len(msg))\n",
    "    \n",
    "while True:\n",
    "    biblioteca = str(input('Insira a biblioteca: '))\n",
    "    \n",
    "    titulo( biblioteca )\n",
    "    \n",
    "    help(biblioteca)\n",
    "    \n",
    "    if str(input('Deseja continuar? [S/N]: ')) in 'Nn':\n",
    "        print('\\nPrograma finalizado.\\n')\n",
    "        break"
   ]
  },
  {
   "cell_type": "code",
   "execution_count": null,
   "id": "c326671b",
   "metadata": {},
   "outputs": [],
   "source": [
    "# Ex 107: Exercitando módulos em Python\n",
    "\n",
    "from ex107 import moeda\n",
    "\n",
    "valor = float(input('Insira um valor: '))\n",
    "\n",
    "print(f'O dobo de {valor} equivale a {moeda.dobro(valor)}')\n",
    "print(f'A metade de {valor} equivale a {moeda.metade(valor)}')\n",
    "print(f'Aumentando 10%, temos o total de {moeda.aumentar(valor, 10):.2f}')\n",
    "print(f'Diminuindo 10%, temos o total de {moeda.diminuir(valor, 10):.2f}')"
   ]
  },
  {
   "cell_type": "code",
   "execution_count": null,
   "id": "89dc2bd9",
   "metadata": {},
   "outputs": [],
   "source": [
    "# Ex 108: Formatando Moedas em Python - Parte 1\n",
    "\n",
    "from ex108 import moeda\n",
    "\n",
    "valor = float(input('Insira um valor: '))\n",
    "\n",
    "print(f'O dobo de {valor} equivale a {moeda.moeda(moeda.dobro(valor))}')\n",
    "print(f'A metade de {valor} equivale a {moeda.moeda(moeda.metade(valor))}')\n",
    "print(f'Aumentando 10%, temos o total de {moeda.moeda(moeda.aumentar(valor, 10))}')\n",
    "print(f'Diminuindo 10%, temos o total de {moeda.moeda(moeda.diminuir(valor, 10))}')"
   ]
  },
  {
   "cell_type": "code",
   "execution_count": null,
   "id": "2624baeb",
   "metadata": {},
   "outputs": [],
   "source": [
    "# Ex 109: Formatando Moedas em Python - Parte 2\n",
    "# Objetivo: fazer o código ficar mais legível adicionando parâmetro \"formatar\" \n",
    "# às funções do módulo\n",
    "\n",
    "from ex109 import moeda\n",
    "\n",
    "valor = float(input('Insira um valor: '))\n",
    "\n",
    "print(f'O dobo de {valor} equivale a {moeda.dobro(valor, formatar=True)}')\n",
    "print(f'A metade de {valor} equivale a {moeda.metade(valor, formatar=True)}')\n",
    "print(f'Aumentando 10%, temos o total de {moeda.aumentar(valor, 10, formatar=True)}')\n",
    "print(f'Diminuindo 10%, temos o total de {moeda.diminuir(valor, 10, formatar=True)}')"
   ]
  },
  {
   "cell_type": "code",
   "execution_count": null,
   "id": "ad3b6470",
   "metadata": {},
   "outputs": [],
   "source": [
    "# Ex 110: Reduzindo ainda mais seu programa\n",
    "\n",
    "from ex109 import moeda\n",
    "\n",
    "valor = float(input('Insira um valor: '))\n",
    "\n",
    "print(f'O dobo de {valor} equivale a {moeda.dobro(valor, formatar=True)}')\n",
    "print(f'A metade de {valor} equivale a {moeda.metade(valor, formatar=True)}')\n",
    "print(f'Aumentando 10%, temos o total de {moeda.aumentar(valor, 10, formatar=True)}')\n",
    "print(f'Diminuindo 10%, temos o total de {moeda.diminuir(valor, 10, formatar=True)}')"
   ]
  },
  {
   "cell_type": "code",
   "execution_count": null,
   "id": "4a653056",
   "metadata": {},
   "outputs": [],
   "source": [
    "# Ex 111: Transformando módulos em pacotes\n",
    "\n",
    "from utilidadesCeV_ex111 import moeda\n",
    "\n",
    "valor = float(input('Insira um valor: '))\n",
    "\n",
    "print(f'O dobo de {valor} equivale a {moeda.dobro(valor, formatar=True)}')\n",
    "print(f'A metade de {valor} equivale a {moeda.metade(valor, formatar=True)}')\n",
    "print(f'Aumentando 10%, temos o total de {moeda.aumentar(valor, 10, formatar=True)}')\n",
    "print(f'Diminuindo 10%, temos o total de {moeda.diminuir(valor, 10, formatar=True)}')"
   ]
  },
  {
   "cell_type": "code",
   "execution_count": null,
   "id": "af12dd6a",
   "metadata": {},
   "outputs": [],
   "source": [
    "# Ex 112: Entrada de dados monetários\n",
    "# Obs: o objetivo era fazer uma função com input e \"validação\" de dados\n",
    "# É uma validação bem simples, apenas para exercitar a organização de módulos e pacotes\n",
    "\n",
    "from utilidadesCeV_ex112 import moeda, dado\n",
    "\n",
    "dado.ler_dinheiro(\"Insira um valor: \")"
   ]
  },
  {
   "cell_type": "code",
   "execution_count": 44,
   "id": "1a8e35ea",
   "metadata": {},
   "outputs": [
    {
     "name": "stdout",
     "output_type": "stream",
     "text": [
      "Insira um valor: a\n",
      "Valor inválido\n",
      "Insira um valor: gt\n",
      "Valor inválido\n",
      "Insira um valor:  \n",
      "Valor inválido\n",
      "Insira um valor: 4\n",
      "Número inteiro digitado: 4\n",
      "Insira um valor: a\n",
      "Valor inválido\n",
      "Insira um valor: w\n",
      "Valor inválido\n",
      "Insira um valor:  \n",
      "Valor inválido\n",
      "Programa interrompido pelo usuário.\n",
      "Insira um valor: 4.3\n",
      "Número float digitado: 4.3\n"
     ]
    }
   ],
   "source": [
    "# Ex 113: Funções aprofundadas em Python\n",
    "\n",
    "def ler_int(msg):\n",
    "    \n",
    "    while True:\n",
    "        try:\n",
    "            num = int(input(msg))\n",
    "        except (ValueError, TypeError):\n",
    "            print('Valor inválido')\n",
    "        except (KeyboardInterrupt):\n",
    "            print('Programa interrompido pelo usuário.')\n",
    "        else:\n",
    "            return num\n",
    "\n",
    "def ler_float(msg):\n",
    "    \n",
    "    while True:\n",
    "        try:\n",
    "            num = float(input(msg))\n",
    "        except (ValueError, TypeError):\n",
    "            print('Valor inválido')\n",
    "        except (KeyboardInterrupt):\n",
    "            print('Programa interrompido pelo usuário.')\n",
    "        else:\n",
    "            return num\n",
    "        \n",
    "numero = ler_int('Insira um valor: ')\n",
    "print('Número inteiro digitado:', numero)\n",
    "\n",
    "\n",
    "numero = ler_float('Insira um valor: ')\n",
    "print('Número float digitado:', numero)"
   ]
  },
  {
   "cell_type": "code",
   "execution_count": 63,
   "id": "53944700",
   "metadata": {},
   "outputs": [
    {
     "name": "stdout",
     "output_type": "stream",
     "text": [
      "Site acessível no momento.\n"
     ]
    }
   ],
   "source": [
    "# Ex 114: Site está acessível?\n",
    "\n",
    "import urllib\n",
    "\n",
    "try:\n",
    "    urllib.request.urlopen('http://www.pudim.com.br')\n",
    "except (urllib.error.URLError):\n",
    "    print('Site não acessível no momento.')\n",
    "else:\n",
    "    print('Site acessível no momento.')"
   ]
  },
  {
   "cell_type": "code",
   "execution_count": null,
   "id": "a6c8d667",
   "metadata": {},
   "outputs": [],
   "source": [
    "# Ex 115: Criando um menu em Python\n",
    "\n",
    "from ex115 import Arquivo as arq, Interface as i\n",
    "\n",
    "caminho = r'C:\\Users\\guilh\\PycharmProjects\\pythonProject\\ex115\\Arquivo\\arquivo.txt'\n",
    "\n",
    "while True:\n",
    "    opcao = i.menu('Ver', 'Cadastrar', 'Sair')\n",
    "    try:\n",
    "        opcao = int(opcao)\n",
    "    except:\n",
    "        print('Valor inválido. Tente novamente.')\n",
    "        continue\n",
    "\n",
    "    if opcao == 1:\n",
    "        print('Modo de exibição ativado.')\n",
    "        arq.formatar_visualizacao(caminho)\n",
    "    elif opcao == 2:\n",
    "        print('Modo de cadastro ativado.')\n",
    "        arq.cadastrar_usuario(caminho)\n",
    "    elif opcao == 3:\n",
    "        print('Sistema encerrado.')\n",
    "        break\n",
    "    else:\n",
    "        print('Valor inválido. Tente novamente.')\n",
    "\n"
   ]
  }
 ],
 "metadata": {
  "kernelspec": {
   "display_name": "Python 3 (ipykernel)",
   "language": "python",
   "name": "python3"
  },
  "language_info": {
   "codemirror_mode": {
    "name": "ipython",
    "version": 3
   },
   "file_extension": ".py",
   "mimetype": "text/x-python",
   "name": "python",
   "nbconvert_exporter": "python",
   "pygments_lexer": "ipython3",
   "version": "3.10.9"
  }
 },
 "nbformat": 4,
 "nbformat_minor": 5
}
