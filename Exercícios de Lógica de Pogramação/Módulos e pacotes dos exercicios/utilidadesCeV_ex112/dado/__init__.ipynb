{
 "cells": [
  {
   "cell_type": "code",
   "execution_count": 27,
   "id": "d3a078e7",
   "metadata": {},
   "outputs": [],
   "source": [
    "def ler_dinheiro(msg):\n",
    "    \n",
    "    entrada = ''\n",
    "    \n",
    "    valor_invalido = entrada.isalpha() or entrada == ''\n",
    "        \n",
    "    while valor_invalido:\n",
    "        \n",
    "        entrada = str(input(msg)).strip().replace(',', '.')\n",
    "\n",
    "        valor_invalido = entrada[0].isalpha() or entrada == ''\n",
    "\n",
    "        if valor_invalido:\n",
    "            print(f'ERRO! \"{entrada}\" não é uma entrada válida!')\n",
    "        else:\n",
    "            return float(entrada)\n",
    "\n",
    "\n",
    "def lerInt(msg):\n",
    "    \n",
    "    if msg.isnumeric():\n",
    "        return num\n",
    "    \n",
    "    while not msg.isnumeric():\n",
    "        print('\\033[0;31mErro! Digite um número.\\033[m')\n",
    "        msg = input('Insira um número: ')\n",
    "    \n",
    "    return msg\n",
    "\n",
    "v = lerInt(input('Insira um número: '))\n",
    "\n",
    "print('Número digitado:', v)"
   ]
  }
 ],
 "metadata": {
  "kernelspec": {
   "display_name": "Python 3 (ipykernel)",
   "language": "python",
   "name": "python3"
  },
  "language_info": {
   "codemirror_mode": {
    "name": "ipython",
    "version": 3
   },
   "file_extension": ".py",
   "mimetype": "text/x-python",
   "name": "python",
   "nbconvert_exporter": "python",
   "pygments_lexer": "ipython3",
   "version": "3.10.9"
  }
 },
 "nbformat": 4,
 "nbformat_minor": 5
}
